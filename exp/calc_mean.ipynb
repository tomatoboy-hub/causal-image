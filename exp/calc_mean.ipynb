{
 "cells": [
  {
   "cell_type": "code",
   "execution_count": 2,
   "metadata": {},
   "outputs": [
    {
     "name": "stdout",
     "output_type": "stream",
     "text": [
      "{'exp1': {'ATE': -0.22606548776589275, 'batch_size': 32, 'epochs': 3, 'model_name': 'Distilbert', 'seed': 42}, 'exp17': {'ATE': -0.22606548776589275, 'batch_size': 32, 'epochs': 3, 'model_name': 'Distilbert', 'seed': 42}, 'exp18': {'ATE': -0.24297059405460855, 'batch_size': 32, 'epochs': 3, 'model_name': 'Distilbert', 'seed': 123}, 'exp19': {'ATE': -0.23739119874636247, 'batch_size': 32, 'epochs': 3, 'model_name': 'Distilbert', 'seed': 456}, 'exp20': {'ATE': -0.23731968046653298, 'batch_size': 32, 'epochs': 3, 'model_name': 'Distilbert', 'seed': 789}, 'exp21': {'ATE': -0.20770726200258552, 'batch_size': 32, 'epochs': 3, 'model_name': 'Distilbert', 'seed': 1011}, 'exp22': {'ATE': -0.2464299084815954, 'batch_size': 32, 'epochs': 3, 'model_name': 'Distilbert', 'seed': 1213}, 'exp23': {'ATE': -0.23864385917064568, 'batch_size': 32, 'epochs': 3, 'model_name': 'Distilbert', 'seed': 1415}, 'exp24': {'ATE': -0.22002697196310192, 'batch_size': 32, 'epochs': 3, 'model_name': 'Distilbert', 'seed': 1617}, 'exp25': {'ATE': -0.2520177427085983, 'batch_size': 32, 'epochs': 3, 'model_name': 'Distilbert', 'seed': 1819}, 'exp26': {'ATE': -0.23816339162058955, 'batch_size': 32, 'epochs': 3, 'model_name': 'Distilbert', 'seed': 2021}, 'exp27': {'ATE': -0.258319232957179, 'batch_size': 32, 'epochs': 3, 'model_name': 'Distilbert', 'seed': 2223}, 'exp28': {'ATE': -0.24215822498584477, 'batch_size': 32, 'epochs': 3, 'model_name': 'Distilbert', 'seed': 2425}, 'exp29': {'ATE': -0.2236705208831343, 'batch_size': 32, 'epochs': 3, 'model_name': 'Distilbert', 'seed': 2627}, 'exp30': {'ATE': -0.2194916986450063, 'batch_size': 32, 'epochs': 3, 'model_name': 'Distilbert', 'seed': 2829}, 'exp31': {'ATE': -0.229951226318724, 'batch_size': 32, 'epochs': 3, 'model_name': 'Distilbert', 'seed': 3031}, 'exp32': {'ATE': -0.21684730122583376, 'batch_size': 32, 'epochs': 3, 'model_name': 'Distilbert', 'seed': 3233}, 'exp33': {'ATE': -0.2329710490812538, 'batch_size': 32, 'epochs': 3, 'model_name': 'Distilbert', 'seed': 3435}, 'exp34': {'ATE': -0.23199053419541257, 'batch_size': 32, 'epochs': 3, 'model_name': 'Distilbert', 'seed': 3637}, 'exp35': {'ATE': -0.2321221479053038, 'batch_size': 32, 'epochs': 3, 'model_name': 'Distilbert', 'seed': 3839}, 'exp36': {'ATE': -0.24482275612398458, 'batch_size': 32, 'epochs': 3, 'model_name': 'Distilbert', 'seed': 4041}}\n"
     ]
    }
   ],
   "source": [
    "import yaml \n",
    "import numpy as np\n",
    "with open('/root/graduation_thetis/causal-bert-pytorch/exp/bert_result_multi_seeds.yaml','r') as yml:\n",
    "    yaml_data = yaml.safe_load(yml)\n",
    "print(yaml_data)"
   ]
  },
  {
   "cell_type": "code",
   "execution_count": 5,
   "metadata": {},
   "outputs": [
    {
     "name": "stdout",
     "output_type": "stream",
     "text": [
      "eva_ate -0.23395403946510948 0.012210721128264873\n"
     ]
    }
   ],
   "source": [
    "bert_ate = []\n",
    "\n",
    "for k, v in yaml_data.items():\n",
    "    bert_ate.append(v['ATE'])\n",
    "print(\"eva_ate\", np.mean(bert_ate),np.std(bert_ate))"
   ]
  },
  {
   "cell_type": "code",
   "execution_count": null,
   "metadata": {},
   "outputs": [],
   "source": [
    "import numpy as np\n",
    "eva_ate = []\n",
    "vit_ate = []\n",
    "eff_ate = []\n",
    "for k,v in yaml_data.items():\n",
    "    if v['model_name'] == 'timm/eva02_tiny_patch14_224.mim_in22k':\n",
    "        eva_ate.append(v['ATE'])\n",
    "    if v['model_name'] == 'timm/efficientvit_m2.r224_in1k':\n",
    "        eff_ate.append(v['ATE'])\n",
    "    if v['model_name'] == 'timm/vit_base_patch32_clip_224.laion2b_ft_in12k_in1k':\n",
    "        vit_ate.append(v['ATE'])\n",
    "\n",
    "print(\"eva_ate\", np.mean(eva_ate),np.std(eva_ate))\n",
    "print(\"vit_ate\", np.mean(vit_ate),np.std(vit_ate))\n",
    "print(\"eff_ate\", np.mean(eff_ate),np.std(eff_ate))"
   ]
  },
  {
   "cell_type": "code",
   "execution_count": 3,
   "metadata": {},
   "outputs": [],
   "source": [
    "import pandas as pd\n",
    "df = pd.read_csv('/root/graduation_thetis/causal-bert-pytorch/testdata.csv')"
   ]
  },
  {
   "cell_type": "code",
   "execution_count": 5,
   "metadata": {},
   "outputs": [
    {
     "data": {
      "text/plain": [
       "C\n",
       "1    10291\n",
       "0     8112\n",
       "Name: count, dtype: int64"
      ]
     },
     "execution_count": 5,
     "metadata": {},
     "output_type": "execute_result"
    }
   ],
   "source": [
    "df[\"C\"].value_counts()"
   ]
  },
  {
   "cell_type": "code",
   "execution_count": null,
   "metadata": {},
   "outputs": [],
   "source": []
  }
 ],
 "metadata": {
  "kernelspec": {
   "display_name": ".venv",
   "language": "python",
   "name": "python3"
  },
  "language_info": {
   "codemirror_mode": {
    "name": "ipython",
    "version": 3
   },
   "file_extension": ".py",
   "mimetype": "text/x-python",
   "name": "python",
   "nbconvert_exporter": "python",
   "pygments_lexer": "ipython3",
   "version": "3.8.10"
  }
 },
 "nbformat": 4,
 "nbformat_minor": 2
}
