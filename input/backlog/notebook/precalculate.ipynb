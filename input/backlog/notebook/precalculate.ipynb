{
 "cells": [
  {
   "cell_type": "code",
   "execution_count": 3,
   "metadata": {},
   "outputs": [],
   "source": [
    "import pandas as pd\n",
    "import numpy as np\n",
    "import torch"
   ]
  },
  {
   "cell_type": "code",
   "execution_count": 4,
   "metadata": {},
   "outputs": [],
   "source": [
    "df = pd.read_csv(\"watch_train.csv\")"
   ]
  },
  {
   "cell_type": "code",
   "execution_count": null,
   "metadata": {},
   "outputs": [],
   "source": [
    "df.columns"
   ]
  },
  {
   "cell_type": "markdown",
   "metadata": {},
   "source": [
    "## 傾向スコアの計算"
   ]
  },
  {
   "cell_type": "code",
   "execution_count": null,
   "metadata": {},
   "outputs": [],
   "source": [
    "df.price_ave"
   ]
  },
  {
   "cell_type": "code",
   "execution_count": null,
   "metadata": {},
   "outputs": [],
   "source": [
    "df.light_or_dark"
   ]
  },
  {
   "cell_type": "code",
   "execution_count": null,
   "metadata": {},
   "outputs": [],
   "source": [
    "\n",
    "# 'light_or_dark'が'dark'である行をフィルタリング\n",
    "dark_data = df[df['light_or_dark'] == 1]\n",
    "# 'prive_ave'が1である行の割合を計算\n",
    "probability = (dark_data['price_ave'] == 1).mean()\n",
    "\n",
    "print(f\"light_or_darkがdarkであるもののうち、prive_aveが1である確率: {probability}\")"
   ]
  },
  {
   "cell_type": "code",
   "execution_count": null,
   "metadata": {},
   "outputs": [],
   "source": [
    "# 'light_or_dark'が'dark'である行をフィルタリング\n",
    "dark_data = df[df['light_or_dark'] == 0]\n",
    "# 'prive_ave'が1である行の割合を計算\n",
    "probability = (dark_data['price_ave'] == 1).mean()\n",
    "\n",
    "print(f\"light_or_darkがlightであるもののうち、prive_aveが1である確率: {probability}\")"
   ]
  },
  {
   "cell_type": "markdown",
   "metadata": {},
   "source": [
    "## 結果のシミュレーション"
   ]
  },
  {
   "cell_type": "code",
   "execution_count": 6,
   "metadata": {},
   "outputs": [],
   "source": [
    "price_ave_given_dark_probs = np.array([0.29,0.33])"
   ]
  },
  {
   "cell_type": "code",
   "execution_count": 33,
   "metadata": {},
   "outputs": [],
   "source": [
    "def outcome_sim(beta0, beta1, gamma, treatment, confounding, noise, setting = \"simple\"):\n",
    "    if setting == \"simple\":\n",
    "        y0 = beta1 * confounding\n",
    "        y1 = beta0 * y0\n",
    "\n",
    "        simulated_score = (1. - treatment) * y0 + treatment * y1 + gamma * noise\n",
    "    return simulated_score, y0,y1\n",
    "import numpy.random as random\n",
    "from scipy.special import expit\n",
    "def make_price_dark_probs(df,treat_strength,con_strength, noise_level, setting = \"simple\", seed = 0):\n",
    "    price_ave_given_dark_probs = np.array([0.29,0.33])\n",
    "\n",
    "    np.random.seed(seed)\n",
    "    all_noise = np.array(random.normal(0,1,len(df)), dtype = np.float32)\n",
    "    all_thresholds = np.array(random.uniform(0,1,len(df)), dtype = np.float32)\n",
    "    \n",
    "    outcomes = []\n",
    "    y0s = []\n",
    "    y1s = []\n",
    "\n",
    "    for i, data in df.iterrows():\n",
    "        light_or_dark = 1 if data[\"light_or_dark\"] == \"light\" else 0\n",
    "        treatment = data[\"price_ave\"]\n",
    "\n",
    "        confounding = 3.0 * (price_ave_given_dark_probs[light_or_dark] - 0.25)\n",
    "        noise = all_noise[i]\n",
    "        y,y0,y1 = outcome_sim(treat_strength, con_strength, noise_level,treatment, confounding, noise, setting = setting)\n",
    "        print(y,y0,y1)\n",
    "        simulated_prob = expit(y)\n",
    "        y0 = expit(y0)\n",
    "        y1 = expit(y1)\n",
    "        threshold = all_thresholds[i]\n",
    "        simulated_outcome = 1 if simulated_prob > threshold else 0\n",
    "        outcomes.append(simulated_outcome)\n",
    "        y0s.append(y0)\n",
    "        y1s.append(y1)\n",
    "        \n",
    "    df['outcome'] = outcomes\n",
    "    df['y0'] = y0s\n",
    "    df['y1'] = y1s\n",
    "    return df"
   ]
  },
  {
   "cell_type": "code",
   "execution_count": null,
   "metadata": {},
   "outputs": [],
   "source": [
    "df = make_price_dark_probs(df,0.5, 5.0,0.0,\"simple\", 0)"
   ]
  },
  {
   "cell_type": "code",
   "execution_count": null,
   "metadata": {},
   "outputs": [],
   "source": [
    "df.outcome.value_counts()"
   ]
  },
  {
   "cell_type": "code",
   "execution_count": null,
   "metadata": {},
   "outputs": [],
   "source": [
    "import matplotlib.pyplot as plt\n",
    "plt.hist(df[\"y1\"],bins=20)"
   ]
  },
  {
   "cell_type": "code",
   "execution_count": 38,
   "metadata": {},
   "outputs": [],
   "source": [
    "df.to_csv(\"outputs_v4.csv\",index = None)"
   ]
  },
  {
   "cell_type": "code",
   "execution_count": null,
   "metadata": {},
   "outputs": [],
   "source": [
    "df.head()"
   ]
  },
  {
   "cell_type": "code",
   "execution_count": null,
   "metadata": {},
   "outputs": [],
   "source": []
  }
 ],
 "metadata": {
  "kernelspec": {
   "display_name": ".venv",
   "language": "python",
   "name": "python3"
  },
  "language_info": {
   "codemirror_mode": {
    "name": "ipython",
    "version": 3
   },
   "file_extension": ".py",
   "mimetype": "text/x-python",
   "name": "python",
   "nbconvert_exporter": "python",
   "pygments_lexer": "ipython3",
   "version": "3.8.10"
  }
 },
 "nbformat": 4,
 "nbformat_minor": 2
}
