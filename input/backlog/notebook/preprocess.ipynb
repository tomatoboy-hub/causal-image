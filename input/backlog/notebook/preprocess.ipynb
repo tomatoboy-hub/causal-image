{
 "cells": [
  {
   "cell_type": "markdown",
   "metadata": {},
   "source": [
    "## preprocess.ipynb\n",
    "これはcsvファイルの前処理用のNotebookです"
   ]
  },
  {
   "cell_type": "code",
   "execution_count": 1,
   "metadata": {},
   "outputs": [],
   "source": [
    "import sys\n",
    "sys.path.append(\"../../\")\n",
    "sys.path.append(\"../../../\")"
   ]
  },
  {
   "cell_type": "code",
   "execution_count": null,
   "metadata": {},
   "outputs": [],
   "source": [
    "import os\n",
    "from PIL import Image\n",
    "from torchvision import transforms\n",
    "import pandas as pd\n",
    "import torch\n",
    "import timm\n",
    "import pickle\n",
    "from torch import nn"
   ]
  },
  {
   "cell_type": "code",
   "execution_count": 3,
   "metadata": {},
   "outputs": [],
   "source": [
    "df = pd.read_csv(\"./watch_img.csv\")"
   ]
  },
  {
   "cell_type": "code",
   "execution_count": null,
   "metadata": {},
   "outputs": [],
   "source": [
    "df.head()"
   ]
  },
  {
   "cell_type": "code",
   "execution_count": null,
   "metadata": {},
   "outputs": [],
   "source": [
    "df[\"img_path\"]"
   ]
  },
  {
   "cell_type": "markdown",
   "metadata": {},
   "source": [
    "## csvの画像以外の前処理"
   ]
  },
  {
   "cell_type": "code",
   "execution_count": 8,
   "metadata": {},
   "outputs": [],
   "source": [
    "def preprocessing(input_df):\n",
    "    def price2yen(input_df):\n",
    "        output = input_df.copy()\n",
    "        output = output.dropna(subset=[\"actual_price\"])\n",
    "        output[\"actual_price\"] = output[\"actual_price\"].str.strip(\"₹\")\n",
    "        output[\"actual_price\"] = output[\"actual_price\"].str.replace(\",\",\"\").astype(float)\n",
    "        output[\"actual_price_yen\"] = output[\"actual_price\"] * 110\n",
    "        return output\n",
    "    \n",
    "    def no_of_rate(input_df):\n",
    "        output = input_df.copy()\n",
    "        output = output.dropna(subset=[\"no_of_ratings\"])\n",
    "        #文字情報が含まれている場合、エラーが発生する可能性があるため、エラーハンドリングを追加\n",
    "        output[\"no_of_ratings\"] = pd.to_numeric(output[\"no_of_ratings\"].str.replace(\",\",\"\"), errors='coerce').fillna(0).astype(int)\n",
    "        return output\n",
    "    \n",
    "    def img_path(input_df):\n",
    "        output = input_df.copy()\n",
    "        output = output.dropna(subset=[\"img_path\"])\n",
    "        return output\n",
    "    \n",
    "    output = price2yen(input_df)\n",
    "    output = no_of_rate(output)\n",
    "    output = img_path(output)\n",
    "    return output"
   ]
  },
  {
   "cell_type": "code",
   "execution_count": 9,
   "metadata": {},
   "outputs": [],
   "source": [
    "output_df = preprocessing(df)"
   ]
  },
  {
   "cell_type": "code",
   "execution_count": null,
   "metadata": {},
   "outputs": [],
   "source": [
    "len(output_df)"
   ]
  },
  {
   "cell_type": "code",
   "execution_count": null,
   "metadata": {},
   "outputs": [],
   "source": [
    "output_df.head()"
   ]
  },
  {
   "cell_type": "code",
   "execution_count": null,
   "metadata": {},
   "outputs": [],
   "source": [
    "output_df[\"img_path\"].isnull().sum()"
   ]
  },
  {
   "cell_type": "code",
   "execution_count": 14,
   "metadata": {},
   "outputs": [],
   "source": [
    "output_df.to_csv(\"./watch_preprocess.csv\",index = False)"
   ]
  },
  {
   "cell_type": "markdown",
   "metadata": {},
   "source": [
    "## 画像部分のembedding作成"
   ]
  },
  {
   "cell_type": "code",
   "execution_count": 56,
   "metadata": {},
   "outputs": [],
   "source": [
    "output_df = pd.read_csv(\"./All Appliances_preprocess.csv\")"
   ]
  },
  {
   "cell_type": "code",
   "execution_count": null,
   "metadata": {},
   "outputs": [],
   "source": [
    "output_df.head()"
   ]
  },
  {
   "cell_type": "code",
   "execution_count": null,
   "metadata": {},
   "outputs": [],
   "source": [
    "preprocess = transforms.Compose([\n",
    "    transforms.Resize(256),\n",
    "    transforms.CenterCrop(224),\n",
    "    transforms.ToTensor(),\n",
    "    transforms.Normalize(mean=[0.485, 0.456, 0.406], std=[0.229, 0.224, 0.225]),\n",
    "])\n",
    "\n",
    "image_folder = '/root/graduation_thetis/causal-bert-pytorch/input/images'\n",
    "embedding_folder = '/root/graduation_thetis/causal-bert-pytorch/input/embeddings'\n",
    "\n",
    "model = timm.create_model('resnet50', pretrained=True,num_classes = 0)\n",
    "model.eval()\n",
    "\n",
    "for i, row in output_df.iterrows():\n",
    "    img_path = row[\"img_path\"]\n",
    "    if img_path != None:\n",
    "        img = Image.open(img_path).convert(\"RGB\")\n",
    "        img_tensor = preprocess(img).unsqueeze(0)\n",
    "        if torch.cuda.is_available():\n",
    "            model.cuda()\n",
    "            img_tensor = img_tensor.cuda()\n",
    "\n",
    "        # Generate embedding\n",
    "        with torch.no_grad():\n",
    "            embedding = model(img_tensor)\n",
    "        \n",
    "        # Convert embedding to numpy and save as pickle file\n",
    "        embedding_np = embedding.cpu().numpy()\n",
    "        embedding_path = os.path.join(embedding_folder, f\"embedding_{i}.pkl\")\n",
    "        \n",
    "        with open(embedding_path, 'wb') as f:\n",
    "            pickle.dump(embedding_np, f)\n",
    "        \n",
    "        # Save the path of the embedding file to the DataFrame\n",
    "        output_df.at[i, 'embedding_path'] = embedding_path\n",
    "\n",
    "        # Print for confirmation\n",
    "        print(f\"Saved embedding for {img_path} at {embedding_path}\")"
   ]
  },
  {
   "cell_type": "code",
   "execution_count": 59,
   "metadata": {},
   "outputs": [],
   "source": [
    "output_df.to_csv(\"preprocessed.csv\",index = False)"
   ]
  },
  {
   "cell_type": "markdown",
   "metadata": {},
   "source": [
    "## embeddingと合わせて交絡を作成する"
   ]
  },
  {
   "cell_type": "code",
   "execution_count": 1,
   "metadata": {},
   "outputs": [],
   "source": [
    "import pickle"
   ]
  },
  {
   "cell_type": "code",
   "execution_count": 5,
   "metadata": {},
   "outputs": [],
   "source": [
    "df = pd.read_csv(\"preprocessed.csv\")"
   ]
  },
  {
   "cell_type": "code",
   "execution_count": 6,
   "metadata": {},
   "outputs": [],
   "source": [
    "# 2048次元の埋め込みベクトルを1次元に縮約\n",
    "class EmbeddingReducer(nn.Module):\n",
    "    def __init__(self):\n",
    "        super(EmbeddingReducer, self).__init__()\n",
    "        self.fc = nn.Linear(2048, 1)\n",
    "\n",
    "    def forward(self, x):\n",
    "        return self.fc(x)"
   ]
  },
  {
   "cell_type": "code",
   "execution_count": null,
   "metadata": {},
   "outputs": [],
   "source": [
    "embedding"
   ]
  },
  {
   "cell_type": "code",
   "execution_count": null,
   "metadata": {},
   "outputs": [],
   "source": [
    "import numpy as np\n",
    "for i,row in df.iterrows():\n",
    "    with open(row['embedding_path'], 'rb') as f:\n",
    "        embedding = pickle.load(f)\n",
    "        scaler = np.dot(embedding,embedding.T)\n",
    "        print(scaler.shape)\n",
    "        df.at[i,\"embedding\"] = scaler\n",
    "scaler"
   ]
  },
  {
   "cell_type": "code",
   "execution_count": null,
   "metadata": {},
   "outputs": [],
   "source": [
    "df[\"embedding\"].mean()"
   ]
  },
  {
   "cell_type": "markdown",
   "metadata": {},
   "source": [
    "## 処置変数を作成する"
   ]
  },
  {
   "cell_type": "code",
   "execution_count": null,
   "metadata": {},
   "outputs": [],
   "source": [
    "output_df[\"actual_price_yen\"].max()"
   ]
  },
  {
   "cell_type": "code",
   "execution_count": null,
   "metadata": {},
   "outputs": [],
   "source": [
    "import matplotlib.pyplot as plt\n",
    "import seaborn as sns\n",
    "\n",
    "# 箱ひげ図の作成\n",
    "plt.figure(figsize=(10, 6))\n",
    "sns.boxplot(x=output_df[\"actual_price_yen\"])\n",
    "plt.title('Actual Price Yen Distribution - Box Plot')\n",
    "plt.xlabel('Actual Price Yen')\n",
    "plt.show()"
   ]
  },
  {
   "cell_type": "code",
   "execution_count": null,
   "metadata": {},
   "outputs": [],
   "source": [
    "import matplotlib.pyplot as plt\n",
    "import seaborn as sns\n",
    "\n",
    "# 四分位範囲（IQR）の計算\n",
    "Q1 = output_df[\"actual_price_yen\"].quantile(0.25)\n",
    "Q3 = output_df[\"actual_price_yen\"].quantile(0.75)\n",
    "IQR = Q3 - Q1\n",
    "\n",
    "# 外れ値の閾値を設定\n",
    "lower_bound = Q1 - 1.5 * IQR\n",
    "upper_bound = Q3 + 1.5 * IQR\n",
    "\n",
    "# 外れ値を除去\n",
    "filtered_df = output_df[(output_df[\"actual_price_yen\"] >= lower_bound) & (output_df[\"actual_price_yen\"] <= upper_bound)]\n",
    "\n",
    "# 箱ひげ図の作成\n",
    "plt.figure(figsize=(10, 6))\n",
    "sns.boxplot(x=filtered_df[\"actual_price_yen\"])\n",
    "plt.title('Actual Price Yen Distribution - Box Plot (Outliers Removed)')\n",
    "plt.xlabel('Actual Price Yen')\n",
    "plt.show()"
   ]
  },
  {
   "cell_type": "code",
   "execution_count": null,
   "metadata": {},
   "outputs": [],
   "source": []
  },
  {
   "cell_type": "code",
   "execution_count": null,
   "metadata": {},
   "outputs": [],
   "source": [
    "# \"actual_price_yen\"の平均を計算\n",
    "mean_price = filtered_df[\"actual_price_yen\"].mean()\n",
    "\n",
    "# \"price_ave\"列を追加\n",
    "filtered_df[\"price_ave\"] = filtered_df[\"actual_price_yen\"].apply(lambda x: 1 if x > mean_price else 0)"
   ]
  },
  {
   "cell_type": "code",
   "execution_count": null,
   "metadata": {},
   "outputs": [],
   "source": [
    "filtered_df[\"price_ave\"].value_counts()"
   ]
  },
  {
   "cell_type": "code",
   "execution_count": 27,
   "metadata": {},
   "outputs": [],
   "source": [
    "df = filtered_df.copy()"
   ]
  },
  {
   "cell_type": "code",
   "execution_count": 45,
   "metadata": {},
   "outputs": [],
   "source": [
    "theta = 0.5\n",
    "df[\"output\"] = theta * df[\"price_ave\"] + 0.3 * df[\"no_of_ratings\"] + df[\"embedding\"]"
   ]
  },
  {
   "cell_type": "code",
   "execution_count": 29,
   "metadata": {},
   "outputs": [],
   "source": [
    "df.to_csv(\"./watch_outputs.csv\")"
   ]
  },
  {
   "cell_type": "markdown",
   "metadata": {},
   "source": [
    "## outputsを2値分類する必要ある? "
   ]
  },
  {
   "cell_type": "code",
   "execution_count": 30,
   "metadata": {},
   "outputs": [],
   "source": [
    "df = pd.read_csv(\"./watch_outputs.csv\")"
   ]
  },
  {
   "cell_type": "code",
   "execution_count": null,
   "metadata": {},
   "outputs": [],
   "source": [
    "df.head()"
   ]
  },
  {
   "cell_type": "code",
   "execution_count": 7,
   "metadata": {},
   "outputs": [],
   "source": [
    "mean = df[\"output\"].mean()\n",
    "\n",
    "df[\"output_2v\"] = df[\"output\"].apply(lambda x : 1 if x > mean else 0)"
   ]
  },
  {
   "cell_type": "code",
   "execution_count": null,
   "metadata": {},
   "outputs": [],
   "source": [
    "df[\"output_2v\"].value_counts()"
   ]
  },
  {
   "cell_type": "code",
   "execution_count": null,
   "metadata": {},
   "outputs": [],
   "source": [
    "import matplotlib.pyplot as plt\n",
    "plt.hist(df[\"output\"])"
   ]
  },
  {
   "cell_type": "code",
   "execution_count": null,
   "metadata": {},
   "outputs": [],
   "source": []
  },
  {
   "cell_type": "code",
   "execution_count": 15,
   "metadata": {},
   "outputs": [],
   "source": [
    "df.to_csv(\"outputs_v2.csv\")"
   ]
  },
  {
   "cell_type": "markdown",
   "metadata": {},
   "source": [
    "## 2値分類の方式を変える\n",
    "画像の白っぽいor黒っぽいを交絡変数としてみる"
   ]
  },
  {
   "cell_type": "code",
   "execution_count": 32,
   "metadata": {},
   "outputs": [],
   "source": [
    "df = pd.read_csv(\"/root/graduation_thetis/causal-bert-pytorch/input/watch_outputs.csv\")"
   ]
  },
  {
   "cell_type": "code",
   "execution_count": 33,
   "metadata": {},
   "outputs": [],
   "source": [
    "from PIL import Image\n",
    "import numpy as np\n",
    "\n",
    "def is_dark_or_light(image_path, threshold=160):\n",
    "    # 画像を読み込んでRGBに変換\n",
    "    img = Image.open(image_path).convert('RGB')\n",
    "    \n",
    "    # 画像をNumPy配列に変換\n",
    "    img_np = np.array(img)\n",
    "    \n",
    "    # 輝度の計算 (R, G, B の加重平均)\n",
    "    brightness = 0.299 * img_np[:,:,0] + 0.587 * img_np[:,:,1] + 0.114 * img_np[:,:,2]\n",
    "    \n",
    "    # 画像全体の平均輝度を計算\n",
    "    avg_brightness = np.mean(brightness)\n",
    "    \n",
    "    print(f\"平均輝度: {avg_brightness}\")\n",
    "    \n",
    "    # 平均輝度が閾値より低ければ「黒っぽい」、高ければ「白っぽい」\n",
    "    if avg_brightness < threshold:\n",
    "        print(\"画像は黒っぽいです。\")\n",
    "        return \"dark\"\n",
    "    else:\n",
    "        print(\"画像は白っぽいです。\")\n",
    "        return \"light\"\n",
    "    \n",
    "\n",
    "def brightness(image_path, threshold=160):\n",
    "    # 画像を読み込んでRGBに変換\n",
    "    img = Image.open(image_path).convert('RGB')\n",
    "    \n",
    "    # 画像をNumPy配列に変換\n",
    "    img_np = np.array(img)\n",
    "    \n",
    "    # 輝度の計算 (R, G, B の加重平均)\n",
    "    brightness = 0.299 * img_np[:,:,0] + 0.587 * img_np[:,:,1] + 0.114 * img_np[:,:,2]\n",
    "    \n",
    "    # 画像全体の平均輝度を計算\n",
    "    avg_brightness = np.mean(brightness)\n",
    "    \n",
    "    print(f\"平均輝度: {avg_brightness}\")\n",
    "    \n",
    "    return avg_brightness\n",
    "\n"
   ]
  },
  {
   "cell_type": "code",
   "execution_count": null,
   "metadata": {},
   "outputs": [],
   "source": [
    "df[\"brightness\"] = df[\"img_path\"].apply(brightness)"
   ]
  },
  {
   "cell_type": "code",
   "execution_count": null,
   "metadata": {},
   "outputs": [],
   "source": [
    "df[\"light_or_dark\"] = df[\"img_path\"].apply(is_dark_or_light)"
   ]
  },
  {
   "cell_type": "code",
   "execution_count": 39,
   "metadata": {},
   "outputs": [],
   "source": [
    "df[\"light_or_dark\"] = df[\"light_or_dark\"].apply(lambda x : 1 if x == \"light\" else 0)"
   ]
  },
  {
   "cell_type": "code",
   "execution_count": null,
   "metadata": {},
   "outputs": [],
   "source": [
    "df[\"light_or_dark\"].value_counts()"
   ]
  },
  {
   "cell_type": "code",
   "execution_count": 40,
   "metadata": {},
   "outputs": [],
   "source": [
    "df.to_csv(\"watch_train.csv\",index = None, )"
   ]
  },
  {
   "cell_type": "code",
   "execution_count": null,
   "metadata": {},
   "outputs": [],
   "source": [
    "import matplotlib.pyplot as plt\n",
    "plt.hist(df[\"brightness\"])"
   ]
  },
  {
   "cell_type": "code",
   "execution_count": null,
   "metadata": {},
   "outputs": [],
   "source": [
    "df"
   ]
  },
  {
   "cell_type": "code",
   "execution_count": null,
   "metadata": {},
   "outputs": [],
   "source": [
    "df.light_or_dark.value_counts()"
   ]
  },
  {
   "cell_type": "code",
   "execution_count": null,
   "metadata": {},
   "outputs": [],
   "source": [
    "for i, row in df[df[\"light_or_dark\"] == \"dark\"].iterrows():\n",
    "    img_path = row[\"img_path\"]\n",
    "    print(img_path)\n",
    "    Image.open(img_path)"
   ]
  },
  {
   "cell_type": "code",
   "execution_count": null,
   "metadata": {},
   "outputs": [],
   "source": []
  }
 ],
 "metadata": {
  "kernelspec": {
   "display_name": ".venv",
   "language": "python",
   "name": "python3"
  },
  "language_info": {
   "codemirror_mode": {
    "name": "ipython",
    "version": 3
   },
   "file_extension": ".py",
   "mimetype": "text/x-python",
   "name": "python",
   "nbconvert_exporter": "python",
   "pygments_lexer": "ipython3",
   "version": "3.8.10"
  }
 },
 "nbformat": 4,
 "nbformat_minor": 2
}
