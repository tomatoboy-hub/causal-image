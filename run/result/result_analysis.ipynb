{
 "cells": [
  {
   "cell_type": "code",
   "execution_count": 1,
   "metadata": {},
   "outputs": [
    {
     "name": "stdout",
     "output_type": "stream",
     "text": [
      "{'exp1': {'ATE': -0.21721588265827835, 'batch_size': 32, 'desc': 'con:sharpness_ave, treat: 0.8, confound: 10.0, aug none', 'epochs': 3, 'model_name': 'timm/eva02_tiny_patch14_224.mim_in22k', 'seed': 42}, 'exp10': {'ATE': -0.0652305360370374, 'batch_size': 32, 'desc': 'con:sharpness_ave, treat: 0.8, confound: 10.0, aug none', 'epochs': 3, 'model_name': 'timm/eva02_tiny_patch14_224.mim_in22k', 'seed': 2021}, 'exp100': {'ATE': -0.12206673538562794, 'batch_size': 32, 'desc': 'con:sharpness_ave, treat: 0.8, confound: 10.0, aug none', 'epochs': 3, 'model_name': 'timm/vit_base_patch32_clip_224.laion2b_ft_in12k_in1k', 'seed': 4041}, 'exp101': {'ATE': -0.18041791496669363, 'batch_size': 32, 'desc': 'con:sharpness_ave, treat: 0.8, confound: 10.0, aug none', 'epochs': 5, 'model_name': 'timm/vit_base_patch32_clip_224.laion2b_ft_in12k_in1k', 'seed': 42}, 'exp102': {'ATE': -0.11526768056094379, 'batch_size': 32, 'desc': 'con:sharpness_ave, treat: 0.8, confound: 10.0, aug none', 'epochs': 5, 'model_name': 'timm/vit_base_patch32_clip_224.laion2b_ft_in12k_in1k', 'seed': 123}, 'exp103': {'ATE': -0.045714716423233055, 'batch_size': 32, 'desc': 'con:sharpness_ave, treat: 0.8, confound: 10.0, aug none', 'epochs': 5, 'model_name': 'timm/vit_base_patch32_clip_224.laion2b_ft_in12k_in1k', 'seed': 456}, 'exp104': {'ATE': -0.17227275195184674, 'batch_size': 32, 'desc': 'con:sharpness_ave, treat: 0.8, confound: 10.0, aug none', 'epochs': 5, 'model_name': 'timm/vit_base_patch32_clip_224.laion2b_ft_in12k_in1k', 'seed': 789}, 'exp105': {'ATE': -0.02598733917188382, 'batch_size': 32, 'desc': 'con:sharpness_ave, treat: 0.8, confound: 10.0, aug none', 'epochs': 5, 'model_name': 'timm/vit_base_patch32_clip_224.laion2b_ft_in12k_in1k', 'seed': 1011}, 'exp106': {'ATE': -0.15559286064944233, 'batch_size': 32, 'desc': 'con:sharpness_ave, treat: 0.8, confound: 10.0, aug none', 'epochs': 5, 'model_name': 'timm/vit_base_patch32_clip_224.laion2b_ft_in12k_in1k', 'seed': 1213}, 'exp107': {'ATE': -0.03092648018950015, 'batch_size': 32, 'desc': 'con:sharpness_ave, treat: 0.8, confound: 10.0, aug none', 'epochs': 5, 'model_name': 'timm/vit_base_patch32_clip_224.laion2b_ft_in12k_in1k', 'seed': 1415}, 'exp108': {'ATE': -0.05457641280877853, 'batch_size': 32, 'desc': 'con:sharpness_ave, treat: 0.8, confound: 10.0, aug none', 'epochs': 5, 'model_name': 'timm/vit_base_patch32_clip_224.laion2b_ft_in12k_in1k', 'seed': 1617}, 'exp109': {'ATE': -0.061810702679051845, 'batch_size': 32, 'desc': 'con:sharpness_ave, treat: 0.8, confound: 10.0, aug none', 'epochs': 5, 'model_name': 'timm/vit_base_patch32_clip_224.laion2b_ft_in12k_in1k', 'seed': 1819}, 'exp11': {'ATE': -0.07815831041186684, 'batch_size': 32, 'desc': 'con:sharpness_ave, treat: 0.8, confound: 10.0, aug none', 'epochs': 3, 'model_name': 'timm/eva02_tiny_patch14_224.mim_in22k', 'seed': 2223}, 'exp110': {'ATE': -0.10019344918106507, 'batch_size': 32, 'desc': 'con:sharpness_ave, treat: 0.8, confound: 10.0, aug none', 'epochs': 5, 'model_name': 'timm/vit_base_patch32_clip_224.laion2b_ft_in12k_in1k', 'seed': 2021}, 'exp111': {'ATE': -0.11038279092431177, 'batch_size': 32, 'desc': 'con:sharpness_ave, treat: 0.8, confound: 10.0, aug none', 'epochs': 5, 'model_name': 'timm/vit_base_patch32_clip_224.laion2b_ft_in12k_in1k', 'seed': 2223}, 'exp112': {'ATE': -0.10044092144938557, 'batch_size': 32, 'desc': 'con:sharpness_ave, treat: 0.8, confound: 10.0, aug none', 'epochs': 5, 'model_name': 'timm/vit_base_patch32_clip_224.laion2b_ft_in12k_in1k', 'seed': 2425}, 'exp113': {'ATE': -0.08230678873332468, 'batch_size': 32, 'desc': 'con:sharpness_ave, treat: 0.8, confound: 10.0, aug none', 'epochs': 5, 'model_name': 'timm/vit_base_patch32_clip_224.laion2b_ft_in12k_in1k', 'seed': 2627}, 'exp114': {'ATE': -0.09923771031644156, 'batch_size': 32, 'desc': 'con:sharpness_ave, treat: 0.8, confound: 10.0, aug none', 'epochs': 5, 'model_name': 'timm/vit_base_patch32_clip_224.laion2b_ft_in12k_in1k', 'seed': 2829}, 'exp115': {'ATE': -0.07750315104475353, 'batch_size': 32, 'desc': 'con:sharpness_ave, treat: 0.8, confound: 10.0, aug none', 'epochs': 5, 'model_name': 'timm/vit_base_patch32_clip_224.laion2b_ft_in12k_in1k', 'seed': 3031}, 'exp116': {'ATE': -0.10757269427641777, 'batch_size': 32, 'desc': 'con:sharpness_ave, treat: 0.8, confound: 10.0, aug none', 'epochs': 5, 'model_name': 'timm/vit_base_patch32_clip_224.laion2b_ft_in12k_in1k', 'seed': 3233}, 'exp117': {'ATE': -0.05539984078797001, 'batch_size': 32, 'desc': 'con:sharpness_ave, treat: 0.8, confound: 10.0, aug none', 'epochs': 5, 'model_name': 'timm/vit_base_patch32_clip_224.laion2b_ft_in12k_in1k', 'seed': 3435}, 'exp118': {'ATE': -0.06955560194153852, 'batch_size': 32, 'desc': 'con:sharpness_ave, treat: 0.8, confound: 10.0, aug none', 'epochs': 5, 'model_name': 'timm/vit_base_patch32_clip_224.laion2b_ft_in12k_in1k', 'seed': 3637}, 'exp119': {'ATE': -0.12486155186312997, 'batch_size': 32, 'desc': 'con:sharpness_ave, treat: 0.8, confound: 10.0, aug none', 'epochs': 5, 'model_name': 'timm/vit_base_patch32_clip_224.laion2b_ft_in12k_in1k', 'seed': 3839}, 'exp12': {'ATE': -0.1649286669110477, 'batch_size': 32, 'desc': 'con:sharpness_ave, treat: 0.8, confound: 10.0, aug none', 'epochs': 3, 'model_name': 'timm/eva02_tiny_patch14_224.mim_in22k', 'seed': 2425}, 'exp120': {'ATE': -0.11934489708510702, 'batch_size': 32, 'desc': 'con:sharpness_ave, treat: 0.8, confound: 10.0, aug none', 'epochs': 5, 'model_name': 'timm/vit_base_patch32_clip_224.laion2b_ft_in12k_in1k', 'seed': 4041}, 'exp13': {'ATE': -0.05641799886007327, 'batch_size': 32, 'desc': 'con:sharpness_ave, treat: 0.8, confound: 10.0, aug none', 'epochs': 3, 'model_name': 'timm/eva02_tiny_patch14_224.mim_in22k', 'seed': 2627}, 'exp14': {'ATE': -0.17617296852238215, 'batch_size': 32, 'desc': 'con:sharpness_ave, treat: 0.8, confound: 10.0, aug none', 'epochs': 3, 'model_name': 'timm/eva02_tiny_patch14_224.mim_in22k', 'seed': 2829}, 'exp15': {'ATE': -0.11021394673476835, 'batch_size': 32, 'desc': 'con:sharpness_ave, treat: 0.8, confound: 10.0, aug none', 'epochs': 3, 'model_name': 'timm/eva02_tiny_patch14_224.mim_in22k', 'seed': 3031}, 'exp16': {'ATE': -0.060255615905947385, 'batch_size': 32, 'desc': 'con:sharpness_ave, treat: 0.8, confound: 10.0, aug none', 'epochs': 3, 'model_name': 'timm/eva02_tiny_patch14_224.mim_in22k', 'seed': 3233}, 'exp17': {'ATE': -0.027879470827235568, 'batch_size': 32, 'desc': 'con:sharpness_ave, treat: 0.8, confound: 10.0, aug none', 'epochs': 3, 'model_name': 'timm/eva02_tiny_patch14_224.mim_in22k', 'seed': 3435}, 'exp18': {'ATE': -0.10068168921985139, 'batch_size': 32, 'desc': 'con:sharpness_ave, treat: 0.8, confound: 10.0, aug none', 'epochs': 3, 'model_name': 'timm/eva02_tiny_patch14_224.mim_in22k', 'seed': 3637}, 'exp19': {'ATE': -0.1038584887234535, 'batch_size': 32, 'desc': 'con:sharpness_ave, treat: 0.8, confound: 10.0, aug none', 'epochs': 3, 'model_name': 'timm/eva02_tiny_patch14_224.mim_in22k', 'seed': 3839}, 'exp2': {'ATE': -0.04500632112680311, 'batch_size': 32, 'desc': 'con:sharpness_ave, treat: 0.8, confound: 10.0, aug none', 'epochs': 3, 'model_name': 'timm/eva02_tiny_patch14_224.mim_in22k', 'seed': 123}, 'exp20': {'ATE': -0.026398699516589894, 'batch_size': 32, 'desc': 'con:sharpness_ave, treat: 0.8, confound: 10.0, aug none', 'epochs': 3, 'model_name': 'timm/eva02_tiny_patch14_224.mim_in22k', 'seed': 4041}, 'exp21': {'ATE': -0.0840115340452371, 'batch_size': 32, 'desc': 'con:sharpness_ave, treat: 0.8, confound: 10.0, aug none', 'epochs': 5, 'model_name': 'timm/eva02_tiny_patch14_224.mim_in22k', 'seed': 42}, 'exp22': {'ATE': -0.033123988337881605, 'batch_size': 32, 'desc': 'con:sharpness_ave, treat: 0.8, confound: 10.0, aug none', 'epochs': 5, 'model_name': 'timm/eva02_tiny_patch14_224.mim_in22k', 'seed': 123}, 'exp23': {'ATE': -0.04197701058990361, 'batch_size': 32, 'desc': 'con:sharpness_ave, treat: 0.8, confound: 10.0, aug none', 'epochs': 5, 'model_name': 'timm/eva02_tiny_patch14_224.mim_in22k', 'seed': 456}, 'exp24': {'ATE': -0.11622250812566902, 'batch_size': 32, 'desc': 'con:sharpness_ave, treat: 0.8, confound: 10.0, aug none', 'epochs': 5, 'model_name': 'timm/eva02_tiny_patch14_224.mim_in22k', 'seed': 789}, 'exp25': {'ATE': -0.0641310077722085, 'batch_size': 32, 'desc': 'con:sharpness_ave, treat: 0.8, confound: 10.0, aug none', 'epochs': 5, 'model_name': 'timm/eva02_tiny_patch14_224.mim_in22k', 'seed': 1011}, 'exp26': {'ATE': 0.02605541511313548, 'batch_size': 32, 'desc': 'con:sharpness_ave, treat: 0.8, confound: 10.0, aug none', 'epochs': 5, 'model_name': 'timm/eva02_tiny_patch14_224.mim_in22k', 'seed': 1213}, 'exp27': {'ATE': -0.08617811981883103, 'batch_size': 32, 'desc': 'con:sharpness_ave, treat: 0.8, confound: 10.0, aug none', 'epochs': 5, 'model_name': 'timm/eva02_tiny_patch14_224.mim_in22k', 'seed': 1415}, 'exp28': {'ATE': -0.02133681243035059, 'batch_size': 32, 'desc': 'con:sharpness_ave, treat: 0.8, confound: 10.0, aug none', 'epochs': 5, 'model_name': 'timm/eva02_tiny_patch14_224.mim_in22k', 'seed': 1617}, 'exp29': {'ATE': -0.073894079203073, 'batch_size': 32, 'desc': 'con:sharpness_ave, treat: 0.8, confound: 10.0, aug none', 'epochs': 5, 'model_name': 'timm/eva02_tiny_patch14_224.mim_in22k', 'seed': 1819}, 'exp3': {'ATE': -0.07539010500746378, 'batch_size': 32, 'desc': 'con:sharpness_ave, treat: 0.8, confound: 10.0, aug none', 'epochs': 3, 'model_name': 'timm/eva02_tiny_patch14_224.mim_in22k', 'seed': 456}, 'exp30': {'ATE': -0.04449629263243446, 'batch_size': 32, 'desc': 'con:sharpness_ave, treat: 0.8, confound: 10.0, aug none', 'epochs': 5, 'model_name': 'timm/eva02_tiny_patch14_224.mim_in22k', 'seed': 2021}, 'exp31': {'ATE': -0.046111204422336335, 'batch_size': 32, 'desc': 'con:sharpness_ave, treat: 0.8, confound: 10.0, aug none', 'epochs': 5, 'model_name': 'timm/eva02_tiny_patch14_224.mim_in22k', 'seed': 2223}, 'exp32': {'ATE': -0.11285776917738408, 'batch_size': 32, 'desc': 'con:sharpness_ave, treat: 0.8, confound: 10.0, aug none', 'epochs': 5, 'model_name': 'timm/eva02_tiny_patch14_224.mim_in22k', 'seed': 2425}, 'exp33': {'ATE': -0.006030995552082711, 'batch_size': 32, 'desc': 'con:sharpness_ave, treat: 0.8, confound: 10.0, aug none', 'epochs': 5, 'model_name': 'timm/eva02_tiny_patch14_224.mim_in22k', 'seed': 2627}, 'exp34': {'ATE': -0.020425135462553208, 'batch_size': 32, 'desc': 'con:sharpness_ave, treat: 0.8, confound: 10.0, aug none', 'epochs': 5, 'model_name': 'timm/eva02_tiny_patch14_224.mim_in22k', 'seed': 2829}, 'exp35': {'ATE': -0.008273865718291291, 'batch_size': 32, 'desc': 'con:sharpness_ave, treat: 0.8, confound: 10.0, aug none', 'epochs': 5, 'model_name': 'timm/eva02_tiny_patch14_224.mim_in22k', 'seed': 3031}, 'exp36': {'ATE': -0.02119400324155717, 'batch_size': 32, 'desc': 'con:sharpness_ave, treat: 0.8, confound: 10.0, aug none', 'epochs': 5, 'model_name': 'timm/eva02_tiny_patch14_224.mim_in22k', 'seed': 3233}, 'exp37': {'ATE': -0.009904034907862047, 'batch_size': 32, 'desc': 'con:sharpness_ave, treat: 0.8, confound: 10.0, aug none', 'epochs': 5, 'model_name': 'timm/eva02_tiny_patch14_224.mim_in22k', 'seed': 3435}, 'exp38': {'ATE': -0.005486984983141235, 'batch_size': 32, 'desc': 'con:sharpness_ave, treat: 0.8, confound: 10.0, aug none', 'epochs': 5, 'model_name': 'timm/eva02_tiny_patch14_224.mim_in22k', 'seed': 3637}, 'exp39': {'ATE': -0.06770128480021363, 'batch_size': 32, 'desc': 'con:sharpness_ave, treat: 0.8, confound: 10.0, aug none', 'epochs': 5, 'model_name': 'timm/eva02_tiny_patch14_224.mim_in22k', 'seed': 3839}, 'exp4': {'ATE': -0.018989202003248988, 'batch_size': 32, 'desc': 'con:sharpness_ave, treat: 0.8, confound: 10.0, aug none', 'epochs': 3, 'model_name': 'timm/eva02_tiny_patch14_224.mim_in22k', 'seed': 789}, 'exp40': {'ATE': -0.058756273846311255, 'batch_size': 32, 'desc': 'con:sharpness_ave, treat: 0.8, confound: 10.0, aug none', 'epochs': 5, 'model_name': 'timm/eva02_tiny_patch14_224.mim_in22k', 'seed': 4041}, 'exp41': {'ATE': -0.14953889171958681, 'batch_size': 32, 'desc': 'con:sharpness_ave, treat: 0.8, confound: 10.0, aug none', 'epochs': 3, 'model_name': 'timm/efficientvit_m2.r224_in1k', 'seed': 42}, 'exp42': {'ATE': -0.12860372378618282, 'batch_size': 32, 'desc': 'con:sharpness_ave, treat: 0.8, confound: 10.0, aug none', 'epochs': 3, 'model_name': 'timm/efficientvit_m2.r224_in1k', 'seed': 123}, 'exp43': {'ATE': -0.1345928857298866, 'batch_size': 32, 'desc': 'con:sharpness_ave, treat: 0.8, confound: 10.0, aug none', 'epochs': 3, 'model_name': 'timm/efficientvit_m2.r224_in1k', 'seed': 456}, 'exp44': {'ATE': -0.17207303459658868, 'batch_size': 32, 'desc': 'con:sharpness_ave, treat: 0.8, confound: 10.0, aug none', 'epochs': 3, 'model_name': 'timm/efficientvit_m2.r224_in1k', 'seed': 789}, 'exp45': {'ATE': 0.054465990621155654, 'batch_size': 32, 'desc': 'con:sharpness_ave, treat: 0.8, confound: 10.0, aug none', 'epochs': 3, 'model_name': 'timm/efficientvit_m2.r224_in1k', 'seed': 1011}, 'exp46': {'ATE': -0.25702321882262597, 'batch_size': 32, 'desc': 'con:sharpness_ave, treat: 0.8, confound: 10.0, aug none', 'epochs': 3, 'model_name': 'timm/efficientvit_m2.r224_in1k', 'seed': 1213}, 'exp47': {'ATE': -0.17171089698956815, 'batch_size': 32, 'desc': 'con:sharpness_ave, treat: 0.8, confound: 10.0, aug none', 'epochs': 3, 'model_name': 'timm/efficientvit_m2.r224_in1k', 'seed': 1415}, 'exp48': {'ATE': -0.017847731032579344, 'batch_size': 32, 'desc': 'con:sharpness_ave, treat: 0.8, confound: 10.0, aug none', 'epochs': 3, 'model_name': 'timm/efficientvit_m2.r224_in1k', 'seed': 1617}, 'exp49': {'ATE': -0.12691089039547213, 'batch_size': 32, 'desc': 'con:sharpness_ave, treat: 0.8, confound: 10.0, aug none', 'epochs': 3, 'model_name': 'timm/efficientvit_m2.r224_in1k', 'seed': 1819}, 'exp5': {'ATE': -0.041315806271339836, 'batch_size': 32, 'desc': 'con:sharpness_ave, treat: 0.8, confound: 10.0, aug none', 'epochs': 3, 'model_name': 'timm/eva02_tiny_patch14_224.mim_in22k', 'seed': 1011}, 'exp50': {'ATE': 0.012438694790020357, 'batch_size': 32, 'desc': 'con:sharpness_ave, treat: 0.8, confound: 10.0, aug none', 'epochs': 3, 'model_name': 'timm/efficientvit_m2.r224_in1k', 'seed': 2021}, 'exp51': {'ATE': -0.14811513324498124, 'batch_size': 32, 'desc': 'con:sharpness_ave, treat: 0.8, confound: 10.0, aug none', 'epochs': 3, 'model_name': 'timm/efficientvit_m2.r224_in1k', 'seed': 2223}, 'exp52': {'ATE': -0.033797650562313715, 'batch_size': 32, 'desc': 'con:sharpness_ave, treat: 0.8, confound: 10.0, aug none', 'epochs': 3, 'model_name': 'timm/efficientvit_m2.r224_in1k', 'seed': 2425}, 'exp53': {'ATE': -0.205168921638967, 'batch_size': 32, 'desc': 'con:sharpness_ave, treat: 0.8, confound: 10.0, aug none', 'epochs': 3, 'model_name': 'timm/efficientvit_m2.r224_in1k', 'seed': 2627}, 'exp54': {'ATE': -0.19629761168159268, 'batch_size': 32, 'desc': 'con:sharpness_ave, treat: 0.8, confound: 10.0, aug none', 'epochs': 3, 'model_name': 'timm/efficientvit_m2.r224_in1k', 'seed': 2829}, 'exp55': {'ATE': -0.1690359102199256, 'batch_size': 32, 'desc': 'con:sharpness_ave, treat: 0.8, confound: 10.0, aug none', 'epochs': 3, 'model_name': 'timm/efficientvit_m2.r224_in1k', 'seed': 3031}, 'exp56': {'ATE': -0.2551369235598184, 'batch_size': 32, 'desc': 'con:sharpness_ave, treat: 0.8, confound: 10.0, aug none', 'epochs': 3, 'model_name': 'timm/efficientvit_m2.r224_in1k', 'seed': 3233}, 'exp57': {'ATE': -0.1423627713609814, 'batch_size': 32, 'desc': 'con:sharpness_ave, treat: 0.8, confound: 10.0, aug none', 'epochs': 3, 'model_name': 'timm/efficientvit_m2.r224_in1k', 'seed': 3435}, 'exp58': {'ATE': -0.2016955801467324, 'batch_size': 32, 'desc': 'con:sharpness_ave, treat: 0.8, confound: 10.0, aug none', 'epochs': 3, 'model_name': 'timm/efficientvit_m2.r224_in1k', 'seed': 3637}, 'exp59': {'ATE': 0.00903427227355462, 'batch_size': 32, 'desc': 'con:sharpness_ave, treat: 0.8, confound: 10.0, aug none', 'epochs': 3, 'model_name': 'timm/efficientvit_m2.r224_in1k', 'seed': 3839}, 'exp6': {'ATE': -0.11987698882569262, 'batch_size': 32, 'desc': 'con:sharpness_ave, treat: 0.8, confound: 10.0, aug none', 'epochs': 3, 'model_name': 'timm/eva02_tiny_patch14_224.mim_in22k', 'seed': 1213}, 'exp60': {'ATE': -0.2252751086860345, 'batch_size': 32, 'desc': 'con:sharpness_ave, treat: 0.8, confound: 10.0, aug none', 'epochs': 3, 'model_name': 'timm/efficientvit_m2.r224_in1k', 'seed': 4041}, 'exp61': {'ATE': -0.21140465880194995, 'batch_size': 32, 'desc': 'con:sharpness_ave, treat: 0.8, confound: 10.0, aug none', 'epochs': 5, 'model_name': 'timm/efficientvit_m2.r224_in1k', 'seed': 42}, 'exp62': {'ATE': -0.15709946263361035, 'batch_size': 32, 'desc': 'con:sharpness_ave, treat: 0.8, confound: 10.0, aug none', 'epochs': 5, 'model_name': 'timm/efficientvit_m2.r224_in1k', 'seed': 123}, 'exp63': {'ATE': -0.0993987608641373, 'batch_size': 32, 'desc': 'con:sharpness_ave, treat: 0.8, confound: 10.0, aug none', 'epochs': 5, 'model_name': 'timm/efficientvit_m2.r224_in1k', 'seed': 456}, 'exp64': {'ATE': -0.15158265118171282, 'batch_size': 32, 'desc': 'con:sharpness_ave, treat: 0.8, confound: 10.0, aug none', 'epochs': 5, 'model_name': 'timm/efficientvit_m2.r224_in1k', 'seed': 789}, 'exp65': {'ATE': -0.06887709984111952, 'batch_size': 32, 'desc': 'con:sharpness_ave, treat: 0.8, confound: 10.0, aug none', 'epochs': 5, 'model_name': 'timm/efficientvit_m2.r224_in1k', 'seed': 1011}, 'exp66': {'ATE': -0.16159600215396927, 'batch_size': 32, 'desc': 'con:sharpness_ave, treat: 0.8, confound: 10.0, aug none', 'epochs': 5, 'model_name': 'timm/efficientvit_m2.r224_in1k', 'seed': 1213}, 'exp67': {'ATE': -0.14621805200758478, 'batch_size': 32, 'desc': 'con:sharpness_ave, treat: 0.8, confound: 10.0, aug none', 'epochs': 5, 'model_name': 'timm/efficientvit_m2.r224_in1k', 'seed': 1415}, 'exp68': {'ATE': -0.03788824707859472, 'batch_size': 32, 'desc': 'con:sharpness_ave, treat: 0.8, confound: 10.0, aug none', 'epochs': 5, 'model_name': 'timm/efficientvit_m2.r224_in1k', 'seed': 1617}, 'exp69': {'ATE': -0.16596265946841485, 'batch_size': 32, 'desc': 'con:sharpness_ave, treat: 0.8, confound: 10.0, aug none', 'epochs': 5, 'model_name': 'timm/efficientvit_m2.r224_in1k', 'seed': 1819}, 'exp7': {'ATE': -0.05944102308192968, 'batch_size': 32, 'desc': 'con:sharpness_ave, treat: 0.8, confound: 10.0, aug none', 'epochs': 3, 'model_name': 'timm/eva02_tiny_patch14_224.mim_in22k', 'seed': 1415}, 'exp70': {'ATE': 0.04903753487822492, 'batch_size': 32, 'desc': 'con:sharpness_ave, treat: 0.8, confound: 10.0, aug none', 'epochs': 5, 'model_name': 'timm/efficientvit_m2.r224_in1k', 'seed': 2021}, 'exp71': {'ATE': -0.14111817080641406, 'batch_size': 32, 'desc': 'con:sharpness_ave, treat: 0.8, confound: 10.0, aug none', 'epochs': 5, 'model_name': 'timm/efficientvit_m2.r224_in1k', 'seed': 2223}, 'exp72': {'ATE': -0.04661149567691078, 'batch_size': 32, 'desc': 'con:sharpness_ave, treat: 0.8, confound: 10.0, aug none', 'epochs': 5, 'model_name': 'timm/efficientvit_m2.r224_in1k', 'seed': 2425}, 'exp73': {'ATE': -0.17670897672023037, 'batch_size': 32, 'desc': 'con:sharpness_ave, treat: 0.8, confound: 10.0, aug none', 'epochs': 5, 'model_name': 'timm/efficientvit_m2.r224_in1k', 'seed': 2627}, 'exp74': {'ATE': -0.1929876750624562, 'batch_size': 32, 'desc': 'con:sharpness_ave, treat: 0.8, confound: 10.0, aug none', 'epochs': 5, 'model_name': 'timm/efficientvit_m2.r224_in1k', 'seed': 2829}, 'exp75': {'ATE': -0.17764280511620476, 'batch_size': 32, 'desc': 'con:sharpness_ave, treat: 0.8, confound: 10.0, aug none', 'epochs': 5, 'model_name': 'timm/efficientvit_m2.r224_in1k', 'seed': 3031}, 'exp76': {'ATE': -0.3276360822997633, 'batch_size': 32, 'desc': 'con:sharpness_ave, treat: 0.8, confound: 10.0, aug none', 'epochs': 5, 'model_name': 'timm/efficientvit_m2.r224_in1k', 'seed': 3233}, 'exp77': {'ATE': -0.138606428271452, 'batch_size': 32, 'desc': 'con:sharpness_ave, treat: 0.8, confound: 10.0, aug none', 'epochs': 5, 'model_name': 'timm/efficientvit_m2.r224_in1k', 'seed': 3435}, 'exp78': {'ATE': -0.17064362680504183, 'batch_size': 32, 'desc': 'con:sharpness_ave, treat: 0.8, confound: 10.0, aug none', 'epochs': 5, 'model_name': 'timm/efficientvit_m2.r224_in1k', 'seed': 3637}, 'exp79': {'ATE': -0.023269994613355438, 'batch_size': 32, 'desc': 'con:sharpness_ave, treat: 0.8, confound: 10.0, aug none', 'epochs': 5, 'model_name': 'timm/efficientvit_m2.r224_in1k', 'seed': 3839}, 'exp8': {'ATE': -0.04432082533860653, 'batch_size': 32, 'desc': 'con:sharpness_ave, treat: 0.8, confound: 10.0, aug none', 'epochs': 3, 'model_name': 'timm/eva02_tiny_patch14_224.mim_in22k', 'seed': 1617}, 'exp80': {'ATE': -0.15944536039906015, 'batch_size': 32, 'desc': 'con:sharpness_ave, treat: 0.8, confound: 10.0, aug none', 'epochs': 5, 'model_name': 'timm/efficientvit_m2.r224_in1k', 'seed': 4041}, 'exp81': {'ATE': -0.11359067246645761, 'batch_size': 32, 'desc': 'con:sharpness_ave, treat: 0.8, confound: 10.0, aug none', 'epochs': 3, 'model_name': 'timm/vit_base_patch32_clip_224.laion2b_ft_in12k_in1k', 'seed': 42}, 'exp82': {'ATE': -0.07000574484139609, 'batch_size': 32, 'desc': 'con:sharpness_ave, treat: 0.8, confound: 10.0, aug none', 'epochs': 3, 'model_name': 'timm/vit_base_patch32_clip_224.laion2b_ft_in12k_in1k', 'seed': 123}, 'exp83': {'ATE': -0.15669116276121275, 'batch_size': 32, 'desc': 'con:sharpness_ave, treat: 0.8, confound: 10.0, aug none', 'epochs': 3, 'model_name': 'timm/vit_base_patch32_clip_224.laion2b_ft_in12k_in1k', 'seed': 456}, 'exp84': {'ATE': -0.08353966818826414, 'batch_size': 32, 'desc': 'con:sharpness_ave, treat: 0.8, confound: 10.0, aug none', 'epochs': 3, 'model_name': 'timm/vit_base_patch32_clip_224.laion2b_ft_in12k_in1k', 'seed': 789}, 'exp85': {'ATE': -0.17949077518567286, 'batch_size': 32, 'desc': 'con:sharpness_ave, treat: 0.8, confound: 10.0, aug none', 'epochs': 3, 'model_name': 'timm/vit_base_patch32_clip_224.laion2b_ft_in12k_in1k', 'seed': 1011}, 'exp86': {'ATE': -0.02356347502547012, 'batch_size': 32, 'desc': 'con:sharpness_ave, treat: 0.8, confound: 10.0, aug none', 'epochs': 3, 'model_name': 'timm/vit_base_patch32_clip_224.laion2b_ft_in12k_in1k', 'seed': 1213}, 'exp87': {'ATE': -0.10641408899833904, 'batch_size': 32, 'desc': 'con:sharpness_ave, treat: 0.8, confound: 10.0, aug none', 'epochs': 3, 'model_name': 'timm/vit_base_patch32_clip_224.laion2b_ft_in12k_in1k', 'seed': 1415}, 'exp88': {'ATE': -0.04445404256371434, 'batch_size': 32, 'desc': 'con:sharpness_ave, treat: 0.8, confound: 10.0, aug none', 'epochs': 3, 'model_name': 'timm/vit_base_patch32_clip_224.laion2b_ft_in12k_in1k', 'seed': 1617}, 'exp89': {'ATE': -0.0910331171154733, 'batch_size': 32, 'desc': 'con:sharpness_ave, treat: 0.8, confound: 10.0, aug none', 'epochs': 3, 'model_name': 'timm/vit_base_patch32_clip_224.laion2b_ft_in12k_in1k', 'seed': 1819}, 'exp9': {'ATE': -0.015431029239355206, 'batch_size': 32, 'desc': 'con:sharpness_ave, treat: 0.8, confound: 10.0, aug none', 'epochs': 3, 'model_name': 'timm/eva02_tiny_patch14_224.mim_in22k', 'seed': 1819}, 'exp90': {'ATE': -0.13735926354997705, 'batch_size': 32, 'desc': 'con:sharpness_ave, treat: 0.8, confound: 10.0, aug none', 'epochs': 3, 'model_name': 'timm/vit_base_patch32_clip_224.laion2b_ft_in12k_in1k', 'seed': 2021}, 'exp91': {'ATE': -0.09955331741451925, 'batch_size': 32, 'desc': 'con:sharpness_ave, treat: 0.8, confound: 10.0, aug none', 'epochs': 3, 'model_name': 'timm/vit_base_patch32_clip_224.laion2b_ft_in12k_in1k', 'seed': 2223}, 'exp92': {'ATE': -0.10330181700627591, 'batch_size': 32, 'desc': 'con:sharpness_ave, treat: 0.8, confound: 10.0, aug none', 'epochs': 3, 'model_name': 'timm/vit_base_patch32_clip_224.laion2b_ft_in12k_in1k', 'seed': 2425}, 'exp93': {'ATE': -0.05603875800019954, 'batch_size': 32, 'desc': 'con:sharpness_ave, treat: 0.8, confound: 10.0, aug none', 'epochs': 3, 'model_name': 'timm/vit_base_patch32_clip_224.laion2b_ft_in12k_in1k', 'seed': 2627}, 'exp94': {'ATE': -0.03340199895464218, 'batch_size': 32, 'desc': 'con:sharpness_ave, treat: 0.8, confound: 10.0, aug none', 'epochs': 3, 'model_name': 'timm/vit_base_patch32_clip_224.laion2b_ft_in12k_in1k', 'seed': 2829}, 'exp95': {'ATE': -0.12588360995515732, 'batch_size': 32, 'desc': 'con:sharpness_ave, treat: 0.8, confound: 10.0, aug none', 'epochs': 3, 'model_name': 'timm/vit_base_patch32_clip_224.laion2b_ft_in12k_in1k', 'seed': 3031}, 'exp96': {'ATE': -0.21430137634775265, 'batch_size': 32, 'desc': 'con:sharpness_ave, treat: 0.8, confound: 10.0, aug none', 'epochs': 3, 'model_name': 'timm/vit_base_patch32_clip_224.laion2b_ft_in12k_in1k', 'seed': 3233}, 'exp97': {'ATE': -0.11858935033585254, 'batch_size': 32, 'desc': 'con:sharpness_ave, treat: 0.8, confound: 10.0, aug none', 'epochs': 3, 'model_name': 'timm/vit_base_patch32_clip_224.laion2b_ft_in12k_in1k', 'seed': 3435}, 'exp98': {'ATE': -0.06726792249175817, 'batch_size': 32, 'desc': 'con:sharpness_ave, treat: 0.8, confound: 10.0, aug none', 'epochs': 3, 'model_name': 'timm/vit_base_patch32_clip_224.laion2b_ft_in12k_in1k', 'seed': 3637}, 'exp99': {'ATE': -0.10974183845308708, 'batch_size': 32, 'desc': 'con:sharpness_ave, treat: 0.8, confound: 10.0, aug none', 'epochs': 3, 'model_name': 'timm/vit_base_patch32_clip_224.laion2b_ft_in12k_in1k', 'seed': 3839}}\n"
     ]
    }
   ],
   "source": [
    "import yaml \n",
    "with open(\"/root/graduation_thetis/causal-bert-pytorch/run/result/[1202]seed_everything_appliance_contains_text_none.yaml\",'r') as yml:\n",
    "    yaml_data = yaml.safe_load(yml)\n",
    "print(yaml_data)"
   ]
  },
  {
   "cell_type": "code",
   "execution_count": 3,
   "metadata": {},
   "outputs": [
    {
     "name": "stdout",
     "output_type": "stream",
     "text": [
      "eva_ate -0.06258102662942895 0.049474203256301995\n",
      "vit_ate -0.09864137480114174 0.0447205277079825\n",
      "eff_ate -0.1341227150353216 0.0838033934787115\n"
     ]
    }
   ],
   "source": [
    "import numpy as np\n",
    "eva_ate = []\n",
    "vit_ate = []\n",
    "eff_ate = []\n",
    "for k,v in yaml_data.items():\n",
    "    \n",
    "    if v['model_name'] == 'timm/eva02_tiny_patch14_224.mim_in22k':\n",
    "        eva_ate.append(v['ATE'])\n",
    "    if v['model_name'] == 'timm/efficientvit_m2.r224_in1k':\n",
    "        eff_ate.append(v['ATE'])\n",
    "    if v['model_name'] == 'timm/vit_base_patch32_clip_224.laion2b_ft_in12k_in1k':\n",
    "        vit_ate.append(v['ATE'])\n",
    "\n",
    "print(\"eva_ate\", np.mean(eva_ate),np.std(eva_ate))\n",
    "print(\"vit_ate\", np.mean(vit_ate),np.std(vit_ate))\n",
    "print(\"eff_ate\", np.mean(eff_ate),np.std(eff_ate))"
   ]
  },
  {
   "cell_type": "code",
   "execution_count": 2,
   "metadata": {},
   "outputs": [
    {
     "ename": "KeyError",
     "evalue": "'treatment_column'",
     "output_type": "error",
     "traceback": [
      "\u001b[0;31m---------------------------------------------------------------------------\u001b[0m",
      "\u001b[0;31mKeyError\u001b[0m                                  Traceback (most recent call last)",
      "Cell \u001b[0;32mIn[2], line 4\u001b[0m\n\u001b[1;32m      2\u001b[0m eva_ate, vit_ate, eff_ate \u001b[38;5;241m=\u001b[39m [], [], []\n\u001b[1;32m      3\u001b[0m \u001b[38;5;28;01mfor\u001b[39;00m k, v \u001b[38;5;129;01min\u001b[39;00m yaml_data\u001b[38;5;241m.\u001b[39mitems():\n\u001b[0;32m----> 4\u001b[0m     \u001b[38;5;28;01mif\u001b[39;00m \u001b[43mv\u001b[49m\u001b[43m[\u001b[49m\u001b[38;5;124;43m\"\u001b[39;49m\u001b[38;5;124;43mtreatment_column\u001b[39;49m\u001b[38;5;124;43m\"\u001b[39;49m\u001b[43m]\u001b[49m \u001b[38;5;241m!=\u001b[39m treat:\n\u001b[1;32m      5\u001b[0m         \u001b[38;5;28;01mcontinue\u001b[39;00m\n\u001b[1;32m      6\u001b[0m     \u001b[38;5;28;01mif\u001b[39;00m v[\u001b[38;5;124m'\u001b[39m\u001b[38;5;124mmodel_name\u001b[39m\u001b[38;5;124m'\u001b[39m] \u001b[38;5;241m==\u001b[39m \u001b[38;5;124m'\u001b[39m\u001b[38;5;124mtimm/eva02_tiny_patch14_224.mim_in22k\u001b[39m\u001b[38;5;124m'\u001b[39m:\n",
      "\u001b[0;31mKeyError\u001b[0m: 'treatment_column'"
     ]
    }
   ],
   "source": [
    "for treat in [\"T_proxy\" ,\"T_plus_pu\", \"T_plus_reg\"]:\n",
    "        eva_ate, vit_ate, eff_ate = [], [], []\n",
    "        for k, v in yaml_data.items():\n",
    "            if v[\"treatment_column\"] != treat:\n",
    "                continue\n",
    "            if v['model_name'] == 'timm/eva02_tiny_patch14_224.mim_in22k':\n",
    "                eva_ate.append(v['ATE'])\n",
    "            elif v['model_name'] == 'timm/efficientvit_m2.r224_in1k':\n",
    "                eff_ate.append(v['ATE'])\n",
    "            elif v['model_name'] == 'timm/vit_base_patch32_clip_224.laion2b_ft_in12k_in1k':\n",
    "                vit_ate.append(v['ATE'])\n",
    "\n",
    "        # ATEの統計量を計算\n",
    "        eva_stats = f\"eva_ate: mean={np.mean(eva_ate):.4f}, std={np.std(eva_ate):.4f}\"\n",
    "        vit_stats = f\"vit_ate: mean={np.mean(vit_ate):.4f}, std={np.std(vit_ate):.4f}\"\n",
    "        eff_stats = f\"eff_ate: mean={np.mean(eff_ate):.4f}, std={np.std(eff_ate):.4f}\"\n",
    "        print(treat)\n",
    "        print(eva_stats)\n",
    "        print(vit_stats)\n",
    "        print(eff_stats)\n"
   ]
  },
  {
   "cell_type": "code",
   "execution_count": 4,
   "metadata": {},
   "outputs": [
    {
     "name": "stdout",
     "output_type": "stream",
     "text": [
      "eva_ate -0.08035917876114858 0.05379326284263722\n",
      "vit_ate -0.10281443675204249 0.046522714507931245\n",
      "eff_ate -0.13296239632445533 0.08868232717574807\n",
      "eva_ate -0.044802874497709325 0.03700747305609473\n",
      "vit_ate -0.09446831285024097 0.042434176552423805\n",
      "eff_ate -0.13528303374618786 0.07860515049770908\n",
      "eva_ate nan nan\n",
      "vit_ate nan nan\n",
      "eff_ate nan nan\n"
     ]
    },
    {
     "name": "stderr",
     "output_type": "stream",
     "text": [
      "/root/.venv/lib/python3.8/site-packages/numpy/core/fromnumeric.py:3464: RuntimeWarning: Mean of empty slice.\n",
      "  return _methods._mean(a, axis=axis, dtype=dtype,\n",
      "/root/.venv/lib/python3.8/site-packages/numpy/core/_methods.py:192: RuntimeWarning: invalid value encountered in scalar divide\n",
      "  ret = ret.dtype.type(ret / rcount)\n",
      "/root/.venv/lib/python3.8/site-packages/numpy/core/_methods.py:269: RuntimeWarning: Degrees of freedom <= 0 for slice\n",
      "  ret = _var(a, axis=axis, dtype=dtype, out=out, ddof=ddof,\n",
      "/root/.venv/lib/python3.8/site-packages/numpy/core/_methods.py:226: RuntimeWarning: invalid value encountered in divide\n",
      "  arrmean = um.true_divide(arrmean, div, out=arrmean,\n",
      "/root/.venv/lib/python3.8/site-packages/numpy/core/_methods.py:261: RuntimeWarning: invalid value encountered in scalar divide\n",
      "  ret = ret.dtype.type(ret / rcount)\n"
     ]
    }
   ],
   "source": [
    "import numpy as np\n",
    "for epoch in [3,5,10]:\n",
    "        eva_ate, vit_ate, eff_ate = [], [], []\n",
    "        for k, v in yaml_data.items():\n",
    "            if v[\"epochs\"] != epoch:\n",
    "                continue\n",
    "            if v['model_name'] == 'timm/eva02_tiny_patch14_224.mim_in22k':\n",
    "                eva_ate.append(v['ATE'])\n",
    "            elif v['model_name'] == 'timm/efficientvit_m2.r224_in1k':\n",
    "                eff_ate.append(v['ATE'])\n",
    "            elif v['model_name'] == 'timm/vit_base_patch32_clip_224.laion2b_ft_in12k_in1k':\n",
    "                vit_ate.append(v['ATE'])\n",
    "\n",
    "        # ATEの統計量を計算\n",
    "        eva_stats = f\"eva_ate: mean={np.mean(eva_ate):.4f}, std={np.std(eva_ate):.4f}\"\n",
    "        vit_stats = f\"vit_ate: mean={np.mean(vit_ate):.4f}, std={np.std(vit_ate):.4f}\"\n",
    "        eff_stats = f\"eff_ate: mean={np.mean(eff_ate):.4f}, std={np.std(eff_ate):.4f}\"\n",
    "        print(\"eva_ate\", np.mean(eva_ate),np.std(eva_ate))\n",
    "        print(\"vit_ate\", np.mean(vit_ate),np.std(vit_ate))\n",
    "        print(\"eff_ate\", np.mean(eff_ate),np.std(eff_ate))\n"
   ]
  },
  {
   "cell_type": "code",
   "execution_count": 5,
   "metadata": {},
   "outputs": [
    {
     "name": "stdout",
     "output_type": "stream",
     "text": [
      "ATE_unadjusted:  -0.16422768189284076\n",
      "ATE_adjusted:  -0.15937690236471116\n",
      "ATE_adjusted_T_boost_pu :  -0.09931524468862737\n",
      "ATE_adjusted_T_boost_reg :  -0.09644406284289339\n"
     ]
    }
   ],
   "source": [
    "from collections import defaultdict\n",
    "import numpy as np\n",
    "import pandas as pd\n",
    "def ATE_unadjusted(T, Y):\n",
    "    x = defaultdict(list)\n",
    "    for t, y in zip(T, Y):\n",
    "        x[t].append(y)\n",
    "    T0 = np.mean(x[0])\n",
    "    T1 = np.mean(x[1])\n",
    "    return T0 - T1\n",
    "\n",
    "def ATE_adjusted(C, T, Y):\n",
    "    x = defaultdict(list)\n",
    "    for c, t, y in zip(C, T, Y):\n",
    "        x[c, t].append(y)\n",
    "\n",
    "    C0_ATE = np.mean(x[0,0]) - np.mean(x[0,1])\n",
    "    C1_ATE = np.mean(x[1,0]) - np.mean(x[1,1])\n",
    "    return np.mean([C0_ATE, C1_ATE])\n",
    "\n",
    "\n",
    "if __name__ == \"__main__\":\n",
    "    df = pd.read_csv(\"/root/graduation_thetis/causal-bert-pytorch/input/modelinput/noise-T-boost/Watch_preprocess_sharpness_ave_t0.8c10.0_noise0.5_1221-T_boost.csv\")\n",
    "    treatment = \"light_or_dark\"\n",
    "    confounder = \"sharpness_ave\"\n",
    "    outcome = \"outcome\"\n",
    "    T_proxy = \"T_proxy\"\n",
    "    T_boost_pu = \"T_plus_pu\"\n",
    "    T_boost_reg = \"T_plus_reg\"\n",
    "    print(\"ATE_unadjusted: \", ATE_unadjusted(df[T_proxy], df[outcome]))\n",
    "    print(\"ATE_adjusted: \", ATE_adjusted(df[confounder], df[treatment],df[outcome]))\n",
    "    print(\"ATE_adjusted_T_boost_pu : \", ATE_adjusted(df[confounder],df[T_boost_pu], df[outcome]))\n",
    "    print(\"ATE_adjusted_T_boost_reg : \", ATE_adjusted(df[confounder],df[T_boost_reg], df[outcome]))"
   ]
  },
  {
   "cell_type": "code",
   "execution_count": 6,
   "metadata": {},
   "outputs": [
    {
     "data": {
      "text/plain": [
       "contains_text\n",
       "0    4397\n",
       "1     511\n",
       "Name: count, dtype: int64"
      ]
     },
     "execution_count": 6,
     "metadata": {},
     "output_type": "execute_result"
    }
   ],
   "source": [
    "df[confounder].value_counts()"
   ]
  },
  {
   "cell_type": "code",
   "execution_count": null,
   "metadata": {},
   "outputs": [],
   "source": []
  }
 ],
 "metadata": {
  "kernelspec": {
   "display_name": ".venv",
   "language": "python",
   "name": "python3"
  },
  "language_info": {
   "codemirror_mode": {
    "name": "ipython",
    "version": 3
   },
   "file_extension": ".py",
   "mimetype": "text/x-python",
   "name": "python",
   "nbconvert_exporter": "python",
   "pygments_lexer": "ipython3",
   "version": "3.8.10"
  }
 },
 "nbformat": 4,
 "nbformat_minor": 2
}
