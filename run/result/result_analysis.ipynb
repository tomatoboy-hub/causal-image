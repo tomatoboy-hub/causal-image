{
 "cells": [
  {
   "cell_type": "code",
   "execution_count": 4,
   "metadata": {},
   "outputs": [
    {
     "name": "stdout",
     "output_type": "stream",
     "text": [
      "{'exp1': {'ATE': -0.030162163880313245, 'ATE_adjusted': 0.10276568161993124, 'ATE_unadjusted': -0.16592980052722262, 'batch_size': 32, 'desc': '/root/graduation_thetis/causal-bert-pytorch/input/modelinput/noise-T-boost/Appliance_preprocess_sharpness_ave_t0.8c0.8_noise0.5_1221-T_boost.csv', 'epochs': 3, 'model_name': 'timm/eva02_tiny_patch14_224.mim_in22k', 'seed': 42, 'treatment_column': 'T_proxy'}, 'exp10': {'ATE': -0.11984477791137504, 'ATE_adjusted': 0.5351638324644239, 'ATE_unadjusted': -0.21985594785893686, 'batch_size': 32, 'desc': '/root/graduation_thetis/causal-bert-pytorch/input/modelinput/noise-T-boost/Appliance_preprocess_sharpness_ave_t0.8c10_noise0.5_1221-T_boost.csv', 'epochs': 3, 'model_name': 'timm/eva02_tiny_patch14_224.mim_in22k', 'seed': 456, 'treatment_column': 'T_proxy'}, 'exp100': {'ATE': -0.2423700133320624, 'ATE_adjusted': 0.26177539882702927, 'ATE_unadjusted': -0.14044718466795425, 'batch_size': 32, 'desc': '/root/graduation_thetis/causal-bert-pytorch/input/modelinput/noise-T-boost/Watch_preprocess_sharpness_ave_t0.8c10.0_noise0.5_1221-T_boost.csv', 'epochs': 3, 'model_name': 'timm/vit_base_patch32_clip_224.laion2b_ft_in12k_in1k', 'seed': 1000, 'treatment_column': 'T_proxy'}, 'exp101': {'ATE': -0.16371408718562247, 'ATE_adjusted': 0.10276568161993124, 'ATE_unadjusted': -0.16592980052722262, 'batch_size': 32, 'desc': '/root/graduation_thetis/causal-bert-pytorch/input/modelinput/noise-T-boost/Appliance_preprocess_sharpness_ave_t0.8c0.8_noise0.5_1221-T_boost.csv', 'epochs': 3, 'model_name': 'timm/vit_base_patch32_clip_224.laion2b_ft_in12k_in1k', 'seed': 2000, 'treatment_column': 'T_proxy'}, 'exp102': {'ATE': -0.08566205276450962, 'ATE_adjusted': 0.5351638324644239, 'ATE_unadjusted': -0.21985594785893686, 'batch_size': 32, 'desc': '/root/graduation_thetis/causal-bert-pytorch/input/modelinput/noise-T-boost/Appliance_preprocess_sharpness_ave_t0.8c10_noise0.5_1221-T_boost.csv', 'epochs': 3, 'model_name': 'timm/vit_base_patch32_clip_224.laion2b_ft_in12k_in1k', 'seed': 2000, 'treatment_column': 'T_proxy'}, 'exp103': {'ATE': -0.004000183057083175, 'ATE_adjusted': 0.0616701861602682, 'ATE_unadjusted': -0.13708215718318228, 'batch_size': 32, 'desc': '/root/graduation_thetis/causal-bert-pytorch/input/modelinput/noise-T-boost/Watch_preprocess_sharpness_ave_t0.8c0.8_noise0.5_1221-T_boost.csv', 'epochs': 3, 'model_name': 'timm/vit_base_patch32_clip_224.laion2b_ft_in12k_in1k', 'seed': 2000, 'treatment_column': 'T_proxy'}, 'exp104': {'ATE': -0.035725011962108914, 'ATE_adjusted': 0.26177539882702927, 'ATE_unadjusted': -0.14044718466795425, 'batch_size': 32, 'desc': '/root/graduation_thetis/causal-bert-pytorch/input/modelinput/noise-T-boost/Watch_preprocess_sharpness_ave_t0.8c10.0_noise0.5_1221-T_boost.csv', 'epochs': 3, 'model_name': 'timm/vit_base_patch32_clip_224.laion2b_ft_in12k_in1k', 'seed': 2000, 'treatment_column': 'T_proxy'}, 'exp105': {'ATE': -0.27976118598426086, 'ATE_adjusted': 0.10276568161993124, 'ATE_unadjusted': -0.16592980052722262, 'batch_size': 32, 'desc': '/root/graduation_thetis/causal-bert-pytorch/input/modelinput/noise-T-boost/Appliance_preprocess_sharpness_ave_t0.8c0.8_noise0.5_1221-T_boost.csv', 'epochs': 3, 'model_name': 'timm/vit_base_patch32_clip_224.laion2b_ft_in12k_in1k', 'seed': 3000, 'treatment_column': 'T_proxy'}, 'exp106': {'ATE': -0.07257639290207611, 'ATE_adjusted': 0.5351638324644239, 'ATE_unadjusted': -0.21985594785893686, 'batch_size': 32, 'desc': '/root/graduation_thetis/causal-bert-pytorch/input/modelinput/noise-T-boost/Appliance_preprocess_sharpness_ave_t0.8c10_noise0.5_1221-T_boost.csv', 'epochs': 3, 'model_name': 'timm/vit_base_patch32_clip_224.laion2b_ft_in12k_in1k', 'seed': 3000, 'treatment_column': 'T_proxy'}, 'exp107': {'ATE': -0.1805510898269516, 'ATE_adjusted': 0.0616701861602682, 'ATE_unadjusted': -0.13708215718318228, 'batch_size': 32, 'desc': '/root/graduation_thetis/causal-bert-pytorch/input/modelinput/noise-T-boost/Watch_preprocess_sharpness_ave_t0.8c0.8_noise0.5_1221-T_boost.csv', 'epochs': 3, 'model_name': 'timm/vit_base_patch32_clip_224.laion2b_ft_in12k_in1k', 'seed': 3000, 'treatment_column': 'T_proxy'}, 'exp108': {'ATE': -0.26362091714408603, 'ATE_adjusted': 0.26177539882702927, 'ATE_unadjusted': -0.14044718466795425, 'batch_size': 32, 'desc': '/root/graduation_thetis/causal-bert-pytorch/input/modelinput/noise-T-boost/Watch_preprocess_sharpness_ave_t0.8c10.0_noise0.5_1221-T_boost.csv', 'epochs': 3, 'model_name': 'timm/vit_base_patch32_clip_224.laion2b_ft_in12k_in1k', 'seed': 3000, 'treatment_column': 'T_proxy'}, 'exp109': {'ATE': -0.2346212428482862, 'ATE_adjusted': 0.10276568161993124, 'ATE_unadjusted': -0.16592980052722262, 'batch_size': 32, 'desc': '/root/graduation_thetis/causal-bert-pytorch/input/modelinput/noise-T-boost/Appliance_preprocess_sharpness_ave_t0.8c0.8_noise0.5_1221-T_boost.csv', 'epochs': 3, 'model_name': 'timm/vit_base_patch32_clip_224.laion2b_ft_in12k_in1k', 'seed': 4000, 'treatment_column': 'T_proxy'}, 'exp11': {'ATE': -0.05238609195544533, 'ATE_adjusted': 0.0616701861602682, 'ATE_unadjusted': -0.13708215718318228, 'batch_size': 32, 'desc': '/root/graduation_thetis/causal-bert-pytorch/input/modelinput/noise-T-boost/Watch_preprocess_sharpness_ave_t0.8c0.8_noise0.5_1221-T_boost.csv', 'epochs': 3, 'model_name': 'timm/eva02_tiny_patch14_224.mim_in22k', 'seed': 456, 'treatment_column': 'T_proxy'}, 'exp110': {'ATE': -0.2158576298897917, 'ATE_adjusted': 0.5351638324644239, 'ATE_unadjusted': -0.21985594785893686, 'batch_size': 32, 'desc': '/root/graduation_thetis/causal-bert-pytorch/input/modelinput/noise-T-boost/Appliance_preprocess_sharpness_ave_t0.8c10_noise0.5_1221-T_boost.csv', 'epochs': 3, 'model_name': 'timm/vit_base_patch32_clip_224.laion2b_ft_in12k_in1k', 'seed': 4000, 'treatment_column': 'T_proxy'}, 'exp111': {'ATE': -0.1375200442365805, 'ATE_adjusted': 0.0616701861602682, 'ATE_unadjusted': -0.13708215718318228, 'batch_size': 32, 'desc': '/root/graduation_thetis/causal-bert-pytorch/input/modelinput/noise-T-boost/Watch_preprocess_sharpness_ave_t0.8c0.8_noise0.5_1221-T_boost.csv', 'epochs': 3, 'model_name': 'timm/vit_base_patch32_clip_224.laion2b_ft_in12k_in1k', 'seed': 4000, 'treatment_column': 'T_proxy'}, 'exp112': {'ATE': -0.10485438021596478, 'ATE_adjusted': 0.26177539882702927, 'ATE_unadjusted': -0.14044718466795425, 'batch_size': 32, 'desc': '/root/graduation_thetis/causal-bert-pytorch/input/modelinput/noise-T-boost/Watch_preprocess_sharpness_ave_t0.8c10.0_noise0.5_1221-T_boost.csv', 'epochs': 3, 'model_name': 'timm/vit_base_patch32_clip_224.laion2b_ft_in12k_in1k', 'seed': 4000, 'treatment_column': 'T_proxy'}, 'exp113': {'ATE': 0.0007108746608148484, 'ATE_adjusted': 0.10276568161993124, 'ATE_unadjusted': -0.16592980052722262, 'batch_size': 32, 'desc': '/root/graduation_thetis/causal-bert-pytorch/input/modelinput/noise-T-boost/Appliance_preprocess_sharpness_ave_t0.8c0.8_noise0.5_1221-T_boost.csv', 'epochs': 3, 'model_name': 'timm/vit_base_patch32_clip_224.laion2b_ft_in12k_in1k', 'seed': 5000, 'treatment_column': 'T_proxy'}, 'exp114': {'ATE': 0.055406665420878166, 'ATE_adjusted': 0.5351638324644239, 'ATE_unadjusted': -0.21985594785893686, 'batch_size': 32, 'desc': '/root/graduation_thetis/causal-bert-pytorch/input/modelinput/noise-T-boost/Appliance_preprocess_sharpness_ave_t0.8c10_noise0.5_1221-T_boost.csv', 'epochs': 3, 'model_name': 'timm/vit_base_patch32_clip_224.laion2b_ft_in12k_in1k', 'seed': 5000, 'treatment_column': 'T_proxy'}, 'exp115': {'ATE': -0.16295611765705648, 'ATE_adjusted': 0.0616701861602682, 'ATE_unadjusted': -0.13708215718318228, 'batch_size': 32, 'desc': '/root/graduation_thetis/causal-bert-pytorch/input/modelinput/noise-T-boost/Watch_preprocess_sharpness_ave_t0.8c0.8_noise0.5_1221-T_boost.csv', 'epochs': 3, 'model_name': 'timm/vit_base_patch32_clip_224.laion2b_ft_in12k_in1k', 'seed': 5000, 'treatment_column': 'T_proxy'}, 'exp116': {'ATE': -0.20996904505142186, 'ATE_adjusted': 0.26177539882702927, 'ATE_unadjusted': -0.14044718466795425, 'batch_size': 32, 'desc': '/root/graduation_thetis/causal-bert-pytorch/input/modelinput/noise-T-boost/Watch_preprocess_sharpness_ave_t0.8c10.0_noise0.5_1221-T_boost.csv', 'epochs': 3, 'model_name': 'timm/vit_base_patch32_clip_224.laion2b_ft_in12k_in1k', 'seed': 5000, 'treatment_column': 'T_proxy'}, 'exp117': {'ATE': -0.2686300386663245, 'ATE_adjusted': 0.10276568161993124, 'ATE_unadjusted': -0.16592980052722262, 'batch_size': 32, 'desc': '/root/graduation_thetis/causal-bert-pytorch/input/modelinput/noise-T-boost/Appliance_preprocess_sharpness_ave_t0.8c0.8_noise0.5_1221-T_boost.csv', 'epochs': 3, 'model_name': 'timm/vit_base_patch32_clip_224.laion2b_ft_in12k_in1k', 'seed': 6000, 'treatment_column': 'T_proxy'}, 'exp118': {'ATE': -0.17381800121486993, 'ATE_adjusted': 0.5351638324644239, 'ATE_unadjusted': -0.21985594785893686, 'batch_size': 32, 'desc': '/root/graduation_thetis/causal-bert-pytorch/input/modelinput/noise-T-boost/Appliance_preprocess_sharpness_ave_t0.8c10_noise0.5_1221-T_boost.csv', 'epochs': 3, 'model_name': 'timm/vit_base_patch32_clip_224.laion2b_ft_in12k_in1k', 'seed': 6000, 'treatment_column': 'T_proxy'}, 'exp119': {'ATE': 0.014816704496111095, 'ATE_adjusted': 0.0616701861602682, 'ATE_unadjusted': -0.13708215718318228, 'batch_size': 32, 'desc': '/root/graduation_thetis/causal-bert-pytorch/input/modelinput/noise-T-boost/Watch_preprocess_sharpness_ave_t0.8c0.8_noise0.5_1221-T_boost.csv', 'epochs': 3, 'model_name': 'timm/vit_base_patch32_clip_224.laion2b_ft_in12k_in1k', 'seed': 6000, 'treatment_column': 'T_proxy'}, 'exp12': {'ATE': -0.07908035740557393, 'ATE_adjusted': 0.26177539882702927, 'ATE_unadjusted': -0.14044718466795425, 'batch_size': 32, 'desc': '/root/graduation_thetis/causal-bert-pytorch/input/modelinput/noise-T-boost/Watch_preprocess_sharpness_ave_t0.8c10.0_noise0.5_1221-T_boost.csv', 'epochs': 3, 'model_name': 'timm/eva02_tiny_patch14_224.mim_in22k', 'seed': 456, 'treatment_column': 'T_proxy'}, 'exp120': {'ATE': 0.031002858582004845, 'ATE_adjusted': 0.26177539882702927, 'ATE_unadjusted': -0.14044718466795425, 'batch_size': 32, 'desc': '/root/graduation_thetis/causal-bert-pytorch/input/modelinput/noise-T-boost/Watch_preprocess_sharpness_ave_t0.8c10.0_noise0.5_1221-T_boost.csv', 'epochs': 3, 'model_name': 'timm/vit_base_patch32_clip_224.laion2b_ft_in12k_in1k', 'seed': 6000, 'treatment_column': 'T_proxy'}, 'exp13': {'ATE': -0.09830625976949134, 'ATE_adjusted': 0.10276568161993124, 'ATE_unadjusted': -0.16592980052722262, 'batch_size': 32, 'desc': '/root/graduation_thetis/causal-bert-pytorch/input/modelinput/noise-T-boost/Appliance_preprocess_sharpness_ave_t0.8c0.8_noise0.5_1221-T_boost.csv', 'epochs': 3, 'model_name': 'timm/eva02_tiny_patch14_224.mim_in22k', 'seed': 789, 'treatment_column': 'T_proxy'}, 'exp14': {'ATE': -0.13097420139616567, 'ATE_adjusted': 0.5351638324644239, 'ATE_unadjusted': -0.21985594785893686, 'batch_size': 32, 'desc': '/root/graduation_thetis/causal-bert-pytorch/input/modelinput/noise-T-boost/Appliance_preprocess_sharpness_ave_t0.8c10_noise0.5_1221-T_boost.csv', 'epochs': 3, 'model_name': 'timm/eva02_tiny_patch14_224.mim_in22k', 'seed': 789, 'treatment_column': 'T_proxy'}, 'exp15': {'ATE': -0.01010717035031091, 'ATE_adjusted': 0.0616701861602682, 'ATE_unadjusted': -0.13708215718318228, 'batch_size': 32, 'desc': '/root/graduation_thetis/causal-bert-pytorch/input/modelinput/noise-T-boost/Watch_preprocess_sharpness_ave_t0.8c0.8_noise0.5_1221-T_boost.csv', 'epochs': 3, 'model_name': 'timm/eva02_tiny_patch14_224.mim_in22k', 'seed': 789, 'treatment_column': 'T_proxy'}, 'exp16': {'ATE': -0.0007316955409710274, 'ATE_adjusted': 0.26177539882702927, 'ATE_unadjusted': -0.14044718466795425, 'batch_size': 32, 'desc': '/root/graduation_thetis/causal-bert-pytorch/input/modelinput/noise-T-boost/Watch_preprocess_sharpness_ave_t0.8c10.0_noise0.5_1221-T_boost.csv', 'epochs': 3, 'model_name': 'timm/eva02_tiny_patch14_224.mim_in22k', 'seed': 789, 'treatment_column': 'T_proxy'}, 'exp17': {'ATE': -0.15026371634290664, 'ATE_adjusted': 0.10276568161993124, 'ATE_unadjusted': -0.16592980052722262, 'batch_size': 32, 'desc': '/root/graduation_thetis/causal-bert-pytorch/input/modelinput/noise-T-boost/Appliance_preprocess_sharpness_ave_t0.8c0.8_noise0.5_1221-T_boost.csv', 'epochs': 3, 'model_name': 'timm/eva02_tiny_patch14_224.mim_in22k', 'seed': 1000, 'treatment_column': 'T_proxy'}, 'exp18': {'ATE': -0.11188097547057535, 'ATE_adjusted': 0.5351638324644239, 'ATE_unadjusted': -0.21985594785893686, 'batch_size': 32, 'desc': '/root/graduation_thetis/causal-bert-pytorch/input/modelinput/noise-T-boost/Appliance_preprocess_sharpness_ave_t0.8c10_noise0.5_1221-T_boost.csv', 'epochs': 3, 'model_name': 'timm/eva02_tiny_patch14_224.mim_in22k', 'seed': 1000, 'treatment_column': 'T_proxy'}, 'exp19': {'ATE': -0.15462391466146277, 'ATE_adjusted': 0.0616701861602682, 'ATE_unadjusted': -0.13708215718318228, 'batch_size': 32, 'desc': '/root/graduation_thetis/causal-bert-pytorch/input/modelinput/noise-T-boost/Watch_preprocess_sharpness_ave_t0.8c0.8_noise0.5_1221-T_boost.csv', 'epochs': 3, 'model_name': 'timm/eva02_tiny_patch14_224.mim_in22k', 'seed': 1000, 'treatment_column': 'T_proxy'}, 'exp2': {'ATE': -0.04976007882418365, 'ATE_adjusted': 0.5351638324644239, 'ATE_unadjusted': -0.21985594785893686, 'batch_size': 32, 'desc': '/root/graduation_thetis/causal-bert-pytorch/input/modelinput/noise-T-boost/Appliance_preprocess_sharpness_ave_t0.8c10_noise0.5_1221-T_boost.csv', 'epochs': 3, 'model_name': 'timm/eva02_tiny_patch14_224.mim_in22k', 'seed': 42, 'treatment_column': 'T_proxy'}, 'exp20': {'ATE': -0.1465593683778589, 'ATE_adjusted': 0.26177539882702927, 'ATE_unadjusted': -0.14044718466795425, 'batch_size': 32, 'desc': '/root/graduation_thetis/causal-bert-pytorch/input/modelinput/noise-T-boost/Watch_preprocess_sharpness_ave_t0.8c10.0_noise0.5_1221-T_boost.csv', 'epochs': 3, 'model_name': 'timm/eva02_tiny_patch14_224.mim_in22k', 'seed': 1000, 'treatment_column': 'T_proxy'}, 'exp21': {'ATE': -0.14862437300880663, 'ATE_adjusted': 0.10276568161993124, 'ATE_unadjusted': -0.16592980052722262, 'batch_size': 32, 'desc': '/root/graduation_thetis/causal-bert-pytorch/input/modelinput/noise-T-boost/Appliance_preprocess_sharpness_ave_t0.8c0.8_noise0.5_1221-T_boost.csv', 'epochs': 3, 'model_name': 'timm/eva02_tiny_patch14_224.mim_in22k', 'seed': 2000, 'treatment_column': 'T_proxy'}, 'exp22': {'ATE': -0.16039197473769717, 'ATE_adjusted': 0.5351638324644239, 'ATE_unadjusted': -0.21985594785893686, 'batch_size': 32, 'desc': '/root/graduation_thetis/causal-bert-pytorch/input/modelinput/noise-T-boost/Appliance_preprocess_sharpness_ave_t0.8c10_noise0.5_1221-T_boost.csv', 'epochs': 3, 'model_name': 'timm/eva02_tiny_patch14_224.mim_in22k', 'seed': 2000, 'treatment_column': 'T_proxy'}, 'exp23': {'ATE': -0.19291251863125525, 'ATE_adjusted': 0.0616701861602682, 'ATE_unadjusted': -0.13708215718318228, 'batch_size': 32, 'desc': '/root/graduation_thetis/causal-bert-pytorch/input/modelinput/noise-T-boost/Watch_preprocess_sharpness_ave_t0.8c0.8_noise0.5_1221-T_boost.csv', 'epochs': 3, 'model_name': 'timm/eva02_tiny_patch14_224.mim_in22k', 'seed': 2000, 'treatment_column': 'T_proxy'}, 'exp24': {'ATE': -0.19696468669097836, 'ATE_adjusted': 0.26177539882702927, 'ATE_unadjusted': -0.14044718466795425, 'batch_size': 32, 'desc': '/root/graduation_thetis/causal-bert-pytorch/input/modelinput/noise-T-boost/Watch_preprocess_sharpness_ave_t0.8c10.0_noise0.5_1221-T_boost.csv', 'epochs': 3, 'model_name': 'timm/eva02_tiny_patch14_224.mim_in22k', 'seed': 2000, 'treatment_column': 'T_proxy'}, 'exp25': {'ATE': -0.19739128372828119, 'ATE_adjusted': 0.10276568161993124, 'ATE_unadjusted': -0.16592980052722262, 'batch_size': 32, 'desc': '/root/graduation_thetis/causal-bert-pytorch/input/modelinput/noise-T-boost/Appliance_preprocess_sharpness_ave_t0.8c0.8_noise0.5_1221-T_boost.csv', 'epochs': 3, 'model_name': 'timm/eva02_tiny_patch14_224.mim_in22k', 'seed': 3000, 'treatment_column': 'T_proxy'}, 'exp26': {'ATE': -0.1826059730947308, 'ATE_adjusted': 0.5351638324644239, 'ATE_unadjusted': -0.21985594785893686, 'batch_size': 32, 'desc': '/root/graduation_thetis/causal-bert-pytorch/input/modelinput/noise-T-boost/Appliance_preprocess_sharpness_ave_t0.8c10_noise0.5_1221-T_boost.csv', 'epochs': 3, 'model_name': 'timm/eva02_tiny_patch14_224.mim_in22k', 'seed': 3000, 'treatment_column': 'T_proxy'}, 'exp27': {'ATE': -0.05262057039642765, 'ATE_adjusted': 0.0616701861602682, 'ATE_unadjusted': -0.13708215718318228, 'batch_size': 32, 'desc': '/root/graduation_thetis/causal-bert-pytorch/input/modelinput/noise-T-boost/Watch_preprocess_sharpness_ave_t0.8c0.8_noise0.5_1221-T_boost.csv', 'epochs': 3, 'model_name': 'timm/eva02_tiny_patch14_224.mim_in22k', 'seed': 3000, 'treatment_column': 'T_proxy'}, 'exp28': {'ATE': -0.020240544622298965, 'ATE_adjusted': 0.26177539882702927, 'ATE_unadjusted': -0.14044718466795425, 'batch_size': 32, 'desc': '/root/graduation_thetis/causal-bert-pytorch/input/modelinput/noise-T-boost/Watch_preprocess_sharpness_ave_t0.8c10.0_noise0.5_1221-T_boost.csv', 'epochs': 3, 'model_name': 'timm/eva02_tiny_patch14_224.mim_in22k', 'seed': 3000, 'treatment_column': 'T_proxy'}, 'exp29': {'ATE': -0.1795446114772904, 'ATE_adjusted': 0.10276568161993124, 'ATE_unadjusted': -0.16592980052722262, 'batch_size': 32, 'desc': '/root/graduation_thetis/causal-bert-pytorch/input/modelinput/noise-T-boost/Appliance_preprocess_sharpness_ave_t0.8c0.8_noise0.5_1221-T_boost.csv', 'epochs': 3, 'model_name': 'timm/eva02_tiny_patch14_224.mim_in22k', 'seed': 4000, 'treatment_column': 'T_proxy'}, 'exp3': {'ATE': -0.13308936297946888, 'ATE_adjusted': 0.0616701861602682, 'ATE_unadjusted': -0.13708215718318228, 'batch_size': 32, 'desc': '/root/graduation_thetis/causal-bert-pytorch/input/modelinput/noise-T-boost/Watch_preprocess_sharpness_ave_t0.8c0.8_noise0.5_1221-T_boost.csv', 'epochs': 3, 'model_name': 'timm/eva02_tiny_patch14_224.mim_in22k', 'seed': 42, 'treatment_column': 'T_proxy'}, 'exp30': {'ATE': -0.02727269993296931, 'ATE_adjusted': 0.5351638324644239, 'ATE_unadjusted': -0.21985594785893686, 'batch_size': 32, 'desc': '/root/graduation_thetis/causal-bert-pytorch/input/modelinput/noise-T-boost/Appliance_preprocess_sharpness_ave_t0.8c10_noise0.5_1221-T_boost.csv', 'epochs': 3, 'model_name': 'timm/eva02_tiny_patch14_224.mim_in22k', 'seed': 4000, 'treatment_column': 'T_proxy'}, 'exp31': {'ATE': -0.21690458557574843, 'ATE_adjusted': 0.0616701861602682, 'ATE_unadjusted': -0.13708215718318228, 'batch_size': 32, 'desc': '/root/graduation_thetis/causal-bert-pytorch/input/modelinput/noise-T-boost/Watch_preprocess_sharpness_ave_t0.8c0.8_noise0.5_1221-T_boost.csv', 'epochs': 3, 'model_name': 'timm/eva02_tiny_patch14_224.mim_in22k', 'seed': 4000, 'treatment_column': 'T_proxy'}, 'exp32': {'ATE': -0.21702518391576667, 'ATE_adjusted': 0.26177539882702927, 'ATE_unadjusted': -0.14044718466795425, 'batch_size': 32, 'desc': '/root/graduation_thetis/causal-bert-pytorch/input/modelinput/noise-T-boost/Watch_preprocess_sharpness_ave_t0.8c10.0_noise0.5_1221-T_boost.csv', 'epochs': 3, 'model_name': 'timm/eva02_tiny_patch14_224.mim_in22k', 'seed': 4000, 'treatment_column': 'T_proxy'}, 'exp33': {'ATE': -0.11416322998756244, 'ATE_adjusted': 0.10276568161993124, 'ATE_unadjusted': -0.16592980052722262, 'batch_size': 32, 'desc': '/root/graduation_thetis/causal-bert-pytorch/input/modelinput/noise-T-boost/Appliance_preprocess_sharpness_ave_t0.8c0.8_noise0.5_1221-T_boost.csv', 'epochs': 3, 'model_name': 'timm/eva02_tiny_patch14_224.mim_in22k', 'seed': 5000, 'treatment_column': 'T_proxy'}, 'exp34': {'ATE': -0.13462783480445817, 'ATE_adjusted': 0.5351638324644239, 'ATE_unadjusted': -0.21985594785893686, 'batch_size': 32, 'desc': '/root/graduation_thetis/causal-bert-pytorch/input/modelinput/noise-T-boost/Appliance_preprocess_sharpness_ave_t0.8c10_noise0.5_1221-T_boost.csv', 'epochs': 3, 'model_name': 'timm/eva02_tiny_patch14_224.mim_in22k', 'seed': 5000, 'treatment_column': 'T_proxy'}, 'exp35': {'ATE': -0.19024450944617166, 'ATE_adjusted': 0.0616701861602682, 'ATE_unadjusted': -0.13708215718318228, 'batch_size': 32, 'desc': '/root/graduation_thetis/causal-bert-pytorch/input/modelinput/noise-T-boost/Watch_preprocess_sharpness_ave_t0.8c0.8_noise0.5_1221-T_boost.csv', 'epochs': 3, 'model_name': 'timm/eva02_tiny_patch14_224.mim_in22k', 'seed': 5000, 'treatment_column': 'T_proxy'}, 'exp36': {'ATE': -0.1789800042972619, 'ATE_adjusted': 0.26177539882702927, 'ATE_unadjusted': -0.14044718466795425, 'batch_size': 32, 'desc': '/root/graduation_thetis/causal-bert-pytorch/input/modelinput/noise-T-boost/Watch_preprocess_sharpness_ave_t0.8c10.0_noise0.5_1221-T_boost.csv', 'epochs': 3, 'model_name': 'timm/eva02_tiny_patch14_224.mim_in22k', 'seed': 5000, 'treatment_column': 'T_proxy'}, 'exp37': {'ATE': -0.13887438261283866, 'ATE_adjusted': 0.10276568161993124, 'ATE_unadjusted': -0.16592980052722262, 'batch_size': 32, 'desc': '/root/graduation_thetis/causal-bert-pytorch/input/modelinput/noise-T-boost/Appliance_preprocess_sharpness_ave_t0.8c0.8_noise0.5_1221-T_boost.csv', 'epochs': 3, 'model_name': 'timm/eva02_tiny_patch14_224.mim_in22k', 'seed': 6000, 'treatment_column': 'T_proxy'}, 'exp38': {'ATE': -0.0906791393475227, 'ATE_adjusted': 0.5351638324644239, 'ATE_unadjusted': -0.21985594785893686, 'batch_size': 32, 'desc': '/root/graduation_thetis/causal-bert-pytorch/input/modelinput/noise-T-boost/Appliance_preprocess_sharpness_ave_t0.8c10_noise0.5_1221-T_boost.csv', 'epochs': 3, 'model_name': 'timm/eva02_tiny_patch14_224.mim_in22k', 'seed': 6000, 'treatment_column': 'T_proxy'}, 'exp39': {'ATE': -0.04904347172903982, 'ATE_adjusted': 0.0616701861602682, 'ATE_unadjusted': -0.13708215718318228, 'batch_size': 32, 'desc': '/root/graduation_thetis/causal-bert-pytorch/input/modelinput/noise-T-boost/Watch_preprocess_sharpness_ave_t0.8c0.8_noise0.5_1221-T_boost.csv', 'epochs': 3, 'model_name': 'timm/eva02_tiny_patch14_224.mim_in22k', 'seed': 6000, 'treatment_column': 'T_proxy'}, 'exp4': {'ATE': -0.12187914159796918, 'ATE_adjusted': 0.26177539882702927, 'ATE_unadjusted': -0.14044718466795425, 'batch_size': 32, 'desc': '/root/graduation_thetis/causal-bert-pytorch/input/modelinput/noise-T-boost/Watch_preprocess_sharpness_ave_t0.8c10.0_noise0.5_1221-T_boost.csv', 'epochs': 3, 'model_name': 'timm/eva02_tiny_patch14_224.mim_in22k', 'seed': 42, 'treatment_column': 'T_proxy'}, 'exp40': {'ATE': -0.061829807461934394, 'ATE_adjusted': 0.26177539882702927, 'ATE_unadjusted': -0.14044718466795425, 'batch_size': 32, 'desc': '/root/graduation_thetis/causal-bert-pytorch/input/modelinput/noise-T-boost/Watch_preprocess_sharpness_ave_t0.8c10.0_noise0.5_1221-T_boost.csv', 'epochs': 3, 'model_name': 'timm/eva02_tiny_patch14_224.mim_in22k', 'seed': 6000, 'treatment_column': 'T_proxy'}, 'exp41': {'ATE': -0.11042303053653188, 'ATE_adjusted': 0.10276568161993124, 'ATE_unadjusted': -0.16592980052722262, 'batch_size': 32, 'desc': '/root/graduation_thetis/causal-bert-pytorch/input/modelinput/noise-T-boost/Appliance_preprocess_sharpness_ave_t0.8c0.8_noise0.5_1221-T_boost.csv', 'epochs': 3, 'model_name': 'timm/efficientvit_m2.r224_in1k', 'seed': 42, 'treatment_column': 'T_proxy'}, 'exp42': {'ATE': -0.18129341814543426, 'ATE_adjusted': 0.5351638324644239, 'ATE_unadjusted': -0.21985594785893686, 'batch_size': 32, 'desc': '/root/graduation_thetis/causal-bert-pytorch/input/modelinput/noise-T-boost/Appliance_preprocess_sharpness_ave_t0.8c10_noise0.5_1221-T_boost.csv', 'epochs': 3, 'model_name': 'timm/efficientvit_m2.r224_in1k', 'seed': 42, 'treatment_column': 'T_proxy'}, 'exp43': {'ATE': -0.42765159476010106, 'ATE_adjusted': 0.0616701861602682, 'ATE_unadjusted': -0.13708215718318228, 'batch_size': 32, 'desc': '/root/graduation_thetis/causal-bert-pytorch/input/modelinput/noise-T-boost/Watch_preprocess_sharpness_ave_t0.8c0.8_noise0.5_1221-T_boost.csv', 'epochs': 3, 'model_name': 'timm/efficientvit_m2.r224_in1k', 'seed': 42, 'treatment_column': 'T_proxy'}, 'exp44': {'ATE': -0.39937295470943174, 'ATE_adjusted': 0.26177539882702927, 'ATE_unadjusted': -0.14044718466795425, 'batch_size': 32, 'desc': '/root/graduation_thetis/causal-bert-pytorch/input/modelinput/noise-T-boost/Watch_preprocess_sharpness_ave_t0.8c10.0_noise0.5_1221-T_boost.csv', 'epochs': 3, 'model_name': 'timm/efficientvit_m2.r224_in1k', 'seed': 42, 'treatment_column': 'T_proxy'}, 'exp45': {'ATE': -0.1558897531290845, 'ATE_adjusted': 0.10276568161993124, 'ATE_unadjusted': -0.16592980052722262, 'batch_size': 32, 'desc': '/root/graduation_thetis/causal-bert-pytorch/input/modelinput/noise-T-boost/Appliance_preprocess_sharpness_ave_t0.8c0.8_noise0.5_1221-T_boost.csv', 'epochs': 3, 'model_name': 'timm/efficientvit_m2.r224_in1k', 'seed': 123, 'treatment_column': 'T_proxy'}, 'exp46': {'ATE': -0.21051952808520058, 'ATE_adjusted': 0.5351638324644239, 'ATE_unadjusted': -0.21985594785893686, 'batch_size': 32, 'desc': '/root/graduation_thetis/causal-bert-pytorch/input/modelinput/noise-T-boost/Appliance_preprocess_sharpness_ave_t0.8c10_noise0.5_1221-T_boost.csv', 'epochs': 3, 'model_name': 'timm/efficientvit_m2.r224_in1k', 'seed': 123, 'treatment_column': 'T_proxy'}, 'exp47': {'ATE': -0.09759119041454258, 'ATE_adjusted': 0.0616701861602682, 'ATE_unadjusted': -0.13708215718318228, 'batch_size': 32, 'desc': '/root/graduation_thetis/causal-bert-pytorch/input/modelinput/noise-T-boost/Watch_preprocess_sharpness_ave_t0.8c0.8_noise0.5_1221-T_boost.csv', 'epochs': 3, 'model_name': 'timm/efficientvit_m2.r224_in1k', 'seed': 123, 'treatment_column': 'T_proxy'}, 'exp48': {'ATE': -0.15176035530768364, 'ATE_adjusted': 0.26177539882702927, 'ATE_unadjusted': -0.14044718466795425, 'batch_size': 32, 'desc': '/root/graduation_thetis/causal-bert-pytorch/input/modelinput/noise-T-boost/Watch_preprocess_sharpness_ave_t0.8c10.0_noise0.5_1221-T_boost.csv', 'epochs': 3, 'model_name': 'timm/efficientvit_m2.r224_in1k', 'seed': 123, 'treatment_column': 'T_proxy'}, 'exp49': {'ATE': -0.15694510885827812, 'ATE_adjusted': 0.10276568161993124, 'ATE_unadjusted': -0.16592980052722262, 'batch_size': 32, 'desc': '/root/graduation_thetis/causal-bert-pytorch/input/modelinput/noise-T-boost/Appliance_preprocess_sharpness_ave_t0.8c0.8_noise0.5_1221-T_boost.csv', 'epochs': 3, 'model_name': 'timm/efficientvit_m2.r224_in1k', 'seed': 456, 'treatment_column': 'T_proxy'}, 'exp5': {'ATE': -0.08867966322672823, 'ATE_adjusted': 0.10276568161993124, 'ATE_unadjusted': -0.16592980052722262, 'batch_size': 32, 'desc': '/root/graduation_thetis/causal-bert-pytorch/input/modelinput/noise-T-boost/Appliance_preprocess_sharpness_ave_t0.8c0.8_noise0.5_1221-T_boost.csv', 'epochs': 3, 'model_name': 'timm/eva02_tiny_patch14_224.mim_in22k', 'seed': 123, 'treatment_column': 'T_proxy'}, 'exp50': {'ATE': -0.17278877159394637, 'ATE_adjusted': 0.5351638324644239, 'ATE_unadjusted': -0.21985594785893686, 'batch_size': 32, 'desc': '/root/graduation_thetis/causal-bert-pytorch/input/modelinput/noise-T-boost/Appliance_preprocess_sharpness_ave_t0.8c10_noise0.5_1221-T_boost.csv', 'epochs': 3, 'model_name': 'timm/efficientvit_m2.r224_in1k', 'seed': 456, 'treatment_column': 'T_proxy'}, 'exp51': {'ATE': -0.37294280240699607, 'ATE_adjusted': 0.0616701861602682, 'ATE_unadjusted': -0.13708215718318228, 'batch_size': 32, 'desc': '/root/graduation_thetis/causal-bert-pytorch/input/modelinput/noise-T-boost/Watch_preprocess_sharpness_ave_t0.8c0.8_noise0.5_1221-T_boost.csv', 'epochs': 3, 'model_name': 'timm/efficientvit_m2.r224_in1k', 'seed': 456, 'treatment_column': 'T_proxy'}, 'exp52': {'ATE': -0.40361064441226524, 'ATE_adjusted': 0.26177539882702927, 'ATE_unadjusted': -0.14044718466795425, 'batch_size': 32, 'desc': '/root/graduation_thetis/causal-bert-pytorch/input/modelinput/noise-T-boost/Watch_preprocess_sharpness_ave_t0.8c10.0_noise0.5_1221-T_boost.csv', 'epochs': 3, 'model_name': 'timm/efficientvit_m2.r224_in1k', 'seed': 456, 'treatment_column': 'T_proxy'}, 'exp53': {'ATE': 0.522479550530789, 'ATE_adjusted': 0.10276568161993124, 'ATE_unadjusted': -0.16592980052722262, 'batch_size': 32, 'desc': '/root/graduation_thetis/causal-bert-pytorch/input/modelinput/noise-T-boost/Appliance_preprocess_sharpness_ave_t0.8c0.8_noise0.5_1221-T_boost.csv', 'epochs': 3, 'model_name': 'timm/efficientvit_m2.r224_in1k', 'seed': 789, 'treatment_column': 'T_proxy'}, 'exp54': {'ATE': 0.5110994860672513, 'ATE_adjusted': 0.5351638324644239, 'ATE_unadjusted': -0.21985594785893686, 'batch_size': 32, 'desc': '/root/graduation_thetis/causal-bert-pytorch/input/modelinput/noise-T-boost/Appliance_preprocess_sharpness_ave_t0.8c10_noise0.5_1221-T_boost.csv', 'epochs': 3, 'model_name': 'timm/efficientvit_m2.r224_in1k', 'seed': 789, 'treatment_column': 'T_proxy'}, 'exp55': {'ATE': 0.07503076948757065, 'ATE_adjusted': 0.0616701861602682, 'ATE_unadjusted': -0.13708215718318228, 'batch_size': 32, 'desc': '/root/graduation_thetis/causal-bert-pytorch/input/modelinput/noise-T-boost/Watch_preprocess_sharpness_ave_t0.8c0.8_noise0.5_1221-T_boost.csv', 'epochs': 3, 'model_name': 'timm/efficientvit_m2.r224_in1k', 'seed': 789, 'treatment_column': 'T_proxy'}, 'exp56': {'ATE': 0.05647195386544719, 'ATE_adjusted': 0.26177539882702927, 'ATE_unadjusted': -0.14044718466795425, 'batch_size': 32, 'desc': '/root/graduation_thetis/causal-bert-pytorch/input/modelinput/noise-T-boost/Watch_preprocess_sharpness_ave_t0.8c10.0_noise0.5_1221-T_boost.csv', 'epochs': 3, 'model_name': 'timm/efficientvit_m2.r224_in1k', 'seed': 789, 'treatment_column': 'T_proxy'}, 'exp57': {'ATE': -0.13957231729418748, 'ATE_adjusted': 0.10276568161993124, 'ATE_unadjusted': -0.16592980052722262, 'batch_size': 32, 'desc': '/root/graduation_thetis/causal-bert-pytorch/input/modelinput/noise-T-boost/Appliance_preprocess_sharpness_ave_t0.8c0.8_noise0.5_1221-T_boost.csv', 'epochs': 3, 'model_name': 'timm/efficientvit_m2.r224_in1k', 'seed': 1000, 'treatment_column': 'T_proxy'}, 'exp58': {'ATE': -0.1935945156803746, 'ATE_adjusted': 0.5351638324644239, 'ATE_unadjusted': -0.21985594785893686, 'batch_size': 32, 'desc': '/root/graduation_thetis/causal-bert-pytorch/input/modelinput/noise-T-boost/Appliance_preprocess_sharpness_ave_t0.8c10_noise0.5_1221-T_boost.csv', 'epochs': 3, 'model_name': 'timm/efficientvit_m2.r224_in1k', 'seed': 1000, 'treatment_column': 'T_proxy'}, 'exp59': {'ATE': -0.2959023542468105, 'ATE_adjusted': 0.0616701861602682, 'ATE_unadjusted': -0.13708215718318228, 'batch_size': 32, 'desc': '/root/graduation_thetis/causal-bert-pytorch/input/modelinput/noise-T-boost/Watch_preprocess_sharpness_ave_t0.8c0.8_noise0.5_1221-T_boost.csv', 'epochs': 3, 'model_name': 'timm/efficientvit_m2.r224_in1k', 'seed': 1000, 'treatment_column': 'T_proxy'}, 'exp6': {'ATE': -0.07411652704581306, 'ATE_adjusted': 0.5351638324644239, 'ATE_unadjusted': -0.21985594785893686, 'batch_size': 32, 'desc': '/root/graduation_thetis/causal-bert-pytorch/input/modelinput/noise-T-boost/Appliance_preprocess_sharpness_ave_t0.8c10_noise0.5_1221-T_boost.csv', 'epochs': 3, 'model_name': 'timm/eva02_tiny_patch14_224.mim_in22k', 'seed': 123, 'treatment_column': 'T_proxy'}, 'exp60': {'ATE': -0.28383379902110617, 'ATE_adjusted': 0.26177539882702927, 'ATE_unadjusted': -0.14044718466795425, 'batch_size': 32, 'desc': '/root/graduation_thetis/causal-bert-pytorch/input/modelinput/noise-T-boost/Watch_preprocess_sharpness_ave_t0.8c10.0_noise0.5_1221-T_boost.csv', 'epochs': 3, 'model_name': 'timm/efficientvit_m2.r224_in1k', 'seed': 1000, 'treatment_column': 'T_proxy'}, 'exp61': {'ATE': -0.20172510546574401, 'ATE_adjusted': 0.10276568161993124, 'ATE_unadjusted': -0.16592980052722262, 'batch_size': 32, 'desc': '/root/graduation_thetis/causal-bert-pytorch/input/modelinput/noise-T-boost/Appliance_preprocess_sharpness_ave_t0.8c0.8_noise0.5_1221-T_boost.csv', 'epochs': 3, 'model_name': 'timm/efficientvit_m2.r224_in1k', 'seed': 2000, 'treatment_column': 'T_proxy'}, 'exp62': {'ATE': -0.2642263551481257, 'ATE_adjusted': 0.5351638324644239, 'ATE_unadjusted': -0.21985594785893686, 'batch_size': 32, 'desc': '/root/graduation_thetis/causal-bert-pytorch/input/modelinput/noise-T-boost/Appliance_preprocess_sharpness_ave_t0.8c10_noise0.5_1221-T_boost.csv', 'epochs': 3, 'model_name': 'timm/efficientvit_m2.r224_in1k', 'seed': 2000, 'treatment_column': 'T_proxy'}, 'exp63': {'ATE': -0.23924335193503887, 'ATE_adjusted': 0.0616701861602682, 'ATE_unadjusted': -0.13708215718318228, 'batch_size': 32, 'desc': '/root/graduation_thetis/causal-bert-pytorch/input/modelinput/noise-T-boost/Watch_preprocess_sharpness_ave_t0.8c0.8_noise0.5_1221-T_boost.csv', 'epochs': 3, 'model_name': 'timm/efficientvit_m2.r224_in1k', 'seed': 2000, 'treatment_column': 'T_proxy'}, 'exp64': {'ATE': -0.20938725491162513, 'ATE_adjusted': 0.26177539882702927, 'ATE_unadjusted': -0.14044718466795425, 'batch_size': 32, 'desc': '/root/graduation_thetis/causal-bert-pytorch/input/modelinput/noise-T-boost/Watch_preprocess_sharpness_ave_t0.8c10.0_noise0.5_1221-T_boost.csv', 'epochs': 3, 'model_name': 'timm/efficientvit_m2.r224_in1k', 'seed': 2000, 'treatment_column': 'T_proxy'}, 'exp65': {'ATE': -0.22347832740479337, 'ATE_adjusted': 0.10276568161993124, 'ATE_unadjusted': -0.16592980052722262, 'batch_size': 32, 'desc': '/root/graduation_thetis/causal-bert-pytorch/input/modelinput/noise-T-boost/Appliance_preprocess_sharpness_ave_t0.8c0.8_noise0.5_1221-T_boost.csv', 'epochs': 3, 'model_name': 'timm/efficientvit_m2.r224_in1k', 'seed': 3000, 'treatment_column': 'T_proxy'}, 'exp66': {'ATE': -0.2776536332224302, 'ATE_adjusted': 0.5351638324644239, 'ATE_unadjusted': -0.21985594785893686, 'batch_size': 32, 'desc': '/root/graduation_thetis/causal-bert-pytorch/input/modelinput/noise-T-boost/Appliance_preprocess_sharpness_ave_t0.8c10_noise0.5_1221-T_boost.csv', 'epochs': 3, 'model_name': 'timm/efficientvit_m2.r224_in1k', 'seed': 3000, 'treatment_column': 'T_proxy'}, 'exp67': {'ATE': 0.5590513412377379, 'ATE_adjusted': 0.0616701861602682, 'ATE_unadjusted': -0.13708215718318228, 'batch_size': 32, 'desc': '/root/graduation_thetis/causal-bert-pytorch/input/modelinput/noise-T-boost/Watch_preprocess_sharpness_ave_t0.8c0.8_noise0.5_1221-T_boost.csv', 'epochs': 3, 'model_name': 'timm/efficientvit_m2.r224_in1k', 'seed': 3000, 'treatment_column': 'T_proxy'}, 'exp68': {'ATE': 0.4679777341288192, 'ATE_adjusted': 0.26177539882702927, 'ATE_unadjusted': -0.14044718466795425, 'batch_size': 32, 'desc': '/root/graduation_thetis/causal-bert-pytorch/input/modelinput/noise-T-boost/Watch_preprocess_sharpness_ave_t0.8c10.0_noise0.5_1221-T_boost.csv', 'epochs': 3, 'model_name': 'timm/efficientvit_m2.r224_in1k', 'seed': 3000, 'treatment_column': 'T_proxy'}, 'exp69': {'ATE': -0.27351881939336503, 'ATE_adjusted': 0.10276568161993124, 'ATE_unadjusted': -0.16592980052722262, 'batch_size': 32, 'desc': '/root/graduation_thetis/causal-bert-pytorch/input/modelinput/noise-T-boost/Appliance_preprocess_sharpness_ave_t0.8c0.8_noise0.5_1221-T_boost.csv', 'epochs': 3, 'model_name': 'timm/efficientvit_m2.r224_in1k', 'seed': 4000, 'treatment_column': 'T_proxy'}, 'exp7': {'ATE': -0.08844417067953624, 'ATE_adjusted': 0.0616701861602682, 'ATE_unadjusted': -0.13708215718318228, 'batch_size': 32, 'desc': '/root/graduation_thetis/causal-bert-pytorch/input/modelinput/noise-T-boost/Watch_preprocess_sharpness_ave_t0.8c0.8_noise0.5_1221-T_boost.csv', 'epochs': 3, 'model_name': 'timm/eva02_tiny_patch14_224.mim_in22k', 'seed': 123, 'treatment_column': 'T_proxy'}, 'exp70': {'ATE': -0.2893152763742299, 'ATE_adjusted': 0.5351638324644239, 'ATE_unadjusted': -0.21985594785893686, 'batch_size': 32, 'desc': '/root/graduation_thetis/causal-bert-pytorch/input/modelinput/noise-T-boost/Appliance_preprocess_sharpness_ave_t0.8c10_noise0.5_1221-T_boost.csv', 'epochs': 3, 'model_name': 'timm/efficientvit_m2.r224_in1k', 'seed': 4000, 'treatment_column': 'T_proxy'}, 'exp71': {'ATE': -0.3399824350323021, 'ATE_adjusted': 0.0616701861602682, 'ATE_unadjusted': -0.13708215718318228, 'batch_size': 32, 'desc': '/root/graduation_thetis/causal-bert-pytorch/input/modelinput/noise-T-boost/Watch_preprocess_sharpness_ave_t0.8c0.8_noise0.5_1221-T_boost.csv', 'epochs': 3, 'model_name': 'timm/efficientvit_m2.r224_in1k', 'seed': 4000, 'treatment_column': 'T_proxy'}, 'exp72': {'ATE': -0.3301394639517304, 'ATE_adjusted': 0.26177539882702927, 'ATE_unadjusted': -0.14044718466795425, 'batch_size': 32, 'desc': '/root/graduation_thetis/causal-bert-pytorch/input/modelinput/noise-T-boost/Watch_preprocess_sharpness_ave_t0.8c10.0_noise0.5_1221-T_boost.csv', 'epochs': 3, 'model_name': 'timm/efficientvit_m2.r224_in1k', 'seed': 4000, 'treatment_column': 'T_proxy'}, 'exp73': {'ATE': 0.16140283607676226, 'ATE_adjusted': 0.10276568161993124, 'ATE_unadjusted': -0.16592980052722262, 'batch_size': 32, 'desc': '/root/graduation_thetis/causal-bert-pytorch/input/modelinput/noise-T-boost/Appliance_preprocess_sharpness_ave_t0.8c0.8_noise0.5_1221-T_boost.csv', 'epochs': 3, 'model_name': 'timm/efficientvit_m2.r224_in1k', 'seed': 5000, 'treatment_column': 'T_proxy'}, 'exp74': {'ATE': 0.07650464298620613, 'ATE_adjusted': 0.5351638324644239, 'ATE_unadjusted': -0.21985594785893686, 'batch_size': 32, 'desc': '/root/graduation_thetis/causal-bert-pytorch/input/modelinput/noise-T-boost/Appliance_preprocess_sharpness_ave_t0.8c10_noise0.5_1221-T_boost.csv', 'epochs': 3, 'model_name': 'timm/efficientvit_m2.r224_in1k', 'seed': 5000, 'treatment_column': 'T_proxy'}, 'exp75': {'ATE': 0.23913458560994222, 'ATE_adjusted': 0.0616701861602682, 'ATE_unadjusted': -0.13708215718318228, 'batch_size': 32, 'desc': '/root/graduation_thetis/causal-bert-pytorch/input/modelinput/noise-T-boost/Watch_preprocess_sharpness_ave_t0.8c0.8_noise0.5_1221-T_boost.csv', 'epochs': 3, 'model_name': 'timm/efficientvit_m2.r224_in1k', 'seed': 5000, 'treatment_column': 'T_proxy'}, 'exp76': {'ATE': 0.24185549651344695, 'ATE_adjusted': 0.26177539882702927, 'ATE_unadjusted': -0.14044718466795425, 'batch_size': 32, 'desc': '/root/graduation_thetis/causal-bert-pytorch/input/modelinput/noise-T-boost/Watch_preprocess_sharpness_ave_t0.8c10.0_noise0.5_1221-T_boost.csv', 'epochs': 3, 'model_name': 'timm/efficientvit_m2.r224_in1k', 'seed': 5000, 'treatment_column': 'T_proxy'}, 'exp77': {'ATE': 0.3417183657075473, 'ATE_adjusted': 0.10276568161993124, 'ATE_unadjusted': -0.16592980052722262, 'batch_size': 32, 'desc': '/root/graduation_thetis/causal-bert-pytorch/input/modelinput/noise-T-boost/Appliance_preprocess_sharpness_ave_t0.8c0.8_noise0.5_1221-T_boost.csv', 'epochs': 3, 'model_name': 'timm/efficientvit_m2.r224_in1k', 'seed': 6000, 'treatment_column': 'T_proxy'}, 'exp78': {'ATE': 0.4083896669775231, 'ATE_adjusted': 0.5351638324644239, 'ATE_unadjusted': -0.21985594785893686, 'batch_size': 32, 'desc': '/root/graduation_thetis/causal-bert-pytorch/input/modelinput/noise-T-boost/Appliance_preprocess_sharpness_ave_t0.8c10_noise0.5_1221-T_boost.csv', 'epochs': 3, 'model_name': 'timm/efficientvit_m2.r224_in1k', 'seed': 6000, 'treatment_column': 'T_proxy'}, 'exp79': {'ATE': 0.060450689670603804, 'ATE_adjusted': 0.0616701861602682, 'ATE_unadjusted': -0.13708215718318228, 'batch_size': 32, 'desc': '/root/graduation_thetis/causal-bert-pytorch/input/modelinput/noise-T-boost/Watch_preprocess_sharpness_ave_t0.8c0.8_noise0.5_1221-T_boost.csv', 'epochs': 3, 'model_name': 'timm/efficientvit_m2.r224_in1k', 'seed': 6000, 'treatment_column': 'T_proxy'}, 'exp8': {'ATE': -0.054452205287218905, 'ATE_adjusted': 0.26177539882702927, 'ATE_unadjusted': -0.14044718466795425, 'batch_size': 32, 'desc': '/root/graduation_thetis/causal-bert-pytorch/input/modelinput/noise-T-boost/Watch_preprocess_sharpness_ave_t0.8c10.0_noise0.5_1221-T_boost.csv', 'epochs': 3, 'model_name': 'timm/eva02_tiny_patch14_224.mim_in22k', 'seed': 123, 'treatment_column': 'T_proxy'}, 'exp80': {'ATE': 0.05002882283646665, 'ATE_adjusted': 0.26177539882702927, 'ATE_unadjusted': -0.14044718466795425, 'batch_size': 32, 'desc': '/root/graduation_thetis/causal-bert-pytorch/input/modelinput/noise-T-boost/Watch_preprocess_sharpness_ave_t0.8c10.0_noise0.5_1221-T_boost.csv', 'epochs': 3, 'model_name': 'timm/efficientvit_m2.r224_in1k', 'seed': 6000, 'treatment_column': 'T_proxy'}, 'exp81': {'ATE': -0.236101709455574, 'ATE_adjusted': 0.10276568161993124, 'ATE_unadjusted': -0.16592980052722262, 'batch_size': 32, 'desc': '/root/graduation_thetis/causal-bert-pytorch/input/modelinput/noise-T-boost/Appliance_preprocess_sharpness_ave_t0.8c0.8_noise0.5_1221-T_boost.csv', 'epochs': 3, 'model_name': 'timm/vit_base_patch32_clip_224.laion2b_ft_in12k_in1k', 'seed': 42, 'treatment_column': 'T_proxy'}, 'exp82': {'ATE': -0.13833338515880023, 'ATE_adjusted': 0.5351638324644239, 'ATE_unadjusted': -0.21985594785893686, 'batch_size': 32, 'desc': '/root/graduation_thetis/causal-bert-pytorch/input/modelinput/noise-T-boost/Appliance_preprocess_sharpness_ave_t0.8c10_noise0.5_1221-T_boost.csv', 'epochs': 3, 'model_name': 'timm/vit_base_patch32_clip_224.laion2b_ft_in12k_in1k', 'seed': 42, 'treatment_column': 'T_proxy'}, 'exp83': {'ATE': -0.07576370221247584, 'ATE_adjusted': 0.0616701861602682, 'ATE_unadjusted': -0.13708215718318228, 'batch_size': 32, 'desc': '/root/graduation_thetis/causal-bert-pytorch/input/modelinput/noise-T-boost/Watch_preprocess_sharpness_ave_t0.8c0.8_noise0.5_1221-T_boost.csv', 'epochs': 3, 'model_name': 'timm/vit_base_patch32_clip_224.laion2b_ft_in12k_in1k', 'seed': 42, 'treatment_column': 'T_proxy'}, 'exp84': {'ATE': 0.033604100644575766, 'ATE_adjusted': 0.26177539882702927, 'ATE_unadjusted': -0.14044718466795425, 'batch_size': 32, 'desc': '/root/graduation_thetis/causal-bert-pytorch/input/modelinput/noise-T-boost/Watch_preprocess_sharpness_ave_t0.8c10.0_noise0.5_1221-T_boost.csv', 'epochs': 3, 'model_name': 'timm/vit_base_patch32_clip_224.laion2b_ft_in12k_in1k', 'seed': 42, 'treatment_column': 'T_proxy'}, 'exp85': {'ATE': 0.05692255761428711, 'ATE_adjusted': 0.10276568161993124, 'ATE_unadjusted': -0.16592980052722262, 'batch_size': 32, 'desc': '/root/graduation_thetis/causal-bert-pytorch/input/modelinput/noise-T-boost/Appliance_preprocess_sharpness_ave_t0.8c0.8_noise0.5_1221-T_boost.csv', 'epochs': 3, 'model_name': 'timm/vit_base_patch32_clip_224.laion2b_ft_in12k_in1k', 'seed': 123, 'treatment_column': 'T_proxy'}, 'exp86': {'ATE': -0.019260261460021407, 'ATE_adjusted': 0.5351638324644239, 'ATE_unadjusted': -0.21985594785893686, 'batch_size': 32, 'desc': '/root/graduation_thetis/causal-bert-pytorch/input/modelinput/noise-T-boost/Appliance_preprocess_sharpness_ave_t0.8c10_noise0.5_1221-T_boost.csv', 'epochs': 3, 'model_name': 'timm/vit_base_patch32_clip_224.laion2b_ft_in12k_in1k', 'seed': 123, 'treatment_column': 'T_proxy'}, 'exp87': {'ATE': 0.06588988547681657, 'ATE_adjusted': 0.0616701861602682, 'ATE_unadjusted': -0.13708215718318228, 'batch_size': 32, 'desc': '/root/graduation_thetis/causal-bert-pytorch/input/modelinput/noise-T-boost/Watch_preprocess_sharpness_ave_t0.8c0.8_noise0.5_1221-T_boost.csv', 'epochs': 3, 'model_name': 'timm/vit_base_patch32_clip_224.laion2b_ft_in12k_in1k', 'seed': 123, 'treatment_column': 'T_proxy'}, 'exp88': {'ATE': 0.027876275784951776, 'ATE_adjusted': 0.26177539882702927, 'ATE_unadjusted': -0.14044718466795425, 'batch_size': 32, 'desc': '/root/graduation_thetis/causal-bert-pytorch/input/modelinput/noise-T-boost/Watch_preprocess_sharpness_ave_t0.8c10.0_noise0.5_1221-T_boost.csv', 'epochs': 3, 'model_name': 'timm/vit_base_patch32_clip_224.laion2b_ft_in12k_in1k', 'seed': 123, 'treatment_column': 'T_proxy'}, 'exp89': {'ATE': 0.02632052451004519, 'ATE_adjusted': 0.10276568161993124, 'ATE_unadjusted': -0.16592980052722262, 'batch_size': 32, 'desc': '/root/graduation_thetis/causal-bert-pytorch/input/modelinput/noise-T-boost/Appliance_preprocess_sharpness_ave_t0.8c0.8_noise0.5_1221-T_boost.csv', 'epochs': 3, 'model_name': 'timm/vit_base_patch32_clip_224.laion2b_ft_in12k_in1k', 'seed': 456, 'treatment_column': 'T_proxy'}, 'exp9': {'ATE': -0.1313893060274449, 'ATE_adjusted': 0.10276568161993124, 'ATE_unadjusted': -0.16592980052722262, 'batch_size': 32, 'desc': '/root/graduation_thetis/causal-bert-pytorch/input/modelinput/noise-T-boost/Appliance_preprocess_sharpness_ave_t0.8c0.8_noise0.5_1221-T_boost.csv', 'epochs': 3, 'model_name': 'timm/eva02_tiny_patch14_224.mim_in22k', 'seed': 456, 'treatment_column': 'T_proxy'}, 'exp90': {'ATE': -0.016244953259001146, 'ATE_adjusted': 0.5351638324644239, 'ATE_unadjusted': -0.21985594785893686, 'batch_size': 32, 'desc': '/root/graduation_thetis/causal-bert-pytorch/input/modelinput/noise-T-boost/Appliance_preprocess_sharpness_ave_t0.8c10_noise0.5_1221-T_boost.csv', 'epochs': 3, 'model_name': 'timm/vit_base_patch32_clip_224.laion2b_ft_in12k_in1k', 'seed': 456, 'treatment_column': 'T_proxy'}, 'exp91': {'ATE': -0.02793666163172273, 'ATE_adjusted': 0.0616701861602682, 'ATE_unadjusted': -0.13708215718318228, 'batch_size': 32, 'desc': '/root/graduation_thetis/causal-bert-pytorch/input/modelinput/noise-T-boost/Watch_preprocess_sharpness_ave_t0.8c0.8_noise0.5_1221-T_boost.csv', 'epochs': 3, 'model_name': 'timm/vit_base_patch32_clip_224.laion2b_ft_in12k_in1k', 'seed': 456, 'treatment_column': 'T_proxy'}, 'exp92': {'ATE': -0.021741057328541865, 'ATE_adjusted': 0.26177539882702927, 'ATE_unadjusted': -0.14044718466795425, 'batch_size': 32, 'desc': '/root/graduation_thetis/causal-bert-pytorch/input/modelinput/noise-T-boost/Watch_preprocess_sharpness_ave_t0.8c10.0_noise0.5_1221-T_boost.csv', 'epochs': 3, 'model_name': 'timm/vit_base_patch32_clip_224.laion2b_ft_in12k_in1k', 'seed': 456, 'treatment_column': 'T_proxy'}, 'exp93': {'ATE': -0.031218700011602582, 'ATE_adjusted': 0.10276568161993124, 'ATE_unadjusted': -0.16592980052722262, 'batch_size': 32, 'desc': '/root/graduation_thetis/causal-bert-pytorch/input/modelinput/noise-T-boost/Appliance_preprocess_sharpness_ave_t0.8c0.8_noise0.5_1221-T_boost.csv', 'epochs': 3, 'model_name': 'timm/vit_base_patch32_clip_224.laion2b_ft_in12k_in1k', 'seed': 789, 'treatment_column': 'T_proxy'}, 'exp94': {'ATE': -0.07666389037228492, 'ATE_adjusted': 0.5351638324644239, 'ATE_unadjusted': -0.21985594785893686, 'batch_size': 32, 'desc': '/root/graduation_thetis/causal-bert-pytorch/input/modelinput/noise-T-boost/Appliance_preprocess_sharpness_ave_t0.8c10_noise0.5_1221-T_boost.csv', 'epochs': 3, 'model_name': 'timm/vit_base_patch32_clip_224.laion2b_ft_in12k_in1k', 'seed': 789, 'treatment_column': 'T_proxy'}, 'exp95': {'ATE': -0.2065863773267396, 'ATE_adjusted': 0.0616701861602682, 'ATE_unadjusted': -0.13708215718318228, 'batch_size': 32, 'desc': '/root/graduation_thetis/causal-bert-pytorch/input/modelinput/noise-T-boost/Watch_preprocess_sharpness_ave_t0.8c0.8_noise0.5_1221-T_boost.csv', 'epochs': 3, 'model_name': 'timm/vit_base_patch32_clip_224.laion2b_ft_in12k_in1k', 'seed': 789, 'treatment_column': 'T_proxy'}, 'exp96': {'ATE': -0.17278570931857148, 'ATE_adjusted': 0.26177539882702927, 'ATE_unadjusted': -0.14044718466795425, 'batch_size': 32, 'desc': '/root/graduation_thetis/causal-bert-pytorch/input/modelinput/noise-T-boost/Watch_preprocess_sharpness_ave_t0.8c10.0_noise0.5_1221-T_boost.csv', 'epochs': 3, 'model_name': 'timm/vit_base_patch32_clip_224.laion2b_ft_in12k_in1k', 'seed': 789, 'treatment_column': 'T_proxy'}, 'exp97': {'ATE': -0.10000320520217074, 'ATE_adjusted': 0.10276568161993124, 'ATE_unadjusted': -0.16592980052722262, 'batch_size': 32, 'desc': '/root/graduation_thetis/causal-bert-pytorch/input/modelinput/noise-T-boost/Appliance_preprocess_sharpness_ave_t0.8c0.8_noise0.5_1221-T_boost.csv', 'epochs': 3, 'model_name': 'timm/vit_base_patch32_clip_224.laion2b_ft_in12k_in1k', 'seed': 1000, 'treatment_column': 'T_proxy'}, 'exp98': {'ATE': -0.12142950280931414, 'ATE_adjusted': 0.5351638324644239, 'ATE_unadjusted': -0.21985594785893686, 'batch_size': 32, 'desc': '/root/graduation_thetis/causal-bert-pytorch/input/modelinput/noise-T-boost/Appliance_preprocess_sharpness_ave_t0.8c10_noise0.5_1221-T_boost.csv', 'epochs': 3, 'model_name': 'timm/vit_base_patch32_clip_224.laion2b_ft_in12k_in1k', 'seed': 1000, 'treatment_column': 'T_proxy'}, 'exp99': {'ATE': -0.2166007000017666, 'ATE_adjusted': 0.0616701861602682, 'ATE_unadjusted': -0.13708215718318228, 'batch_size': 32, 'desc': '/root/graduation_thetis/causal-bert-pytorch/input/modelinput/noise-T-boost/Watch_preprocess_sharpness_ave_t0.8c0.8_noise0.5_1221-T_boost.csv', 'epochs': 3, 'model_name': 'timm/vit_base_patch32_clip_224.laion2b_ft_in12k_in1k', 'seed': 1000, 'treatment_column': 'T_proxy'}}\n"
     ]
    }
   ],
   "source": [
    "import yaml \n",
    "with open(\"/root/graduation_thetis/causal-bert-pytorch/run/result/[0111]seed_3_appandwatch_sharpness_ave_noise_aug_none.yaml\",'r') as yml:\n",
    "    yaml_data = yaml.safe_load(yml)\n",
    "print(yaml_data)"
   ]
  },
  {
   "cell_type": "code",
   "execution_count": 10,
   "metadata": {},
   "outputs": [
    {
     "name": "stdout",
     "output_type": "stream",
     "text": [
      "eva_ate -0.11403763664048669 0.06919128245597383\n",
      "vit_ate -0.09312082859774487 0.09593835055813513\n",
      "eff_ate -0.08396463427899366 0.3000644860640842\n"
     ]
    }
   ],
   "source": [
    "import numpy as np\n",
    "eva_ate = []\n",
    "vit_ate = []\n",
    "eff_ate = []\n",
    "for k,v in yaml_data.items():\n",
    "    if v[\"desc\"] != \"/root/graduation_thetis/causal-bert-pytorch/input/modelinput/noise-T-boost/Watch_preprocess_sharpness_ave_t0.8c0.8_noise0.5_1221-T_boost.csv\":\n",
    "        continue\n",
    "    if v['model_name'] == 'timm/eva02_tiny_patch14_224.mim_in22k':\n",
    "        eva_ate.append(v['ATE'])\n",
    "    if v['model_name'] == 'timm/efficientvit_m2.r224_in1k':\n",
    "        eff_ate.append(v['ATE'])\n",
    "    if v['model_name'] == 'timm/vit_base_patch32_clip_224.laion2b_ft_in12k_in1k':\n",
    "        vit_ate.append(v['ATE'])\n",
    "\n",
    "print(\"eva_ate\", np.mean(eva_ate),np.std(eva_ate))\n",
    "print(\"vit_ate\", np.mean(vit_ate),np.std(vit_ate))\n",
    "print(\"eff_ate\", np.mean(eff_ate),np.std(eff_ate))"
   ]
  },
  {
   "cell_type": "code",
   "execution_count": 2,
   "metadata": {},
   "outputs": [
    {
     "ename": "KeyError",
     "evalue": "'treatment_column'",
     "output_type": "error",
     "traceback": [
      "\u001b[0;31m---------------------------------------------------------------------------\u001b[0m",
      "\u001b[0;31mKeyError\u001b[0m                                  Traceback (most recent call last)",
      "Cell \u001b[0;32mIn[2], line 4\u001b[0m\n\u001b[1;32m      2\u001b[0m eva_ate, vit_ate, eff_ate \u001b[38;5;241m=\u001b[39m [], [], []\n\u001b[1;32m      3\u001b[0m \u001b[38;5;28;01mfor\u001b[39;00m k, v \u001b[38;5;129;01min\u001b[39;00m yaml_data\u001b[38;5;241m.\u001b[39mitems():\n\u001b[0;32m----> 4\u001b[0m     \u001b[38;5;28;01mif\u001b[39;00m \u001b[43mv\u001b[49m\u001b[43m[\u001b[49m\u001b[38;5;124;43m\"\u001b[39;49m\u001b[38;5;124;43mtreatment_column\u001b[39;49m\u001b[38;5;124;43m\"\u001b[39;49m\u001b[43m]\u001b[49m \u001b[38;5;241m!=\u001b[39m treat:\n\u001b[1;32m      5\u001b[0m         \u001b[38;5;28;01mcontinue\u001b[39;00m\n\u001b[1;32m      6\u001b[0m     \u001b[38;5;28;01mif\u001b[39;00m v[\u001b[38;5;124m'\u001b[39m\u001b[38;5;124mmodel_name\u001b[39m\u001b[38;5;124m'\u001b[39m] \u001b[38;5;241m==\u001b[39m \u001b[38;5;124m'\u001b[39m\u001b[38;5;124mtimm/eva02_tiny_patch14_224.mim_in22k\u001b[39m\u001b[38;5;124m'\u001b[39m:\n",
      "\u001b[0;31mKeyError\u001b[0m: 'treatment_column'"
     ]
    }
   ],
   "source": [
    "for treat in [\"T_proxy\" ,\"T_plus_pu\", \"T_plus_reg\"]:\n",
    "        eva_ate, vit_ate, eff_ate = [], [], []\n",
    "        for k, v in yaml_data.items():\n",
    "            if v[\"treatment_column\"] != treat:\n",
    "                continue\n",
    "            if v['model_name'] == 'timm/eva02_tiny_patch14_224.mim_in22k':\n",
    "                eva_ate.append(v['ATE'])\n",
    "            elif v['model_name'] == 'timm/efficientvit_m2.r224_in1k':\n",
    "                eff_ate.append(v['ATE'])\n",
    "            elif v['model_name'] == 'timm/vit_base_patch32_clip_224.laion2b_ft_in12k_in1k':\n",
    "                vit_ate.append(v['ATE'])\n",
    "\n",
    "        # ATEの統計量を計算\n",
    "        eva_stats = f\"eva_ate: mean={np.mean(eva_ate):.4f}, std={np.std(eva_ate):.4f}\"\n",
    "        vit_stats = f\"vit_ate: mean={np.mean(vit_ate):.4f}, std={np.std(vit_ate):.4f}\"\n",
    "        eff_stats = f\"eff_ate: mean={np.mean(eff_ate):.4f}, std={np.std(eff_ate):.4f}\"\n",
    "        print(treat)\n",
    "        print(eva_stats)\n",
    "        print(vit_stats)\n",
    "        print(eff_stats)\n"
   ]
  },
  {
   "cell_type": "code",
   "execution_count": 4,
   "metadata": {},
   "outputs": [
    {
     "name": "stdout",
     "output_type": "stream",
     "text": [
      "eva_ate -0.08035917876114858 0.05379326284263722\n",
      "vit_ate -0.10281443675204249 0.046522714507931245\n",
      "eff_ate -0.13296239632445533 0.08868232717574807\n",
      "eva_ate -0.044802874497709325 0.03700747305609473\n",
      "vit_ate -0.09446831285024097 0.042434176552423805\n",
      "eff_ate -0.13528303374618786 0.07860515049770908\n",
      "eva_ate nan nan\n",
      "vit_ate nan nan\n",
      "eff_ate nan nan\n"
     ]
    },
    {
     "name": "stderr",
     "output_type": "stream",
     "text": [
      "/root/.venv/lib/python3.8/site-packages/numpy/core/fromnumeric.py:3464: RuntimeWarning: Mean of empty slice.\n",
      "  return _methods._mean(a, axis=axis, dtype=dtype,\n",
      "/root/.venv/lib/python3.8/site-packages/numpy/core/_methods.py:192: RuntimeWarning: invalid value encountered in scalar divide\n",
      "  ret = ret.dtype.type(ret / rcount)\n",
      "/root/.venv/lib/python3.8/site-packages/numpy/core/_methods.py:269: RuntimeWarning: Degrees of freedom <= 0 for slice\n",
      "  ret = _var(a, axis=axis, dtype=dtype, out=out, ddof=ddof,\n",
      "/root/.venv/lib/python3.8/site-packages/numpy/core/_methods.py:226: RuntimeWarning: invalid value encountered in divide\n",
      "  arrmean = um.true_divide(arrmean, div, out=arrmean,\n",
      "/root/.venv/lib/python3.8/site-packages/numpy/core/_methods.py:261: RuntimeWarning: invalid value encountered in scalar divide\n",
      "  ret = ret.dtype.type(ret / rcount)\n"
     ]
    }
   ],
   "source": [
    "import numpy as np\n",
    "for epoch in [3,5,10]:\n",
    "        eva_ate, vit_ate, eff_ate = [], [], []\n",
    "        for k, v in yaml_data.items():\n",
    "            if v[\"epochs\"] != epoch:\n",
    "                continue\n",
    "            if v['model_name'] == 'timm/eva02_tiny_patch14_224.mim_in22k':\n",
    "                eva_ate.append(v['ATE'])\n",
    "            elif v['model_name'] == 'timm/efficientvit_m2.r224_in1k':\n",
    "                eff_ate.append(v['ATE'])\n",
    "            elif v['model_name'] == 'timm/vit_base_patch32_clip_224.laion2b_ft_in12k_in1k':\n",
    "                vit_ate.append(v['ATE'])\n",
    "\n",
    "        # ATEの統計量を計算\n",
    "        eva_stats = f\"eva_ate: mean={np.mean(eva_ate):.4f}, std={np.std(eva_ate):.4f}\"\n",
    "        vit_stats = f\"vit_ate: mean={np.mean(vit_ate):.4f}, std={np.std(vit_ate):.4f}\"\n",
    "        eff_stats = f\"eff_ate: mean={np.mean(eff_ate):.4f}, std={np.std(eff_ate):.4f}\"\n",
    "        print(\"eva_ate\", np.mean(eva_ate),np.std(eva_ate))\n",
    "        print(\"vit_ate\", np.mean(vit_ate),np.std(vit_ate))\n",
    "        print(\"eff_ate\", np.mean(eff_ate),np.std(eff_ate))\n"
   ]
  },
  {
   "cell_type": "code",
   "execution_count": 12,
   "metadata": {},
   "outputs": [
    {
     "name": "stdout",
     "output_type": "stream",
     "text": [
      "ATE_unadjusted:  -0.1503913224616117\n",
      "ATE_adjusted:  -0.16558203420370046\n",
      "ATE_adjusted_T_boost_pu :  -0.06463264848695677\n",
      "ATE_adjusted_T_boost_reg :  -0.0866486309541982\n"
     ]
    }
   ],
   "source": [
    "from collections import defaultdict\n",
    "import numpy as np\n",
    "import pandas as pd\n",
    "def ATE_unadjusted(T, Y):\n",
    "    x = defaultdict(list)\n",
    "    for t, y in zip(T, Y):\n",
    "        x[t].append(y)\n",
    "    T0 = np.mean(x[0])\n",
    "    T1 = np.mean(x[1])\n",
    "    return T0 - T1\n",
    "\n",
    "def ATE_adjusted(C, T, Y):\n",
    "    x = defaultdict(list)\n",
    "    for c, t, y in zip(C, T, Y):\n",
    "        x[c, t].append(y)\n",
    "\n",
    "    C0_ATE = np.mean(x[0,0]) - np.mean(x[0,1])\n",
    "    C1_ATE = np.mean(x[1,0]) - np.mean(x[1,1])\n",
    "    return np.mean([C0_ATE, C1_ATE])\n",
    "\n",
    "\n",
    "if __name__ == \"__main__\":\n",
    "    df = pd.read_csv(\"/root/graduation_thetis/causal-bert-pytorch/run/result/sharpness_ave-4predict.csv\")\n",
    "    treatment = \"light_or_dark\"\n",
    "    confounder = \"sharpness_ave\"\n",
    "    outcome = \"outcome\"\n",
    "    T_proxy = \"T_proxy\"\n",
    "    T_boost_pu = \"T_plus_pu\"\n",
    "    T_boost_reg = \"T_plus_reg\"\n",
    "    print(\"ATE_unadjusted: \", ATE_unadjusted(df[T_proxy], df[outcome]))\n",
    "    print(\"ATE_adjusted: \", ATE_adjusted(df[confounder], df[treatment],df[outcome]))\n",
    "    print(\"ATE_adjusted_T_boost_pu : \", ATE_adjusted(df[confounder],df[T_boost_pu], df[outcome]))\n",
    "    print(\"ATE_adjusted_T_boost_reg : \", ATE_adjusted(df[confounder],df[T_boost_reg], df[outcome]))"
   ]
  },
  {
   "cell_type": "code",
   "execution_count": null,
   "metadata": {},
   "outputs": [],
   "source": []
  },
  {
   "cell_type": "code",
   "execution_count": 6,
   "metadata": {},
   "outputs": [
    {
     "data": {
      "text/plain": [
       "contains_text\n",
       "0    4397\n",
       "1     511\n",
       "Name: count, dtype: int64"
      ]
     },
     "execution_count": 6,
     "metadata": {},
     "output_type": "execute_result"
    }
   ],
   "source": [
    "df[confounder].value_counts()"
   ]
  },
  {
   "cell_type": "code",
   "execution_count": null,
   "metadata": {},
   "outputs": [],
   "source": [
    "import yaml\n",
    "import numpy as np\n",
    "import pandas as pd\n",
    "from collections import defaultdict\n",
    "import yagmail\n",
    "from dotenv import load_dotenv\n",
    "import os\n",
    "import hydra\n",
    "from omegaconf import DictConfig\n",
    "# .envファイルを読み込む\n",
    "def main(cfg: DictConfig) -> None:\n",
    "\n",
    "    # train.yamlからファイルパスを取得\n",
    "    with open(\"/root/graduation_thetis/causal-bert-pytorch/run/conf/train.yaml\", 'r') as yml:\n",
    "        train_config = yaml.safe_load(yml)\n",
    "    \n",
    "    if cfg.confounds_column == \"sharpness_ave\":\n",
    "        treats = [\"/root/graduation_thetis/causal-bert-pytorch/input/modelinput/noise-T-boost/Appliance_preprocess_sharpness_ave_t0.8c0.8_noise0.5_1221-T_boost.csv\",\n",
    "        \"/root/graduation_thetis/causal-bert-pytorch/input/modelinput/noise-T-boost/Appliance_preprocess_sharpness_ave_t0.8c10_noise0.5_1221-T_boost.csv\",\n",
    "        \"/root/graduation_thetis/causal-bert-pytorch/input/modelinput/noise-T-boost/Watch_preprocess_sharpness_ave_t0.8c0.8_noise0.5_1221-T_boost.csv\",\n",
    "        \"/root/graduation_thetis/causal-bert-pytorch/input/modelinput/noise-T-boost/Watch_preprocess_sharpness_ave_t0.8c10.0_noise0.5_1221-T_boost.csv\"\n",
    "        ]\n",
    "        yaml_path = cfg[\"file_name_T\"]\n",
    "    elif cfg.confounds_column == \"contains_text\":\n",
    "        treats = [\"/root/graduation_thetis/causal-bert-pytorch/input/modelinput/noise-T-boost/Appliances_preprocess_contains_text_t0.8c0.8_noise0.5_1221-T_boost.csv\",\n",
    "                  \"/root/graduation_thetis/causal-bert-pytorch/input/modelinput/noise-T-boost/Appliances_preprocess_contains_text_t0.8c10_noise0.5_1221-T_boost.csv\"]    \n",
    "        yaml_path = cfg[\"file_name_C\"]\n",
    "    # treats = [\"/root/graduation_thetis/causal-bert-pytorch/input/modelinput/T-boost/Appliances_preprocess_sharpness_ave_t0.8c0.8_1210-T_boost.csv\",\n",
    "    # \"/root/graduation_thetis/causal-bert-pytorch/input/modelinput/T-boost/Appliances_preprocess_sharpness_ave_t0.8c10.0_1202-T_boost.csv\",\n",
    "    # \"/root/graduation_thetis/causal-bert-pytorch/input/modelinput/T-boost/Watch_preprocess_sharpness_ave_t0.8c0.8_1206-T_boost.csv\",\n",
    "    # \"/root/graduation_thetis/causal-bert-pytorch/input/modelinput/T-boost/Watch_preprocess_sharpness_ave_t0.8c10.0_1206-T_boost.csv\"\n",
    "    # ]\n",
    "    #treats = [\"/root/graduation_thetis/causal-bert-pytorch/input/modelinput/T-boost/Appliances_preprocess_contains_text_t0.8c0.8_1203-T_boost.csv\",\"/root/graduation_thetis/causal-bert-pytorch/input/modelinput/T-boost/Appliances_preprocess_containstext_t0.8c10.0_1202-T_boost.csv\"]\n",
    "    csv_path = cfg[\"df_path\"]\n",
    "    description = cfg[\"description\"]\n",
    "    email_body = f\"description:{description}\\n\"\n",
    "\n",
    "    # yamlデータを読み込む\n",
    "    with open(yaml_path, 'r') as yml:\n",
    "        yaml_data = yaml.safe_load(yml)\n",
    "    truth_result = defaultdict()\n",
    "    for treat in treats:\n",
    "        eva_ate, vit_ate, eff_ate = [], [], []\n",
    "        for k, v in yaml_data.items():\n",
    "            if v[\"desc\"] != treat:\n",
    "                continue\n",
    "            if v['model_name'] == 'timm/eva02_tiny_patch14_224.mim_in22k':\n",
    "                eva_ate.append(v['ATE'])\n",
    "            elif v['model_name'] == 'timm/efficientvit_m2.r224_in1k':\n",
    "                eff_ate.append(v['ATE'])\n",
    "            elif v['model_name'] == 'timm/vit_base_patch32_clip_224.laion2b_ft_in12k_in1k':\n",
    "                vit_ate.append(v['ATE'])\n",
    "            truth_result[f\"{treat}_unadj\"] = v[\"ATE_unadj\"]\n",
    "            truth_result[f\"{treat}_adj\"] = v[\"ATE_adj\"]\n",
    "            \n",
    "\n",
    "        # ATEの統計量を計算\n",
    "        eva_stats = f\"eva_ate: mean={np.mean(eva_ate):.4f}, std={np.std(eva_ate):.4f}\"\n",
    "        vit_stats = f\"vit_ate: mean={np.mean(vit_ate):.4f}, std={np.std(vit_ate):.4f}\"\n",
    "        eff_stats = f\"eff_ate: mean={np.mean(eff_ate):.4f}, std={np.std(eff_ate):.4f}\"\n",
    "        # ATE_unadjusted, ATE_adjustedを計算\n",
    "        \"\"\"\n",
    "        df = pd.read_csv(treat)\n",
    "        treatment = \"light_or_dark\"\n",
    "        confounder = cfg[\"confounds_column\"]\n",
    "        outcome = cfg[\"outcome_column\"]\n",
    "        T_proxy = \"T_proxy\"\n",
    "        #T_boost = treat\n",
    "\n",
    "        unadjusted_ate = ATE_unadjusted(df[T_proxy], df[outcome])\n",
    "        adjusted_ate = ATE_adjusted(df[confounder], df[treatment], df[outcome])\n",
    "        #T_boost_ate = ATE_adjusted(df[confounder], df[T_boost], df[outcome])\n",
    "\n",
    "        unadjusted_stats = f\"ATE_unadjusted: {unadjusted_ate:.4f}\"\n",
    "        adjusted_stats = f\"ATE_adjusted: {adjusted_ate:.4f}\"\n",
    "        #T_boost_stats = f\"ATE_adjusted({treat}): {T_boost_ate:.4f}\"\n",
    "        \"\"\"\n",
    "        # メール本文を作成\n",
    "        email_body += \"\\n\".join([\n",
    "            \"パラメータ:\",\n",
    "            f\"df={treat}\",\n",
    "            \"ATE統計情報:\",\n",
    "            eva_stats,\n",
    "            vit_stats,\n",
    "            eff_stats,\n",
    "            \"\",\n",
    "            \"ATE分析:\",\n",
    "            truth_result[f\"{treat}_unadj\"],\n",
    "            truth_result[f\"{treat}_adj\"],\n",
    "        ])\n",
    "\n",
    "    # メールを送信\n",
    "    try:\n",
    "        yag = yagmail.SMTP(EMAIL_SENDER, EMAIL_PASSWORD)\n",
    "        yag.send(\n",
    "            to=EMAIL_RECIPIENT,\n",
    "            subject=\"ATE分析結果\",\n",
    "            contents=email_body\n",
    "        )\n",
    "        print(\"メールが送信されました。\")\n",
    "    except Exception as e:\n",
    "        print(f\"メール送信中にエラーが発生しました: {e}\")\n",
    "    \n",
    "    return\n",
    "\n",
    "if __name__ == \"__main__\":\n",
    "    main()"
   ]
  }
 ],
 "metadata": {
  "kernelspec": {
   "display_name": ".venv",
   "language": "python",
   "name": "python3"
  },
  "language_info": {
   "codemirror_mode": {
    "name": "ipython",
    "version": 3
   },
   "file_extension": ".py",
   "mimetype": "text/x-python",
   "name": "python",
   "nbconvert_exporter": "python",
   "pygments_lexer": "ipython3",
   "version": "3.8.10"
  }
 },
 "nbformat": 4,
 "nbformat_minor": 2
}
