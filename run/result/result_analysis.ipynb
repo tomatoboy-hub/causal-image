{
 "cells": [
  {
   "cell_type": "code",
   "execution_count": 1,
   "metadata": {},
   "outputs": [
    {
     "name": "stdout",
     "output_type": "stream",
     "text": [
      "{'exp1': {'ATE': -0.12891103841863105, 'batch_size': 32, 'epochs': 3, 'model_name': 'timm/eva02_tiny_patch14_224.mim_in22k', 'seed': 42}, 'exp10': {'ATE': -0.0615148858908385, 'batch_size': 32, 'epochs': 3, 'model_name': 'timm/eva02_tiny_patch14_224.mim_in22k', 'seed': 2021}, 'exp11': {'ATE': -0.08696908395462861, 'batch_size': 32, 'epochs': 3, 'model_name': 'timm/eva02_tiny_patch14_224.mim_in22k', 'seed': 2223}, 'exp12': {'ATE': -0.0500756520463092, 'batch_size': 32, 'epochs': 3, 'model_name': 'timm/eva02_tiny_patch14_224.mim_in22k', 'seed': 2425}, 'exp13': {'ATE': -0.08549198056391721, 'batch_size': 32, 'epochs': 3, 'model_name': 'timm/eva02_tiny_patch14_224.mim_in22k', 'seed': 2627}, 'exp14': {'ATE': -0.11727697358915659, 'batch_size': 32, 'epochs': 3, 'model_name': 'timm/eva02_tiny_patch14_224.mim_in22k', 'seed': 2829}, 'exp15': {'ATE': -0.07273807236830312, 'batch_size': 32, 'epochs': 3, 'model_name': 'timm/eva02_tiny_patch14_224.mim_in22k', 'seed': 3031}, 'exp16': {'ATE': -0.047980748008662095, 'batch_size': 32, 'epochs': 3, 'model_name': 'timm/eva02_tiny_patch14_224.mim_in22k', 'seed': 3233}, 'exp17': {'ATE': -0.05208585469998001, 'batch_size': 32, 'epochs': 3, 'model_name': 'timm/eva02_tiny_patch14_224.mim_in22k', 'seed': 3435}, 'exp18': {'ATE': -0.06769683534446966, 'batch_size': 32, 'epochs': 3, 'model_name': 'timm/eva02_tiny_patch14_224.mim_in22k', 'seed': 3637}, 'exp19': {'ATE': -0.05239595805041044, 'batch_size': 32, 'epochs': 3, 'model_name': 'timm/eva02_tiny_patch14_224.mim_in22k', 'seed': 3839}, 'exp2': {'ATE': -0.11115982445451841, 'batch_size': 32, 'epochs': 3, 'model_name': 'timm/eva02_tiny_patch14_224.mim_in22k', 'seed': 123}, 'exp20': {'ATE': -0.09483004964893134, 'batch_size': 32, 'epochs': 3, 'model_name': 'timm/eva02_tiny_patch14_224.mim_in22k', 'seed': 4041}, 'exp21': {'ATE': -0.11448503594181543, 'batch_size': 32, 'epochs': 3, 'model_name': 'timm/efficientvit_m2.r224_in1k', 'seed': 42}, 'exp22': {'ATE': -0.035408053795520054, 'batch_size': 32, 'epochs': 3, 'model_name': 'timm/efficientvit_m2.r224_in1k', 'seed': 123}, 'exp23': {'ATE': 0.017975775747538288, 'batch_size': 32, 'epochs': 3, 'model_name': 'timm/efficientvit_m2.r224_in1k', 'seed': 456}, 'exp24': {'ATE': -0.03038614625711796, 'batch_size': 32, 'epochs': 3, 'model_name': 'timm/efficientvit_m2.r224_in1k', 'seed': 789}, 'exp25': {'ATE': 0.047368565090847754, 'batch_size': 32, 'epochs': 3, 'model_name': 'timm/efficientvit_m2.r224_in1k', 'seed': 1011}, 'exp26': {'ATE': -0.0692276448195993, 'batch_size': 32, 'epochs': 3, 'model_name': 'timm/efficientvit_m2.r224_in1k', 'seed': 1213}, 'exp27': {'ATE': -0.04217714995028582, 'batch_size': 32, 'epochs': 3, 'model_name': 'timm/efficientvit_m2.r224_in1k', 'seed': 1415}, 'exp28': {'ATE': 0.06669132587057516, 'batch_size': 32, 'epochs': 3, 'model_name': 'timm/efficientvit_m2.r224_in1k', 'seed': 1617}, 'exp29': {'ATE': -0.06508387053039377, 'batch_size': 32, 'epochs': 3, 'model_name': 'timm/efficientvit_m2.r224_in1k', 'seed': 1819}, 'exp3': {'ATE': -0.010746535878474846, 'batch_size': 32, 'epochs': 3, 'model_name': 'timm/eva02_tiny_patch14_224.mim_in22k', 'seed': 456}, 'exp30': {'ATE': 0.11070903915335646, 'batch_size': 32, 'epochs': 3, 'model_name': 'timm/efficientvit_m2.r224_in1k', 'seed': 2021}, 'exp31': {'ATE': -0.04572912072483924, 'batch_size': 32, 'epochs': 3, 'model_name': 'timm/efficientvit_m2.r224_in1k', 'seed': 2223}, 'exp32': {'ATE': 0.11902361981650833, 'batch_size': 32, 'epochs': 3, 'model_name': 'timm/efficientvit_m2.r224_in1k', 'seed': 2425}, 'exp33': {'ATE': 0.04969285514208474, 'batch_size': 32, 'epochs': 3, 'model_name': 'timm/efficientvit_m2.r224_in1k', 'seed': 2627}, 'exp34': {'ATE': -0.06913365586340985, 'batch_size': 32, 'epochs': 3, 'model_name': 'timm/efficientvit_m2.r224_in1k', 'seed': 2829}, 'exp35': {'ATE': -0.0737068870774556, 'batch_size': 32, 'epochs': 3, 'model_name': 'timm/efficientvit_m2.r224_in1k', 'seed': 3031}, 'exp36': {'ATE': -0.221066870649079, 'batch_size': 32, 'epochs': 3, 'model_name': 'timm/efficientvit_m2.r224_in1k', 'seed': 3233}, 'exp37': {'ATE': -0.010248763344617053, 'batch_size': 32, 'epochs': 3, 'model_name': 'timm/efficientvit_m2.r224_in1k', 'seed': 3435}, 'exp38': {'ATE': -0.07731593456174514, 'batch_size': 32, 'epochs': 3, 'model_name': 'timm/efficientvit_m2.r224_in1k', 'seed': 3637}, 'exp39': {'ATE': 0.09446958343869633, 'batch_size': 32, 'epochs': 3, 'model_name': 'timm/efficientvit_m2.r224_in1k', 'seed': 3839}, 'exp4': {'ATE': -0.042728504507303075, 'batch_size': 32, 'epochs': 3, 'model_name': 'timm/eva02_tiny_patch14_224.mim_in22k', 'seed': 789}, 'exp40': {'ATE': -0.16158785737933706, 'batch_size': 32, 'epochs': 3, 'model_name': 'timm/efficientvit_m2.r224_in1k', 'seed': 4041}, 'exp41': {'ATE': -0.055358329093923755, 'batch_size': 32, 'epochs': 3, 'model_name': 'timm/vit_base_patch32_clip_224.laion2b_ft_in12k_in1k', 'seed': 42}, 'exp42': {'ATE': 0.04841222233712633, 'batch_size': 32, 'epochs': 3, 'model_name': 'timm/vit_base_patch32_clip_224.laion2b_ft_in12k_in1k', 'seed': 123}, 'exp43': {'ATE': 0.0014073460503274157, 'batch_size': 32, 'epochs': 3, 'model_name': 'timm/vit_base_patch32_clip_224.laion2b_ft_in12k_in1k', 'seed': 456}, 'exp44': {'ATE': -0.04763796983728786, 'batch_size': 32, 'epochs': 3, 'model_name': 'timm/vit_base_patch32_clip_224.laion2b_ft_in12k_in1k', 'seed': 789}, 'exp45': {'ATE': -0.08764720508391749, 'batch_size': 32, 'epochs': 3, 'model_name': 'timm/vit_base_patch32_clip_224.laion2b_ft_in12k_in1k', 'seed': 1011}, 'exp46': {'ATE': -0.02043139227515463, 'batch_size': 32, 'epochs': 3, 'model_name': 'timm/vit_base_patch32_clip_224.laion2b_ft_in12k_in1k', 'seed': 1213}, 'exp47': {'ATE': 0.031036431225491504, 'batch_size': 32, 'epochs': 3, 'model_name': 'timm/vit_base_patch32_clip_224.laion2b_ft_in12k_in1k', 'seed': 1415}, 'exp48': {'ATE': 0.014784032142670111, 'batch_size': 32, 'epochs': 3, 'model_name': 'timm/vit_base_patch32_clip_224.laion2b_ft_in12k_in1k', 'seed': 1617}, 'exp49': {'ATE': -0.13949597589394544, 'batch_size': 32, 'epochs': 3, 'model_name': 'timm/vit_base_patch32_clip_224.laion2b_ft_in12k_in1k', 'seed': 1819}, 'exp5': {'ATE': -0.11525059980796833, 'batch_size': 32, 'epochs': 3, 'model_name': 'timm/eva02_tiny_patch14_224.mim_in22k', 'seed': 1011}, 'exp50': {'ATE': -0.003027585302961284, 'batch_size': 32, 'epochs': 3, 'model_name': 'timm/vit_base_patch32_clip_224.laion2b_ft_in12k_in1k', 'seed': 2021}, 'exp51': {'ATE': -0.014304952218655076, 'batch_size': 32, 'epochs': 3, 'model_name': 'timm/vit_base_patch32_clip_224.laion2b_ft_in12k_in1k', 'seed': 2223}, 'exp52': {'ATE': -0.06977454078729448, 'batch_size': 32, 'epochs': 3, 'model_name': 'timm/vit_base_patch32_clip_224.laion2b_ft_in12k_in1k', 'seed': 2425}, 'exp53': {'ATE': -0.01707980459640363, 'batch_size': 32, 'epochs': 3, 'model_name': 'timm/vit_base_patch32_clip_224.laion2b_ft_in12k_in1k', 'seed': 2627}, 'exp54': {'ATE': -0.12189312906906845, 'batch_size': 32, 'epochs': 3, 'model_name': 'timm/vit_base_patch32_clip_224.laion2b_ft_in12k_in1k', 'seed': 2829}, 'exp55': {'ATE': -0.15898933937424256, 'batch_size': 32, 'epochs': 3, 'model_name': 'timm/vit_base_patch32_clip_224.laion2b_ft_in12k_in1k', 'seed': 3031}, 'exp56': {'ATE': -0.020510192708621724, 'batch_size': 32, 'epochs': 3, 'model_name': 'timm/vit_base_patch32_clip_224.laion2b_ft_in12k_in1k', 'seed': 3233}, 'exp57': {'ATE': -0.015464516697883445, 'batch_size': 32, 'epochs': 3, 'model_name': 'timm/vit_base_patch32_clip_224.laion2b_ft_in12k_in1k', 'seed': 3435}, 'exp58': {'ATE': -0.07553620954334454, 'batch_size': 32, 'epochs': 3, 'model_name': 'timm/vit_base_patch32_clip_224.laion2b_ft_in12k_in1k', 'seed': 3637}, 'exp59': {'ATE': -0.010517739142373738, 'batch_size': 32, 'epochs': 3, 'model_name': 'timm/vit_base_patch32_clip_224.laion2b_ft_in12k_in1k', 'seed': 3839}, 'exp6': {'ATE': -0.06514603637053082, 'batch_size': 32, 'epochs': 3, 'model_name': 'timm/eva02_tiny_patch14_224.mim_in22k', 'seed': 1213}, 'exp60': {'ATE': -0.0035887631040477045, 'batch_size': 32, 'epochs': 3, 'model_name': 'timm/vit_base_patch32_clip_224.laion2b_ft_in12k_in1k', 'seed': 4041}, 'exp7': {'ATE': -0.04200279594797633, 'batch_size': 32, 'epochs': 3, 'model_name': 'timm/eva02_tiny_patch14_224.mim_in22k', 'seed': 1415}, 'exp8': {'ATE': -0.0968695537724291, 'batch_size': 32, 'epochs': 3, 'model_name': 'timm/eva02_tiny_patch14_224.mim_in22k', 'seed': 1617}, 'exp9': {'ATE': -0.07297335631082476, 'batch_size': 32, 'epochs': 3, 'model_name': 'timm/eva02_tiny_patch14_224.mim_in22k', 'seed': 1819}}\n"
     ]
    }
   ],
   "source": [
    "import yaml \n",
    "with open('/root/graduation_thetis/causal-bert-pytorch/run/result/seed_everything_appliance_contain_text_with_aug.yaml','r') as yml:\n",
    "    yaml_data = yaml.safe_load(yml)\n",
    "print(yaml_data)"
   ]
  },
  {
   "cell_type": "code",
   "execution_count": 2,
   "metadata": {},
   "outputs": [
    {
     "name": "stdout",
     "output_type": "stream",
     "text": [
      "eva_ate -0.07374221698171317 0.02975074780237661\n",
      "vit_ate -0.03828088064867551 0.054364578057533856\n",
      "eff_ate -0.025481311331780408 0.0869782046963629\n"
     ]
    }
   ],
   "source": [
    "import numpy as np\n",
    "eva_ate = []\n",
    "vit_ate = []\n",
    "eff_ate = []\n",
    "for k,v in yaml_data.items():\n",
    "    if v['model_name'] == 'timm/eva02_tiny_patch14_224.mim_in22k':\n",
    "        eva_ate.append(v['ATE'])\n",
    "    if v['model_name'] == 'timm/efficientvit_m2.r224_in1k':\n",
    "        eff_ate.append(v['ATE'])\n",
    "    if v['model_name'] == 'timm/vit_base_patch32_clip_224.laion2b_ft_in12k_in1k':\n",
    "        vit_ate.append(v['ATE'])\n",
    "\n",
    "print(\"eva_ate\", np.mean(eva_ate),np.std(eva_ate))\n",
    "print(\"vit_ate\", np.mean(vit_ate),np.std(vit_ate))\n",
    "print(\"eff_ate\", np.mean(eff_ate),np.std(eff_ate))"
   ]
  },
  {
   "cell_type": "code",
   "execution_count": 3,
   "metadata": {},
   "outputs": [
    {
     "name": "stdout",
     "output_type": "stream",
     "text": [
      "ATE_unadjusted:  -0.06485416818955525\n",
      "ATE_adjusted:  0.03791337506722073\n"
     ]
    }
   ],
   "source": [
    "from collections import defaultdict\n",
    "import numpy as np\n",
    "import pandas as pd\n",
    "def ATE_unadjusted(T, Y):\n",
    "    x = defaultdict(list)\n",
    "    for t, y in zip(T, Y):\n",
    "        x[t].append(y)\n",
    "    T0 = np.mean(x[0])\n",
    "    T1 = np.mean(x[1])\n",
    "    return T0 - T1\n",
    "\n",
    "def ATE_adjusted(C, T, Y):\n",
    "    x = defaultdict(list)\n",
    "    for c, t, y in zip(C, T, Y):\n",
    "        x[c, t].append(y)\n",
    "\n",
    "    C0_ATE = np.mean(x[0,0]) - np.mean(x[0,1])\n",
    "    C1_ATE = np.mean(x[1,0]) - np.mean(x[1,1])\n",
    "    return np.mean([C0_ATE, C1_ATE])\n",
    "\n",
    "\n",
    "if __name__ == \"__main__\":\n",
    "    df = pd.read_csv(\"/root/graduation_thetis/causal-bert-pytorch/input/Appliances_preprocess_contains_text_1122.csv\")\n",
    "    treatment = \"light_or_dark\"\n",
    "    confounder = \"contains_text\"\n",
    "    outcome = \"outcome\"\n",
    "    print(\"ATE_unadjusted: \", ATE_unadjusted(df[treatment], df[outcome]))\n",
    "    print(\"ATE_adjusted: \", ATE_adjusted(df[confounder], df[treatment],df[outcome]))"
   ]
  },
  {
   "cell_type": "code",
   "execution_count": 5,
   "metadata": {},
   "outputs": [
    {
     "data": {
      "text/plain": [
       "light_or_dark\n",
       "1    4454\n",
       "0    1462\n",
       "Name: count, dtype: int64"
      ]
     },
     "execution_count": 5,
     "metadata": {},
     "output_type": "execute_result"
    }
   ],
   "source": [
    "df[\"light_or_dark\"].value_counts()"
   ]
  },
  {
   "cell_type": "code",
   "execution_count": null,
   "metadata": {},
   "outputs": [],
   "source": []
  }
 ],
 "metadata": {
  "kernelspec": {
   "display_name": ".venv",
   "language": "python",
   "name": "python3"
  },
  "language_info": {
   "codemirror_mode": {
    "name": "ipython",
    "version": 3
   },
   "file_extension": ".py",
   "mimetype": "text/x-python",
   "name": "python",
   "nbconvert_exporter": "python",
   "pygments_lexer": "ipython3",
   "version": "3.8.10"
  }
 },
 "nbformat": 4,
 "nbformat_minor": 2
}
