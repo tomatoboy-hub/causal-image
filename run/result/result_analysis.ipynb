{
 "cells": [
  {
   "cell_type": "code",
   "execution_count": 1,
   "metadata": {},
   "outputs": [
    {
     "name": "stdout",
     "output_type": "stream",
     "text": [
      "{'exp1': {'ATE': -0.12615819592841013, 'batch_size': 32, 'desc': 'con:sharpness_ave, treat: 0.8, confound: 10.0, aug None', 'epochs': 3, 'model_name': 'timm/eva02_tiny_patch14_224.mim_in22k', 'seed': 42}, 'exp10': {'ATE': -0.10450058692676101, 'batch_size': 32, 'desc': 'con:sharpness_ave, treat: 0.8, confound: 10.0, aug None', 'epochs': 3, 'model_name': 'timm/eva02_tiny_patch14_224.mim_in22k', 'seed': 2021}, 'exp100': {'ATE': 0.03370459633044437, 'batch_size': 32, 'desc': 'con:sharpness_ave, treat: 0.8, confound: 10.0, aug None', 'epochs': 3, 'model_name': 'timm/vit_base_patch32_clip_224.laion2b_ft_in12k_in1k', 'seed': 4041}, 'exp101': {'ATE': -0.0945344963600554, 'batch_size': 32, 'desc': 'con:sharpness_ave, treat: 0.8, confound: 10.0, aug None', 'epochs': 5, 'model_name': 'timm/vit_base_patch32_clip_224.laion2b_ft_in12k_in1k', 'seed': 42}, 'exp102': {'ATE': -0.09008204303006319, 'batch_size': 32, 'desc': 'con:sharpness_ave, treat: 0.8, confound: 10.0, aug None', 'epochs': 5, 'model_name': 'timm/vit_base_patch32_clip_224.laion2b_ft_in12k_in1k', 'seed': 123}, 'exp103': {'ATE': -0.051103922489881756, 'batch_size': 32, 'desc': 'con:sharpness_ave, treat: 0.8, confound: 10.0, aug None', 'epochs': 5, 'model_name': 'timm/vit_base_patch32_clip_224.laion2b_ft_in12k_in1k', 'seed': 456}, 'exp104': {'ATE': -0.02849909513824435, 'batch_size': 32, 'desc': 'con:sharpness_ave, treat: 0.8, confound: 10.0, aug None', 'epochs': 5, 'model_name': 'timm/vit_base_patch32_clip_224.laion2b_ft_in12k_in1k', 'seed': 789}, 'exp105': {'ATE': -0.03816197409515422, 'batch_size': 32, 'desc': 'con:sharpness_ave, treat: 0.8, confound: 10.0, aug None', 'epochs': 5, 'model_name': 'timm/vit_base_patch32_clip_224.laion2b_ft_in12k_in1k', 'seed': 1011}, 'exp106': {'ATE': -0.13523813471738508, 'batch_size': 32, 'desc': 'con:sharpness_ave, treat: 0.8, confound: 10.0, aug None', 'epochs': 5, 'model_name': 'timm/vit_base_patch32_clip_224.laion2b_ft_in12k_in1k', 'seed': 1213}, 'exp107': {'ATE': -0.02698281408798408, 'batch_size': 32, 'desc': 'con:sharpness_ave, treat: 0.8, confound: 10.0, aug None', 'epochs': 5, 'model_name': 'timm/vit_base_patch32_clip_224.laion2b_ft_in12k_in1k', 'seed': 1415}, 'exp108': {'ATE': -0.01737680124496918, 'batch_size': 32, 'desc': 'con:sharpness_ave, treat: 0.8, confound: 10.0, aug None', 'epochs': 5, 'model_name': 'timm/vit_base_patch32_clip_224.laion2b_ft_in12k_in1k', 'seed': 1617}, 'exp109': {'ATE': -0.007767249590974566, 'batch_size': 32, 'desc': 'con:sharpness_ave, treat: 0.8, confound: 10.0, aug None', 'epochs': 5, 'model_name': 'timm/vit_base_patch32_clip_224.laion2b_ft_in12k_in1k', 'seed': 1819}, 'exp11': {'ATE': -0.03050950446227579, 'batch_size': 32, 'desc': 'con:sharpness_ave, treat: 0.8, confound: 10.0, aug None', 'epochs': 3, 'model_name': 'timm/eva02_tiny_patch14_224.mim_in22k', 'seed': 2223}, 'exp110': {'ATE': -0.062488119109186856, 'batch_size': 32, 'desc': 'con:sharpness_ave, treat: 0.8, confound: 10.0, aug None', 'epochs': 5, 'model_name': 'timm/vit_base_patch32_clip_224.laion2b_ft_in12k_in1k', 'seed': 2021}, 'exp12': {'ATE': -0.13438724780500014, 'batch_size': 32, 'desc': 'con:sharpness_ave, treat: 0.8, confound: 10.0, aug None', 'epochs': 3, 'model_name': 'timm/eva02_tiny_patch14_224.mim_in22k', 'seed': 2425}, 'exp13': {'ATE': -0.11310108594016492, 'batch_size': 32, 'desc': 'con:sharpness_ave, treat: 0.8, confound: 10.0, aug None', 'epochs': 3, 'model_name': 'timm/eva02_tiny_patch14_224.mim_in22k', 'seed': 2627}, 'exp14': {'ATE': -0.08587106963666649, 'batch_size': 32, 'desc': 'con:sharpness_ave, treat: 0.8, confound: 10.0, aug None', 'epochs': 3, 'model_name': 'timm/eva02_tiny_patch14_224.mim_in22k', 'seed': 2829}, 'exp15': {'ATE': -0.07127929171175372, 'batch_size': 32, 'desc': 'con:sharpness_ave, treat: 0.8, confound: 10.0, aug None', 'epochs': 3, 'model_name': 'timm/eva02_tiny_patch14_224.mim_in22k', 'seed': 3031}, 'exp16': {'ATE': -0.0716281418492008, 'batch_size': 32, 'desc': 'con:sharpness_ave, treat: 0.8, confound: 10.0, aug None', 'epochs': 3, 'model_name': 'timm/eva02_tiny_patch14_224.mim_in22k', 'seed': 3233}, 'exp17': {'ATE': 0.0005373643284637751, 'batch_size': 32, 'desc': 'con:sharpness_ave, treat: 0.8, confound: 10.0, aug None', 'epochs': 3, 'model_name': 'timm/eva02_tiny_patch14_224.mim_in22k', 'seed': 3435}, 'exp18': {'ATE': -0.060861032754740696, 'batch_size': 32, 'desc': 'con:sharpness_ave, treat: 0.8, confound: 10.0, aug None', 'epochs': 3, 'model_name': 'timm/eva02_tiny_patch14_224.mim_in22k', 'seed': 3637}, 'exp19': {'ATE': -0.07066629668158808, 'batch_size': 32, 'desc': 'con:sharpness_ave, treat: 0.8, confound: 10.0, aug None', 'epochs': 3, 'model_name': 'timm/eva02_tiny_patch14_224.mim_in22k', 'seed': 3839}, 'exp2': {'ATE': -0.03806189001847541, 'batch_size': 32, 'desc': 'con:sharpness_ave, treat: 0.8, confound: 10.0, aug None', 'epochs': 3, 'model_name': 'timm/eva02_tiny_patch14_224.mim_in22k', 'seed': 123}, 'exp20': {'ATE': -0.031915395298802704, 'batch_size': 32, 'desc': 'con:sharpness_ave, treat: 0.8, confound: 10.0, aug None', 'epochs': 3, 'model_name': 'timm/eva02_tiny_patch14_224.mim_in22k', 'seed': 4041}, 'exp21': {'ATE': -0.0822709842517474, 'batch_size': 32, 'desc': 'con:sharpness_ave, treat: 0.8, confound: 10.0, aug None', 'epochs': 5, 'model_name': 'timm/eva02_tiny_patch14_224.mim_in22k', 'seed': 42}, 'exp22': {'ATE': -0.02750054493731688, 'batch_size': 32, 'desc': 'con:sharpness_ave, treat: 0.8, confound: 10.0, aug None', 'epochs': 5, 'model_name': 'timm/eva02_tiny_patch14_224.mim_in22k', 'seed': 123}, 'exp23': {'ATE': -0.024265091062258524, 'batch_size': 32, 'desc': 'con:sharpness_ave, treat: 0.8, confound: 10.0, aug None', 'epochs': 5, 'model_name': 'timm/eva02_tiny_patch14_224.mim_in22k', 'seed': 456}, 'exp24': {'ATE': -0.08777750409003302, 'batch_size': 32, 'desc': 'con:sharpness_ave, treat: 0.8, confound: 10.0, aug None', 'epochs': 5, 'model_name': 'timm/eva02_tiny_patch14_224.mim_in22k', 'seed': 789}, 'exp25': {'ATE': -0.04965191907719986, 'batch_size': 32, 'desc': 'con:sharpness_ave, treat: 0.8, confound: 10.0, aug None', 'epochs': 5, 'model_name': 'timm/eva02_tiny_patch14_224.mim_in22k', 'seed': 1011}, 'exp26': {'ATE': 0.007637576981103799, 'batch_size': 32, 'desc': 'con:sharpness_ave, treat: 0.8, confound: 10.0, aug None', 'epochs': 5, 'model_name': 'timm/eva02_tiny_patch14_224.mim_in22k', 'seed': 1213}, 'exp27': {'ATE': -0.05968342725598931, 'batch_size': 32, 'desc': 'con:sharpness_ave, treat: 0.8, confound: 10.0, aug None', 'epochs': 5, 'model_name': 'timm/eva02_tiny_patch14_224.mim_in22k', 'seed': 1415}, 'exp28': {'ATE': -0.007513538332763807, 'batch_size': 32, 'desc': 'con:sharpness_ave, treat: 0.8, confound: 10.0, aug None', 'epochs': 5, 'model_name': 'timm/eva02_tiny_patch14_224.mim_in22k', 'seed': 1617}, 'exp29': {'ATE': -0.05858597320146986, 'batch_size': 32, 'desc': 'con:sharpness_ave, treat: 0.8, confound: 10.0, aug None', 'epochs': 5, 'model_name': 'timm/eva02_tiny_patch14_224.mim_in22k', 'seed': 1819}, 'exp3': {'ATE': -0.020375216902729303, 'batch_size': 32, 'desc': 'con:sharpness_ave, treat: 0.8, confound: 10.0, aug None', 'epochs': 3, 'model_name': 'timm/eva02_tiny_patch14_224.mim_in22k', 'seed': 456}, 'exp30': {'ATE': -0.03890835155202372, 'batch_size': 32, 'desc': 'con:sharpness_ave, treat: 0.8, confound: 10.0, aug None', 'epochs': 5, 'model_name': 'timm/eva02_tiny_patch14_224.mim_in22k', 'seed': 2021}, 'exp31': {'ATE': -0.03500278509573399, 'batch_size': 32, 'desc': 'con:sharpness_ave, treat: 0.8, confound: 10.0, aug None', 'epochs': 5, 'model_name': 'timm/eva02_tiny_patch14_224.mim_in22k', 'seed': 2223}, 'exp32': {'ATE': -0.07862441602960751, 'batch_size': 32, 'desc': 'con:sharpness_ave, treat: 0.8, confound: 10.0, aug None', 'epochs': 5, 'model_name': 'timm/eva02_tiny_patch14_224.mim_in22k', 'seed': 2425}, 'exp33': {'ATE': -0.04704265849484159, 'batch_size': 32, 'desc': 'con:sharpness_ave, treat: 0.8, confound: 10.0, aug None', 'epochs': 5, 'model_name': 'timm/eva02_tiny_patch14_224.mim_in22k', 'seed': 2627}, 'exp34': {'ATE': -0.05621365145966107, 'batch_size': 32, 'desc': 'con:sharpness_ave, treat: 0.8, confound: 10.0, aug None', 'epochs': 5, 'model_name': 'timm/eva02_tiny_patch14_224.mim_in22k', 'seed': 2829}, 'exp35': {'ATE': -0.0372801296072902, 'batch_size': 32, 'desc': 'con:sharpness_ave, treat: 0.8, confound: 10.0, aug None', 'epochs': 5, 'model_name': 'timm/eva02_tiny_patch14_224.mim_in22k', 'seed': 3031}, 'exp36': {'ATE': -0.037918051641385855, 'batch_size': 32, 'desc': 'con:sharpness_ave, treat: 0.8, confound: 10.0, aug None', 'epochs': 5, 'model_name': 'timm/eva02_tiny_patch14_224.mim_in22k', 'seed': 3233}, 'exp37': {'ATE': -0.03989378447904758, 'batch_size': 32, 'desc': 'con:sharpness_ave, treat: 0.8, confound: 10.0, aug None', 'epochs': 5, 'model_name': 'timm/eva02_tiny_patch14_224.mim_in22k', 'seed': 3435}, 'exp38': {'ATE': -0.042535736369759984, 'batch_size': 32, 'desc': 'con:sharpness_ave, treat: 0.8, confound: 10.0, aug None', 'epochs': 5, 'model_name': 'timm/eva02_tiny_patch14_224.mim_in22k', 'seed': 3637}, 'exp39': {'ATE': -0.08337003185194419, 'batch_size': 32, 'desc': 'con:sharpness_ave, treat: 0.8, confound: 10.0, aug None', 'epochs': 5, 'model_name': 'timm/eva02_tiny_patch14_224.mim_in22k', 'seed': 3839}, 'exp4': {'ATE': -0.01371428098802067, 'batch_size': 32, 'desc': 'con:sharpness_ave, treat: 0.8, confound: 10.0, aug None', 'epochs': 3, 'model_name': 'timm/eva02_tiny_patch14_224.mim_in22k', 'seed': 789}, 'exp40': {'ATE': -0.07649893126039278, 'batch_size': 32, 'desc': 'con:sharpness_ave, treat: 0.8, confound: 10.0, aug None', 'epochs': 5, 'model_name': 'timm/eva02_tiny_patch14_224.mim_in22k', 'seed': 4041}, 'exp41': {'ATE': -0.14892742199344125, 'batch_size': 32, 'desc': 'con:sharpness_ave, treat: 0.8, confound: 10.0, aug None', 'epochs': 3, 'model_name': 'timm/efficientvit_m2.r224_in1k', 'seed': 42}, 'exp42': {'ATE': -0.25493131266402214, 'batch_size': 32, 'desc': 'con:sharpness_ave, treat: 0.8, confound: 10.0, aug None', 'epochs': 3, 'model_name': 'timm/efficientvit_m2.r224_in1k', 'seed': 123}, 'exp43': {'ATE': -0.10485273135388296, 'batch_size': 32, 'desc': 'con:sharpness_ave, treat: 0.8, confound: 10.0, aug None', 'epochs': 3, 'model_name': 'timm/efficientvit_m2.r224_in1k', 'seed': 456}, 'exp44': {'ATE': -0.22009496167710862, 'batch_size': 32, 'desc': 'con:sharpness_ave, treat: 0.8, confound: 10.0, aug None', 'epochs': 3, 'model_name': 'timm/efficientvit_m2.r224_in1k', 'seed': 789}, 'exp45': {'ATE': -0.0033590628590743923, 'batch_size': 32, 'desc': 'con:sharpness_ave, treat: 0.8, confound: 10.0, aug None', 'epochs': 3, 'model_name': 'timm/efficientvit_m2.r224_in1k', 'seed': 1011}, 'exp46': {'ATE': -0.2503693218854399, 'batch_size': 32, 'desc': 'con:sharpness_ave, treat: 0.8, confound: 10.0, aug None', 'epochs': 3, 'model_name': 'timm/efficientvit_m2.r224_in1k', 'seed': 1213}, 'exp47': {'ATE': -0.2206963561530181, 'batch_size': 32, 'desc': 'con:sharpness_ave, treat: 0.8, confound: 10.0, aug None', 'epochs': 3, 'model_name': 'timm/efficientvit_m2.r224_in1k', 'seed': 1415}, 'exp48': {'ATE': -0.03371206492568711, 'batch_size': 32, 'desc': 'con:sharpness_ave, treat: 0.8, confound: 10.0, aug None', 'epochs': 3, 'model_name': 'timm/efficientvit_m2.r224_in1k', 'seed': 1617}, 'exp49': {'ATE': -0.1713924729849206, 'batch_size': 32, 'desc': 'con:sharpness_ave, treat: 0.8, confound: 10.0, aug None', 'epochs': 3, 'model_name': 'timm/efficientvit_m2.r224_in1k', 'seed': 1819}, 'exp5': {'ATE': -0.07519094077866455, 'batch_size': 32, 'desc': 'con:sharpness_ave, treat: 0.8, confound: 10.0, aug None', 'epochs': 3, 'model_name': 'timm/eva02_tiny_patch14_224.mim_in22k', 'seed': 1011}, 'exp50': {'ATE': -0.03168148698366741, 'batch_size': 32, 'desc': 'con:sharpness_ave, treat: 0.8, confound: 10.0, aug None', 'epochs': 3, 'model_name': 'timm/efficientvit_m2.r224_in1k', 'seed': 2021}, 'exp51': {'ATE': -0.13927387316686468, 'batch_size': 32, 'desc': 'con:sharpness_ave, treat: 0.8, confound: 10.0, aug None', 'epochs': 3, 'model_name': 'timm/efficientvit_m2.r224_in1k', 'seed': 2223}, 'exp52': {'ATE': -0.01845366137521384, 'batch_size': 32, 'desc': 'con:sharpness_ave, treat: 0.8, confound: 10.0, aug None', 'epochs': 3, 'model_name': 'timm/efficientvit_m2.r224_in1k', 'seed': 2425}, 'exp53': {'ATE': -0.17892580600844343, 'batch_size': 32, 'desc': 'con:sharpness_ave, treat: 0.8, confound: 10.0, aug None', 'epochs': 3, 'model_name': 'timm/efficientvit_m2.r224_in1k', 'seed': 2627}, 'exp54': {'ATE': -0.17070672870095344, 'batch_size': 32, 'desc': 'con:sharpness_ave, treat: 0.8, confound: 10.0, aug None', 'epochs': 3, 'model_name': 'timm/efficientvit_m2.r224_in1k', 'seed': 2829}, 'exp55': {'ATE': -0.1982761013419864, 'batch_size': 32, 'desc': 'con:sharpness_ave, treat: 0.8, confound: 10.0, aug None', 'epochs': 3, 'model_name': 'timm/efficientvit_m2.r224_in1k', 'seed': 3031}, 'exp56': {'ATE': -0.2673105805393012, 'batch_size': 32, 'desc': 'con:sharpness_ave, treat: 0.8, confound: 10.0, aug None', 'epochs': 3, 'model_name': 'timm/efficientvit_m2.r224_in1k', 'seed': 3233}, 'exp57': {'ATE': -0.16472472515013648, 'batch_size': 32, 'desc': 'con:sharpness_ave, treat: 0.8, confound: 10.0, aug None', 'epochs': 3, 'model_name': 'timm/efficientvit_m2.r224_in1k', 'seed': 3435}, 'exp58': {'ATE': -0.19424376246601366, 'batch_size': 32, 'desc': 'con:sharpness_ave, treat: 0.8, confound: 10.0, aug None', 'epochs': 3, 'model_name': 'timm/efficientvit_m2.r224_in1k', 'seed': 3637}, 'exp59': {'ATE': 0.02690975988919413, 'batch_size': 32, 'desc': 'con:sharpness_ave, treat: 0.8, confound: 10.0, aug None', 'epochs': 3, 'model_name': 'timm/efficientvit_m2.r224_in1k', 'seed': 3839}, 'exp6': {'ATE': -0.07948421206045972, 'batch_size': 32, 'desc': 'con:sharpness_ave, treat: 0.8, confound: 10.0, aug None', 'epochs': 3, 'model_name': 'timm/eva02_tiny_patch14_224.mim_in22k', 'seed': 1213}, 'exp60': {'ATE': -0.2525416314423851, 'batch_size': 32, 'desc': 'con:sharpness_ave, treat: 0.8, confound: 10.0, aug None', 'epochs': 3, 'model_name': 'timm/efficientvit_m2.r224_in1k', 'seed': 4041}, 'exp61': {'ATE': -0.18793204117332105, 'batch_size': 32, 'desc': 'con:sharpness_ave, treat: 0.8, confound: 10.0, aug None', 'epochs': 5, 'model_name': 'timm/efficientvit_m2.r224_in1k', 'seed': 42}, 'exp62': {'ATE': -0.16487515333264693, 'batch_size': 32, 'desc': 'con:sharpness_ave, treat: 0.8, confound: 10.0, aug None', 'epochs': 5, 'model_name': 'timm/efficientvit_m2.r224_in1k', 'seed': 123}, 'exp63': {'ATE': -0.16690838917984466, 'batch_size': 32, 'desc': 'con:sharpness_ave, treat: 0.8, confound: 10.0, aug None', 'epochs': 5, 'model_name': 'timm/efficientvit_m2.r224_in1k', 'seed': 456}, 'exp64': {'ATE': -0.15676788156370858, 'batch_size': 32, 'desc': 'con:sharpness_ave, treat: 0.8, confound: 10.0, aug None', 'epochs': 5, 'model_name': 'timm/efficientvit_m2.r224_in1k', 'seed': 789}, 'exp65': {'ATE': -0.027363495413061774, 'batch_size': 32, 'desc': 'con:sharpness_ave, treat: 0.8, confound: 10.0, aug None', 'epochs': 5, 'model_name': 'timm/efficientvit_m2.r224_in1k', 'seed': 1011}, 'exp66': {'ATE': -0.13222546889248576, 'batch_size': 32, 'desc': 'con:sharpness_ave, treat: 0.8, confound: 10.0, aug None', 'epochs': 5, 'model_name': 'timm/efficientvit_m2.r224_in1k', 'seed': 1213}, 'exp67': {'ATE': -0.19142252151639647, 'batch_size': 32, 'desc': 'con:sharpness_ave, treat: 0.8, confound: 10.0, aug None', 'epochs': 5, 'model_name': 'timm/efficientvit_m2.r224_in1k', 'seed': 1415}, 'exp68': {'ATE': -0.051575359693410865, 'batch_size': 32, 'desc': 'con:sharpness_ave, treat: 0.8, confound: 10.0, aug None', 'epochs': 5, 'model_name': 'timm/efficientvit_m2.r224_in1k', 'seed': 1617}, 'exp69': {'ATE': -0.20515453255733937, 'batch_size': 32, 'desc': 'con:sharpness_ave, treat: 0.8, confound: 10.0, aug None', 'epochs': 5, 'model_name': 'timm/efficientvit_m2.r224_in1k', 'seed': 1819}, 'exp7': {'ATE': -0.05829412306028175, 'batch_size': 32, 'desc': 'con:sharpness_ave, treat: 0.8, confound: 10.0, aug None', 'epochs': 3, 'model_name': 'timm/eva02_tiny_patch14_224.mim_in22k', 'seed': 1415}, 'exp70': {'ATE': 0.040727301342667194, 'batch_size': 32, 'desc': 'con:sharpness_ave, treat: 0.8, confound: 10.0, aug None', 'epochs': 5, 'model_name': 'timm/efficientvit_m2.r224_in1k', 'seed': 2021}, 'exp71': {'ATE': -0.12915036200374938, 'batch_size': 32, 'desc': 'con:sharpness_ave, treat: 0.8, confound: 10.0, aug None', 'epochs': 5, 'model_name': 'timm/efficientvit_m2.r224_in1k', 'seed': 2223}, 'exp72': {'ATE': -0.027373948353291697, 'batch_size': 32, 'desc': 'con:sharpness_ave, treat: 0.8, confound: 10.0, aug None', 'epochs': 5, 'model_name': 'timm/efficientvit_m2.r224_in1k', 'seed': 2425}, 'exp73': {'ATE': -0.14140756320712328, 'batch_size': 32, 'desc': 'con:sharpness_ave, treat: 0.8, confound: 10.0, aug None', 'epochs': 5, 'model_name': 'timm/efficientvit_m2.r224_in1k', 'seed': 2627}, 'exp74': {'ATE': -0.15981957974775865, 'batch_size': 32, 'desc': 'con:sharpness_ave, treat: 0.8, confound: 10.0, aug None', 'epochs': 5, 'model_name': 'timm/efficientvit_m2.r224_in1k', 'seed': 2829}, 'exp75': {'ATE': -0.1849639914590168, 'batch_size': 32, 'desc': 'con:sharpness_ave, treat: 0.8, confound: 10.0, aug None', 'epochs': 5, 'model_name': 'timm/efficientvit_m2.r224_in1k', 'seed': 3031}, 'exp76': {'ATE': -0.3208685478172777, 'batch_size': 32, 'desc': 'con:sharpness_ave, treat: 0.8, confound: 10.0, aug None', 'epochs': 5, 'model_name': 'timm/efficientvit_m2.r224_in1k', 'seed': 3233}, 'exp77': {'ATE': -0.14704589704613222, 'batch_size': 32, 'desc': 'con:sharpness_ave, treat: 0.8, confound: 10.0, aug None', 'epochs': 5, 'model_name': 'timm/efficientvit_m2.r224_in1k', 'seed': 3435}, 'exp78': {'ATE': -0.16318077466664607, 'batch_size': 32, 'desc': 'con:sharpness_ave, treat: 0.8, confound: 10.0, aug None', 'epochs': 5, 'model_name': 'timm/efficientvit_m2.r224_in1k', 'seed': 3637}, 'exp79': {'ATE': -0.028575171198640625, 'batch_size': 32, 'desc': 'con:sharpness_ave, treat: 0.8, confound: 10.0, aug None', 'epochs': 5, 'model_name': 'timm/efficientvit_m2.r224_in1k', 'seed': 3839}, 'exp8': {'ATE': -0.09511667876728273, 'batch_size': 32, 'desc': 'con:sharpness_ave, treat: 0.8, confound: 10.0, aug None', 'epochs': 3, 'model_name': 'timm/eva02_tiny_patch14_224.mim_in22k', 'seed': 1617}, 'exp80': {'ATE': -0.1468829895785888, 'batch_size': 32, 'desc': 'con:sharpness_ave, treat: 0.8, confound: 10.0, aug None', 'epochs': 5, 'model_name': 'timm/efficientvit_m2.r224_in1k', 'seed': 4041}, 'exp81': {'ATE': -0.12388678601189246, 'batch_size': 32, 'desc': 'con:sharpness_ave, treat: 0.8, confound: 10.0, aug None', 'epochs': 3, 'model_name': 'timm/vit_base_patch32_clip_224.laion2b_ft_in12k_in1k', 'seed': 42}, 'exp82': {'ATE': 0.0797532907519911, 'batch_size': 32, 'desc': 'con:sharpness_ave, treat: 0.8, confound: 10.0, aug None', 'epochs': 3, 'model_name': 'timm/vit_base_patch32_clip_224.laion2b_ft_in12k_in1k', 'seed': 123}, 'exp83': {'ATE': -0.058143104702088534, 'batch_size': 32, 'desc': 'con:sharpness_ave, treat: 0.8, confound: 10.0, aug None', 'epochs': 3, 'model_name': 'timm/vit_base_patch32_clip_224.laion2b_ft_in12k_in1k', 'seed': 456}, 'exp84': {'ATE': -0.13026970425224466, 'batch_size': 32, 'desc': 'con:sharpness_ave, treat: 0.8, confound: 10.0, aug None', 'epochs': 3, 'model_name': 'timm/vit_base_patch32_clip_224.laion2b_ft_in12k_in1k', 'seed': 789}, 'exp85': {'ATE': -0.11085603279596727, 'batch_size': 32, 'desc': 'con:sharpness_ave, treat: 0.8, confound: 10.0, aug None', 'epochs': 3, 'model_name': 'timm/vit_base_patch32_clip_224.laion2b_ft_in12k_in1k', 'seed': 1011}, 'exp86': {'ATE': -0.04679446727395689, 'batch_size': 32, 'desc': 'con:sharpness_ave, treat: 0.8, confound: 10.0, aug None', 'epochs': 3, 'model_name': 'timm/vit_base_patch32_clip_224.laion2b_ft_in12k_in1k', 'seed': 1213}, 'exp87': {'ATE': 0.029443206821269254, 'batch_size': 32, 'desc': 'con:sharpness_ave, treat: 0.8, confound: 10.0, aug None', 'epochs': 3, 'model_name': 'timm/vit_base_patch32_clip_224.laion2b_ft_in12k_in1k', 'seed': 1415}, 'exp88': {'ATE': -0.055492742003807716, 'batch_size': 32, 'desc': 'con:sharpness_ave, treat: 0.8, confound: 10.0, aug None', 'epochs': 3, 'model_name': 'timm/vit_base_patch32_clip_224.laion2b_ft_in12k_in1k', 'seed': 1617}, 'exp89': {'ATE': -0.03437263484567574, 'batch_size': 32, 'desc': 'con:sharpness_ave, treat: 0.8, confound: 10.0, aug None', 'epochs': 3, 'model_name': 'timm/vit_base_patch32_clip_224.laion2b_ft_in12k_in1k', 'seed': 1819}, 'exp9': {'ATE': 0.00013635193848619639, 'batch_size': 32, 'desc': 'con:sharpness_ave, treat: 0.8, confound: 10.0, aug None', 'epochs': 3, 'model_name': 'timm/eva02_tiny_patch14_224.mim_in22k', 'seed': 1819}, 'exp90': {'ATE': 0.007703528658296387, 'batch_size': 32, 'desc': 'con:sharpness_ave, treat: 0.8, confound: 10.0, aug None', 'epochs': 3, 'model_name': 'timm/vit_base_patch32_clip_224.laion2b_ft_in12k_in1k', 'seed': 2021}, 'exp91': {'ATE': 0.03651352937180722, 'batch_size': 32, 'desc': 'con:sharpness_ave, treat: 0.8, confound: 10.0, aug None', 'epochs': 3, 'model_name': 'timm/vit_base_patch32_clip_224.laion2b_ft_in12k_in1k', 'seed': 2223}, 'exp92': {'ATE': -0.008305691397796706, 'batch_size': 32, 'desc': 'con:sharpness_ave, treat: 0.8, confound: 10.0, aug None', 'epochs': 3, 'model_name': 'timm/vit_base_patch32_clip_224.laion2b_ft_in12k_in1k', 'seed': 2425}, 'exp93': {'ATE': -0.030044673048658106, 'batch_size': 32, 'desc': 'con:sharpness_ave, treat: 0.8, confound: 10.0, aug None', 'epochs': 3, 'model_name': 'timm/vit_base_patch32_clip_224.laion2b_ft_in12k_in1k', 'seed': 2627}, 'exp94': {'ATE': -0.026295237883032826, 'batch_size': 32, 'desc': 'con:sharpness_ave, treat: 0.8, confound: 10.0, aug None', 'epochs': 3, 'model_name': 'timm/vit_base_patch32_clip_224.laion2b_ft_in12k_in1k', 'seed': 2829}, 'exp95': {'ATE': -0.10515512104549224, 'batch_size': 32, 'desc': 'con:sharpness_ave, treat: 0.8, confound: 10.0, aug None', 'epochs': 3, 'model_name': 'timm/vit_base_patch32_clip_224.laion2b_ft_in12k_in1k', 'seed': 3031}, 'exp96': {'ATE': -0.10353733327151705, 'batch_size': 32, 'desc': 'con:sharpness_ave, treat: 0.8, confound: 10.0, aug None', 'epochs': 3, 'model_name': 'timm/vit_base_patch32_clip_224.laion2b_ft_in12k_in1k', 'seed': 3233}, 'exp97': {'ATE': -0.06090529079221875, 'batch_size': 32, 'desc': 'con:sharpness_ave, treat: 0.8, confound: 10.0, aug None', 'epochs': 3, 'model_name': 'timm/vit_base_patch32_clip_224.laion2b_ft_in12k_in1k', 'seed': 3435}, 'exp98': {'ATE': -0.024445828170300794, 'batch_size': 32, 'desc': 'con:sharpness_ave, treat: 0.8, confound: 10.0, aug None', 'epochs': 3, 'model_name': 'timm/vit_base_patch32_clip_224.laion2b_ft_in12k_in1k', 'seed': 3637}, 'exp99': {'ATE': -0.08321521886925728, 'batch_size': 32, 'desc': 'con:sharpness_ave, treat: 0.8, confound: 10.0, aug None', 'epochs': 3, 'model_name': 'timm/vit_base_patch32_clip_224.laion2b_ft_in12k_in1k', 'seed': 3839}}\n"
     ]
    }
   ],
   "source": [
    "import yaml \n",
    "with open(\"/root/graduation_thetis/causal-bert-pytorch/run/result/[1202]seed_everything_appliance_sharpness_ave_none.yaml\",'r') as yml:\n",
    "    yaml_data = yaml.safe_load(yml)\n",
    "print(yaml_data)"
   ]
  },
  {
   "cell_type": "code",
   "execution_count": 2,
   "metadata": {},
   "outputs": [
    {
     "name": "stdout",
     "output_type": "stream",
     "text": [
      "eva_ate -0.056083535209342304 0.03364998191732666\n",
      "vit_ate -0.04556121214313324 0.052220201328134534\n",
      "eff_ate -0.1422582667710035 0.08486035404372319\n"
     ]
    }
   ],
   "source": [
    "import numpy as np\n",
    "eva_ate = []\n",
    "vit_ate = []\n",
    "eff_ate = []\n",
    "for k,v in yaml_data.items():\n",
    "    if v['model_name'] == 'timm/eva02_tiny_patch14_224.mim_in22k':\n",
    "        eva_ate.append(v['ATE'])\n",
    "    if v['model_name'] == 'timm/efficientvit_m2.r224_in1k':\n",
    "        eff_ate.append(v['ATE'])\n",
    "    if v['model_name'] == 'timm/vit_base_patch32_clip_224.laion2b_ft_in12k_in1k':\n",
    "        vit_ate.append(v['ATE'])\n",
    "\n",
    "print(\"eva_ate\", np.mean(eva_ate),np.std(eva_ate))\n",
    "print(\"vit_ate\", np.mean(vit_ate),np.std(vit_ate))\n",
    "print(\"eff_ate\", np.mean(eff_ate),np.std(eff_ate))"
   ]
  },
  {
   "cell_type": "code",
   "execution_count": 3,
   "metadata": {},
   "outputs": [
    {
     "name": "stdout",
     "output_type": "stream",
     "text": [
      "eva_ate -0.06402207376521643 0.038995490149490886\n",
      "vit_ate -0.04073008572150494 0.05730979056194454\n",
      "eff_ate -0.1498782151891183 0.0898002888239778\n",
      "eva_ate -0.048144996653468164 0.024858671027783878\n",
      "vit_ate -0.05522346498638987 0.03836646187406765\n",
      "eff_ate -0.13463831835288867 0.07888181207472861\n",
      "eva_ate nan nan\n",
      "vit_ate nan nan\n",
      "eff_ate nan nan\n"
     ]
    },
    {
     "name": "stderr",
     "output_type": "stream",
     "text": [
      "/root/.venv/lib/python3.8/site-packages/numpy/core/fromnumeric.py:3464: RuntimeWarning: Mean of empty slice.\n",
      "  return _methods._mean(a, axis=axis, dtype=dtype,\n",
      "/root/.venv/lib/python3.8/site-packages/numpy/core/_methods.py:192: RuntimeWarning: invalid value encountered in scalar divide\n",
      "  ret = ret.dtype.type(ret / rcount)\n",
      "/root/.venv/lib/python3.8/site-packages/numpy/core/_methods.py:269: RuntimeWarning: Degrees of freedom <= 0 for slice\n",
      "  ret = _var(a, axis=axis, dtype=dtype, out=out, ddof=ddof,\n",
      "/root/.venv/lib/python3.8/site-packages/numpy/core/_methods.py:226: RuntimeWarning: invalid value encountered in divide\n",
      "  arrmean = um.true_divide(arrmean, div, out=arrmean,\n",
      "/root/.venv/lib/python3.8/site-packages/numpy/core/_methods.py:261: RuntimeWarning: invalid value encountered in scalar divide\n",
      "  ret = ret.dtype.type(ret / rcount)\n"
     ]
    }
   ],
   "source": [
    "import numpy as np\n",
    "for epoch in [3,5,10]:\n",
    "        eva_ate, vit_ate, eff_ate = [], [], []\n",
    "        for k, v in yaml_data.items():\n",
    "            if v[\"epochs\"] != epoch:\n",
    "                continue\n",
    "            if v['model_name'] == 'timm/eva02_tiny_patch14_224.mim_in22k':\n",
    "                eva_ate.append(v['ATE'])\n",
    "            elif v['model_name'] == 'timm/efficientvit_m2.r224_in1k':\n",
    "                eff_ate.append(v['ATE'])\n",
    "            elif v['model_name'] == 'timm/vit_base_patch32_clip_224.laion2b_ft_in12k_in1k':\n",
    "                vit_ate.append(v['ATE'])\n",
    "\n",
    "        # ATEの統計量を計算\n",
    "        eva_stats = f\"eva_ate: mean={np.mean(eva_ate):.4f}, std={np.std(eva_ate):.4f}\"\n",
    "        vit_stats = f\"vit_ate: mean={np.mean(vit_ate):.4f}, std={np.std(vit_ate):.4f}\"\n",
    "        eff_stats = f\"eff_ate: mean={np.mean(eff_ate):.4f}, std={np.std(eff_ate):.4f}\"\n",
    "        print(\"eva_ate\", np.mean(eva_ate),np.std(eva_ate))\n",
    "        print(\"vit_ate\", np.mean(vit_ate),np.std(vit_ate))\n",
    "        print(\"eff_ate\", np.mean(eff_ate),np.std(eff_ate))\n"
   ]
  },
  {
   "cell_type": "code",
   "execution_count": 6,
   "metadata": {},
   "outputs": [
    {
     "name": "stdout",
     "output_type": "stream",
     "text": [
      "ATE_unadjusted:  -0.24485774896112988\n",
      "ATE_adjusted:  -0.13700807618489003\n"
     ]
    }
   ],
   "source": [
    "from collections import defaultdict\n",
    "import numpy as np\n",
    "import pandas as pd\n",
    "def ATE_unadjusted(T, Y):\n",
    "    x = defaultdict(list)\n",
    "    for t, y in zip(T, Y):\n",
    "        x[t].append(y)\n",
    "    T0 = np.mean(x[0])\n",
    "    T1 = np.mean(x[1])\n",
    "    return T0 - T1\n",
    "\n",
    "def ATE_adjusted(C, T, Y):\n",
    "    x = defaultdict(list)\n",
    "    for c, t, y in zip(C, T, Y):\n",
    "        x[c, t].append(y)\n",
    "\n",
    "    C0_ATE = np.mean(x[0,0]) - np.mean(x[0,1])\n",
    "    C1_ATE = np.mean(x[1,0]) - np.mean(x[1,1])\n",
    "    return np.mean([C0_ATE, C1_ATE])\n",
    "\n",
    "\n",
    "if __name__ == \"__main__\":\n",
    "    df = pd.read_csv(\"/root/graduation_thetis/causal-bert-pytorch/input/modelinput/Appliances_preprocess_sharpness_ave_t0.8c10.0_1202.csv\")\n",
    "    treatment = \"light_or_dark\"\n",
    "    confounder = \"sharpness_ave\"\n",
    "    outcome = \"outcome\"\n",
    "    T_proxy = \"T_proxy\"\n",
    "    print(\"ATE_unadjusted: \", ATE_unadjusted(df[T_proxy], df[outcome]))\n",
    "    print(\"ATE_adjusted: \", ATE_adjusted(df[confounder], df[treatment],df[outcome]))"
   ]
  },
  {
   "cell_type": "code",
   "execution_count": 6,
   "metadata": {},
   "outputs": [
    {
     "data": {
      "text/plain": [
       "contains_text\n",
       "0    4397\n",
       "1     511\n",
       "Name: count, dtype: int64"
      ]
     },
     "execution_count": 6,
     "metadata": {},
     "output_type": "execute_result"
    }
   ],
   "source": [
    "df[confounder].value_counts()"
   ]
  },
  {
   "cell_type": "code",
   "execution_count": null,
   "metadata": {},
   "outputs": [],
   "source": []
  }
 ],
 "metadata": {
  "kernelspec": {
   "display_name": ".venv",
   "language": "python",
   "name": "python3"
  },
  "language_info": {
   "codemirror_mode": {
    "name": "ipython",
    "version": 3
   },
   "file_extension": ".py",
   "mimetype": "text/x-python",
   "name": "python",
   "nbconvert_exporter": "python",
   "pygments_lexer": "ipython3",
   "version": "3.8.10"
  }
 },
 "nbformat": 4,
 "nbformat_minor": 2
}
