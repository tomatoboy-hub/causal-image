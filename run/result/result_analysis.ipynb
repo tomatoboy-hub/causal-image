{
 "cells": [
  {
   "cell_type": "code",
   "execution_count": 1,
   "metadata": {},
   "outputs": [
    {
     "name": "stdout",
     "output_type": "stream",
     "text": [
      "{'exp1': {'ATE': -0.036759028328359734, 'batch_size': 32, 'epochs': 3, 'model_name': 'timm/eva02_tiny_patch14_224.mim_in22k', 'seed': 42}, 'exp10': {'ATE': -0.009212101353149788, 'batch_size': 32, 'epochs': 3, 'model_name': 'timm/eva02_tiny_patch14_224.mim_in22k', 'seed': 2021}, 'exp11': {'ATE': -0.05140183082680351, 'batch_size': 32, 'epochs': 3, 'model_name': 'timm/eva02_tiny_patch14_224.mim_in22k', 'seed': 2223}, 'exp12': {'ATE': -0.021550280614387674, 'batch_size': 32, 'epochs': 3, 'model_name': 'timm/eva02_tiny_patch14_224.mim_in22k', 'seed': 2425}, 'exp13': {'ATE': -0.052258133462569134, 'batch_size': 32, 'epochs': 3, 'model_name': 'timm/eva02_tiny_patch14_224.mim_in22k', 'seed': 2627}, 'exp14': {'ATE': -0.035982462214186356, 'batch_size': 32, 'epochs': 3, 'model_name': 'timm/eva02_tiny_patch14_224.mim_in22k', 'seed': 2829}, 'exp15': {'ATE': -0.01695795034570336, 'batch_size': 32, 'epochs': 3, 'model_name': 'timm/eva02_tiny_patch14_224.mim_in22k', 'seed': 3031}, 'exp16': {'ATE': 0.02277235696350424, 'batch_size': 32, 'epochs': 3, 'model_name': 'timm/eva02_tiny_patch14_224.mim_in22k', 'seed': 3233}, 'exp17': {'ATE': 0.010244521158139716, 'batch_size': 32, 'epochs': 3, 'model_name': 'timm/eva02_tiny_patch14_224.mim_in22k', 'seed': 3435}, 'exp18': {'ATE': -0.011439002604501484, 'batch_size': 32, 'epochs': 3, 'model_name': 'timm/eva02_tiny_patch14_224.mim_in22k', 'seed': 3637}, 'exp19': {'ATE': -0.020792501708435964, 'batch_size': 32, 'epochs': 3, 'model_name': 'timm/eva02_tiny_patch14_224.mim_in22k', 'seed': 3839}, 'exp2': {'ATE': 0.0011088319470384299, 'batch_size': 32, 'epochs': 3, 'model_name': 'timm/eva02_tiny_patch14_224.mim_in22k', 'seed': 123}, 'exp20': {'ATE': -0.06284886944668772, 'batch_size': 32, 'epochs': 3, 'model_name': 'timm/eva02_tiny_patch14_224.mim_in22k', 'seed': 4041}, 'exp21': {'ATE': -0.06072032836576641, 'batch_size': 32, 'epochs': 3, 'model_name': 'timm/efficientvit_m2.r224_in1k', 'seed': 42}, 'exp22': {'ATE': -0.027837979069899647, 'batch_size': 32, 'epochs': 3, 'model_name': 'timm/efficientvit_m2.r224_in1k', 'seed': 123}, 'exp23': {'ATE': -0.06143338808506806, 'batch_size': 32, 'epochs': 3, 'model_name': 'timm/efficientvit_m2.r224_in1k', 'seed': 456}, 'exp24': {'ATE': -0.039520790860785124, 'batch_size': 32, 'epochs': 3, 'model_name': 'timm/efficientvit_m2.r224_in1k', 'seed': 789}, 'exp25': {'ATE': -0.0096290981210681, 'batch_size': 32, 'epochs': 3, 'model_name': 'timm/efficientvit_m2.r224_in1k', 'seed': 1011}, 'exp26': {'ATE': -0.062004664132283574, 'batch_size': 32, 'epochs': 3, 'model_name': 'timm/efficientvit_m2.r224_in1k', 'seed': 1213}, 'exp27': {'ATE': -0.024503782143942693, 'batch_size': 32, 'epochs': 3, 'model_name': 'timm/efficientvit_m2.r224_in1k', 'seed': 1415}, 'exp28': {'ATE': 0.07505860231156403, 'batch_size': 32, 'epochs': 3, 'model_name': 'timm/efficientvit_m2.r224_in1k', 'seed': 1617}, 'exp29': {'ATE': -0.07255263371294635, 'batch_size': 32, 'epochs': 3, 'model_name': 'timm/efficientvit_m2.r224_in1k', 'seed': 1819}, 'exp3': {'ATE': -0.0454541179877306, 'batch_size': 32, 'epochs': 3, 'model_name': 'timm/eva02_tiny_patch14_224.mim_in22k', 'seed': 456}, 'exp30': {'ATE': 0.007969195453325714, 'batch_size': 32, 'epochs': 3, 'model_name': 'timm/efficientvit_m2.r224_in1k', 'seed': 2021}, 'exp31': {'ATE': -0.00229542398672842, 'batch_size': 32, 'epochs': 3, 'model_name': 'timm/efficientvit_m2.r224_in1k', 'seed': 2223}, 'exp32': {'ATE': 0.019325389631969416, 'batch_size': 32, 'epochs': 3, 'model_name': 'timm/efficientvit_m2.r224_in1k', 'seed': 2425}, 'exp33': {'ATE': -0.0289682663333209, 'batch_size': 32, 'epochs': 3, 'model_name': 'timm/efficientvit_m2.r224_in1k', 'seed': 2627}, 'exp34': {'ATE': -0.05109004086823189, 'batch_size': 32, 'epochs': 3, 'model_name': 'timm/efficientvit_m2.r224_in1k', 'seed': 2829}, 'exp35': {'ATE': -0.06677054849971117, 'batch_size': 32, 'epochs': 3, 'model_name': 'timm/efficientvit_m2.r224_in1k', 'seed': 3031}, 'exp36': {'ATE': -0.07101811196101486, 'batch_size': 32, 'epochs': 3, 'model_name': 'timm/efficientvit_m2.r224_in1k', 'seed': 3233}, 'exp37': {'ATE': -0.039630830207074454, 'batch_size': 32, 'epochs': 3, 'model_name': 'timm/efficientvit_m2.r224_in1k', 'seed': 3435}, 'exp38': {'ATE': -0.022719928707285345, 'batch_size': 32, 'epochs': 3, 'model_name': 'timm/efficientvit_m2.r224_in1k', 'seed': 3637}, 'exp39': {'ATE': 0.008673902464036156, 'batch_size': 32, 'epochs': 3, 'model_name': 'timm/efficientvit_m2.r224_in1k', 'seed': 3839}, 'exp4': {'ATE': -0.005470608311319286, 'batch_size': 32, 'epochs': 3, 'model_name': 'timm/eva02_tiny_patch14_224.mim_in22k', 'seed': 789}, 'exp40': {'ATE': 0.005277947701532999, 'batch_size': 32, 'epochs': 3, 'model_name': 'timm/efficientvit_m2.r224_in1k', 'seed': 4041}, 'exp41': {'ATE': -0.033160578507358277, 'batch_size': 32, 'epochs': 3, 'model_name': 'timm/vit_base_patch32_clip_224.laion2b_ft_in12k_in1k', 'seed': 42}, 'exp42': {'ATE': -0.09435489567209532, 'batch_size': 32, 'epochs': 3, 'model_name': 'timm/vit_base_patch32_clip_224.laion2b_ft_in12k_in1k', 'seed': 123}, 'exp43': {'ATE': 0.023286254835983157, 'batch_size': 32, 'epochs': 3, 'model_name': 'timm/vit_base_patch32_clip_224.laion2b_ft_in12k_in1k', 'seed': 456}, 'exp44': {'ATE': -0.004723732544208718, 'batch_size': 32, 'epochs': 3, 'model_name': 'timm/vit_base_patch32_clip_224.laion2b_ft_in12k_in1k', 'seed': 789}, 'exp45': {'ATE': -0.006782068714166993, 'batch_size': 32, 'epochs': 3, 'model_name': 'timm/vit_base_patch32_clip_224.laion2b_ft_in12k_in1k', 'seed': 1011}, 'exp46': {'ATE': 0.013286814889527399, 'batch_size': 32, 'epochs': 3, 'model_name': 'timm/vit_base_patch32_clip_224.laion2b_ft_in12k_in1k', 'seed': 1213}, 'exp47': {'ATE': 0.021858521647111558, 'batch_size': 32, 'epochs': 3, 'model_name': 'timm/vit_base_patch32_clip_224.laion2b_ft_in12k_in1k', 'seed': 1415}, 'exp48': {'ATE': -0.011798873125620191, 'batch_size': 32, 'epochs': 3, 'model_name': 'timm/vit_base_patch32_clip_224.laion2b_ft_in12k_in1k', 'seed': 1617}, 'exp49': {'ATE': 0.030916940871729408, 'batch_size': 32, 'epochs': 3, 'model_name': 'timm/vit_base_patch32_clip_224.laion2b_ft_in12k_in1k', 'seed': 1819}, 'exp5': {'ATE': 0.03330417100322496, 'batch_size': 32, 'epochs': 3, 'model_name': 'timm/eva02_tiny_patch14_224.mim_in22k', 'seed': 1011}, 'exp50': {'ATE': -0.03925807271064577, 'batch_size': 32, 'epochs': 3, 'model_name': 'timm/vit_base_patch32_clip_224.laion2b_ft_in12k_in1k', 'seed': 2021}, 'exp51': {'ATE': 0.026896038440895532, 'batch_size': 32, 'epochs': 3, 'model_name': 'timm/vit_base_patch32_clip_224.laion2b_ft_in12k_in1k', 'seed': 2223}, 'exp52': {'ATE': 0.03133789724982051, 'batch_size': 32, 'epochs': 3, 'model_name': 'timm/vit_base_patch32_clip_224.laion2b_ft_in12k_in1k', 'seed': 2425}, 'exp53': {'ATE': 0.054266015854818425, 'batch_size': 32, 'epochs': 3, 'model_name': 'timm/vit_base_patch32_clip_224.laion2b_ft_in12k_in1k', 'seed': 2627}, 'exp54': {'ATE': 0.06406434815303952, 'batch_size': 32, 'epochs': 3, 'model_name': 'timm/vit_base_patch32_clip_224.laion2b_ft_in12k_in1k', 'seed': 2829}, 'exp55': {'ATE': -0.046695229247907595, 'batch_size': 32, 'epochs': 3, 'model_name': 'timm/vit_base_patch32_clip_224.laion2b_ft_in12k_in1k', 'seed': 3031}, 'exp56': {'ATE': 0.00504952661083549, 'batch_size': 32, 'epochs': 3, 'model_name': 'timm/vit_base_patch32_clip_224.laion2b_ft_in12k_in1k', 'seed': 3233}, 'exp57': {'ATE': 0.015907114884231122, 'batch_size': 32, 'epochs': 3, 'model_name': 'timm/vit_base_patch32_clip_224.laion2b_ft_in12k_in1k', 'seed': 3435}, 'exp58': {'ATE': -0.014211597975199894, 'batch_size': 32, 'epochs': 3, 'model_name': 'timm/vit_base_patch32_clip_224.laion2b_ft_in12k_in1k', 'seed': 3637}, 'exp59': {'ATE': 0.03187178665717926, 'batch_size': 32, 'epochs': 3, 'model_name': 'timm/vit_base_patch32_clip_224.laion2b_ft_in12k_in1k', 'seed': 3839}, 'exp6': {'ATE': -0.04575285040461751, 'batch_size': 32, 'epochs': 3, 'model_name': 'timm/eva02_tiny_patch14_224.mim_in22k', 'seed': 1213}, 'exp60': {'ATE': -0.0031933390546119078, 'batch_size': 32, 'epochs': 3, 'model_name': 'timm/vit_base_patch32_clip_224.laion2b_ft_in12k_in1k', 'seed': 4041}, 'exp7': {'ATE': -0.004846062246732731, 'batch_size': 32, 'epochs': 3, 'model_name': 'timm/eva02_tiny_patch14_224.mim_in22k', 'seed': 1415}, 'exp8': {'ATE': -0.00882568179634151, 'batch_size': 32, 'epochs': 3, 'model_name': 'timm/eva02_tiny_patch14_224.mim_in22k', 'seed': 1617}, 'exp9': {'ATE': 0.02803119772225316, 'batch_size': 32, 'epochs': 3, 'model_name': 'timm/eva02_tiny_patch14_224.mim_in22k', 'seed': 1819}}\n"
     ]
    }
   ],
   "source": [
    "import yaml \n",
    "with open(\"/root/graduation_thetis/causal-bert-pytorch/run/result/[1125]seed_everything_appliance_contain_text_aug_proxy.yaml\",'r') as yml:\n",
    "    yaml_data = yaml.safe_load(yml)\n",
    "print(yaml_data)"
   ]
  },
  {
   "cell_type": "code",
   "execution_count": 2,
   "metadata": {},
   "outputs": [
    {
     "name": "stdout",
     "output_type": "stream",
     "text": [
      "eva_ate -0.016704520142868294 0.0270172110958694\n",
      "vit_ate 0.0032281436271678356 0.036150152988542975\n",
      "eff_ate -0.026219538874634928 0.03678815214176488\n"
     ]
    }
   ],
   "source": [
    "import numpy as np\n",
    "eva_ate = []\n",
    "vit_ate = []\n",
    "eff_ate = []\n",
    "for k,v in yaml_data.items():\n",
    "    if v['model_name'] == 'timm/eva02_tiny_patch14_224.mim_in22k':\n",
    "        eva_ate.append(v['ATE'])\n",
    "    if v['model_name'] == 'timm/efficientvit_m2.r224_in1k':\n",
    "        eff_ate.append(v['ATE'])\n",
    "    if v['model_name'] == 'timm/vit_base_patch32_clip_224.laion2b_ft_in12k_in1k':\n",
    "        vit_ate.append(v['ATE'])\n",
    "\n",
    "print(\"eva_ate\", np.mean(eva_ate),np.std(eva_ate))\n",
    "print(\"vit_ate\", np.mean(vit_ate),np.std(vit_ate))\n",
    "print(\"eff_ate\", np.mean(eff_ate),np.std(eff_ate))"
   ]
  },
  {
   "cell_type": "code",
   "execution_count": 4,
   "metadata": {},
   "outputs": [
    {
     "name": "stdout",
     "output_type": "stream",
     "text": [
      "ATE_unadjusted:  -0.061316835260115665\n",
      "ATE_adjusted:  -0.17033347657838963\n"
     ]
    }
   ],
   "source": [
    "from collections import defaultdict\n",
    "import numpy as np\n",
    "import pandas as pd\n",
    "def ATE_unadjusted(T, Y):\n",
    "    x = defaultdict(list)\n",
    "    for t, y in zip(T, Y):\n",
    "        x[t].append(y)\n",
    "    T0 = np.mean(x[0])\n",
    "    T1 = np.mean(x[1])\n",
    "    return T0 - T1\n",
    "\n",
    "def ATE_adjusted(C, T, Y):\n",
    "    x = defaultdict(list)\n",
    "    for c, t, y in zip(C, T, Y):\n",
    "        x[c, t].append(y)\n",
    "\n",
    "    C0_ATE = np.mean(x[0,0]) - np.mean(x[0,1])\n",
    "    C1_ATE = np.mean(x[1,0]) - np.mean(x[1,1])\n",
    "    return np.mean([C0_ATE, C1_ATE])\n",
    "\n",
    "\n",
    "if __name__ == \"__main__\":\n",
    "    df = pd.read_csv(\"/root/graduation_thetis/causal-bert-pytorch/input/Appliances_preprocess_contains_text_1125.csv\")\n",
    "    treatment = \"light_or_dark\"\n",
    "    confounder = \"contains_text\"\n",
    "    outcome = \"outcome\"\n",
    "    T_proxy = \"T_proxy\"\n",
    "    print(\"ATE_unadjusted: \", ATE_unadjusted(df[T_proxy], df[outcome]))\n",
    "    print(\"ATE_adjusted: \", ATE_adjusted(df[confounder], df[treatment],df[outcome]))"
   ]
  },
  {
   "cell_type": "code",
   "execution_count": 5,
   "metadata": {},
   "outputs": [
    {
     "data": {
      "text/plain": [
       "light_or_dark\n",
       "1    4454\n",
       "0    1462\n",
       "Name: count, dtype: int64"
      ]
     },
     "execution_count": 5,
     "metadata": {},
     "output_type": "execute_result"
    }
   ],
   "source": [
    "df[\"light_or_dark\"].value_counts()"
   ]
  },
  {
   "cell_type": "code",
   "execution_count": null,
   "metadata": {},
   "outputs": [],
   "source": []
  }
 ],
 "metadata": {
  "kernelspec": {
   "display_name": ".venv",
   "language": "python",
   "name": "python3"
  },
  "language_info": {
   "codemirror_mode": {
    "name": "ipython",
    "version": 3
   },
   "file_extension": ".py",
   "mimetype": "text/x-python",
   "name": "python",
   "nbconvert_exporter": "python",
   "pygments_lexer": "ipython3",
   "version": "3.8.10"
  }
 },
 "nbformat": 4,
 "nbformat_minor": 2
}
